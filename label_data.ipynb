{
 "cells": [
  {
   "cell_type": "markdown",
   "metadata": {},
   "source": [
    "> The aim of this notebook is to process the labeled dataset."
   ]
  },
  {
   "cell_type": "markdown",
   "metadata": {},
   "source": [
    "> Please run every cell only once."
   ]
  },
  {
   "cell_type": "code",
   "execution_count": 404,
   "metadata": {},
   "outputs": [],
   "source": [
    "import pandas as pd \n",
    "import numpy as np\n",
    "from Bio import SeqIO\n",
    "import shutil"
   ]
  },
  {
   "cell_type": "markdown",
   "metadata": {},
   "source": [
    "### 1. Data Loading"
   ]
  },
  {
   "cell_type": "code",
   "execution_count": 405,
   "metadata": {},
   "outputs": [],
   "source": [
    "dataset = pd.read_excel('original_data/Supervised_training_data.xlsx')\n",
    "\n",
    "fasta_file = 'original_data/EL222.fa'\n",
    "sequences = list(SeqIO.parse(fasta_file, 'fasta'))"
   ]
  },
  {
   "cell_type": "markdown",
   "metadata": {},
   "source": [
    "### 2. First Glance"
   ]
  },
  {
   "cell_type": "code",
   "execution_count": 406,
   "metadata": {},
   "outputs": [
    {
     "data": {
      "text/html": [
       "<div>\n",
       "<style scoped>\n",
       "    .dataframe tbody tr th:only-of-type {\n",
       "        vertical-align: middle;\n",
       "    }\n",
       "\n",
       "    .dataframe tbody tr th {\n",
       "        vertical-align: top;\n",
       "    }\n",
       "\n",
       "    .dataframe thead th {\n",
       "        text-align: right;\n",
       "    }\n",
       "</style>\n",
       "<table border=\"1\" class=\"dataframe\">\n",
       "  <thead>\n",
       "    <tr style=\"text-align: right;\">\n",
       "      <th></th>\n",
       "      <th>Mutation</th>\n",
       "      <th>Light</th>\n",
       "      <th>Darkness</th>\n",
       "    </tr>\n",
       "  </thead>\n",
       "  <tbody>\n",
       "    <tr>\n",
       "      <th>0</th>\n",
       "      <td>WT EL222</td>\n",
       "      <td>52.009956</td>\n",
       "      <td>-2.983813</td>\n",
       "    </tr>\n",
       "    <tr>\n",
       "      <th>1</th>\n",
       "      <td>Lys90Glu</td>\n",
       "      <td>-5.717948</td>\n",
       "      <td>0.749374</td>\n",
       "    </tr>\n",
       "    <tr>\n",
       "      <th>2</th>\n",
       "      <td>Asp89Tyr, Lys90Glu</td>\n",
       "      <td>10.860253</td>\n",
       "      <td>9.802956</td>\n",
       "    </tr>\n",
       "    <tr>\n",
       "      <th>3</th>\n",
       "      <td>Pro114Arg</td>\n",
       "      <td>676.570607</td>\n",
       "      <td>36.595275</td>\n",
       "    </tr>\n",
       "    <tr>\n",
       "      <th>4</th>\n",
       "      <td>Cys75Arg</td>\n",
       "      <td>228.129054</td>\n",
       "      <td>152.705591</td>\n",
       "    </tr>\n",
       "  </tbody>\n",
       "</table>\n",
       "</div>"
      ],
      "text/plain": [
       "             Mutation       Light    Darkness\n",
       "0            WT EL222   52.009956   -2.983813\n",
       "1            Lys90Glu   -5.717948    0.749374\n",
       "2  Asp89Tyr, Lys90Glu   10.860253    9.802956\n",
       "3           Pro114Arg  676.570607   36.595275\n",
       "4            Cys75Arg  228.129054  152.705591"
      ]
     },
     "execution_count": 406,
     "metadata": {},
     "output_type": "execute_result"
    }
   ],
   "source": [
    "dataset.head()"
   ]
  },
  {
   "cell_type": "code",
   "execution_count": 407,
   "metadata": {},
   "outputs": [
    {
     "name": "stdout",
     "output_type": "stream",
     "text": [
      "ID: Q2NB98\n",
      "Description: Q2NB98\n",
      "Sequence: MLDMGQDRPIDGSGAPGADDTRVEVQPPAQWVLDLIEASPIASVVSDPRLADNPLIAINQAFTDLTGYSEEECVGRNCRFLAGSGTEPWLTDKIRQGVREHKPVLVEILNYKKDGTPFRNAVLVAPIYDDDDELLYFLGSQVEVDDDQPNMGMARRERAAEMLKTLSPRQLEVTTLVASGLRNKEVAARLGLSEKTVKMHRGLVMEKLNLKTSADLVRIAVEAGI\n"
     ]
    }
   ],
   "source": [
    "# WT sequence\n",
    "\n",
    "for seq_record in sequences:\n",
    "    print(f\"ID: {seq_record.id}\")\n",
    "    print(f\"Description: {seq_record.description}\")\n",
    "    print(f\"Sequence: {seq_record.seq}\")\n",
    "  "
   ]
  },
  {
   "cell_type": "markdown",
   "metadata": {},
   "source": [
    "### 3. Let's get the processing started"
   ]
  },
  {
   "cell_type": "code",
   "execution_count": 408,
   "metadata": {},
   "outputs": [],
   "source": [
    "label_dataset = dataset.copy()"
   ]
  },
  {
   "cell_type": "markdown",
   "metadata": {},
   "source": [
    "#### 3.1 'n_mut' column"
   ]
  },
  {
   "cell_type": "code",
   "execution_count": 409,
   "metadata": {},
   "outputs": [
    {
     "name": "stdout",
     "output_type": "stream",
     "text": [
      "(40, 4)\n",
      "(35, 4)\n"
     ]
    }
   ],
   "source": [
    "# Add a column 'n_mut': number of mutations for each protein\n",
    "\n",
    "label_dataset['n_mut'] = label_dataset['Mutation'].apply(lambda x: len(x.split(', ')) if ',' in x else 1)\n",
    "\n",
    "# Only keep single mutants\n",
    "\n",
    "print(label_dataset.shape)\n",
    "label_dataset = label_dataset[1:]\n",
    "label_dataset = label_dataset[label_dataset['n_mut'] == 1]\n",
    "print(label_dataset.shape)"
   ]
  },
  {
   "cell_type": "markdown",
   "metadata": {},
   "source": [
    "#### 3.2 'seq' column"
   ]
  },
  {
   "cell_type": "code",
   "execution_count": 410,
   "metadata": {},
   "outputs": [],
   "source": [
    "# Initialize new 'seq' column\n",
    "\n",
    "wt_seq = 'MLDMGQDRPIDGSGAPGADDTRVEVQPPAQWVLDLIEASPIASVVSDPRLADNPLIAINQAFTDLTGYSEEECVGRNCRFLAGSGTEPWLTDKIRQGVREHKPVLVEILNYKKDGTPFRNAVLVAPIYDDDDELLYFLGSQVEVDDDQPNMGMARRERAAEMLKTLSPRQLEVTTLVASGLRNKEVAARLGLSEKTVKMHRGLVMEKLNLKTSADLVRIAVEAGI'\n",
    "\n",
    "label_dataset['seq'] = wt_seq "
   ]
  },
  {
   "cell_type": "code",
   "execution_count": 411,
   "metadata": {},
   "outputs": [],
   "source": [
    "# Create three new columns for original_aa, position, and mutated_aa\n",
    "\n",
    "label_dataset['original_aa'] = label_dataset['Mutation'].str[0:3]\n",
    "label_dataset['position'] = label_dataset['Mutation'].str[3:-3]\n",
    "label_dataset['mutated_aa'] = label_dataset['Mutation'].str[-3:]\n",
    "label_dataset['position'] = pd.to_numeric(label_dataset['position'], errors='coerce')"
   ]
  },
  {
   "cell_type": "code",
   "execution_count": 412,
   "metadata": {},
   "outputs": [],
   "source": [
    "# Then convert 'original_aa' and 'mutated_aa' into one-letter code\n",
    "\n",
    "aa_mapping = {\n",
    "    'Ala': 'A', 'Arg': 'R', 'Asn': 'N', 'Asp': 'D', 'Cys': 'C', 'Glu': 'E',\n",
    "    'Gln': 'Q', 'Gly': 'G', 'His': 'H', 'Ile': 'I', 'Leu': 'L', 'Lys': 'K',\n",
    "    'Met': 'M', 'Phe': 'F', 'Pro': 'P', 'Ser': 'S', 'Thr': 'T', 'Trp': 'W',\n",
    "    'Tyr': 'Y', 'Val': 'V'\n",
    "}\n",
    "\n",
    "label_dataset['mutated_aa'] = label_dataset['mutated_aa'].apply(lambda x: ''.join(aa_mapping[aa] for aa in x.split(' ')))\n",
    "label_dataset['original_aa'] = label_dataset['original_aa'].apply(lambda x: ''.join(aa_mapping[aa] for aa in x.split(' ')))"
   ]
  },
  {
   "cell_type": "code",
   "execution_count": 413,
   "metadata": {},
   "outputs": [],
   "source": [
    "# We adjust the position because the 'mutation' column is shifted compared to the wild-type (wt) sequence we use as a reference.\n",
    "\n",
    "label_dataset['position'] = label_dataset['position'] + 3"
   ]
  },
  {
   "cell_type": "code",
   "execution_count": 414,
   "metadata": {},
   "outputs": [],
   "source": [
    "# Mutate the 'seq' column accordingly to the given mutation\n",
    "\n",
    "def mutate_sequence(row):\n",
    "    seq, position, mutated_aa, original_aa, mutation = row['seq'], row['position'], row['mutated_aa'], row['original_aa'], row['Mutation']\n",
    "    position -= 1\n",
    "    \n",
    "    if 0 <= position < len(seq):\n",
    "        seq_list = list(seq)\n",
    "        if seq_list[position] == original_aa:\n",
    "            seq_list[position] = mutated_aa\n",
    "        else:\n",
    "            print(f\"Mutation '{mutation}': Original amino acid at position {position + 1} is not {original_aa}. Skipping mutation.\")\n",
    "        return ''.join(seq_list)\n",
    "    else:\n",
    "        print(f\"Mutation '{mutation}': Position {position + 1} is out of bounds. Skipping mutation.\")\n",
    "        return seq  \n",
    "\n",
    "\n",
    "label_dataset['seq'] = label_dataset.apply(mutate_sequence, axis=1)\n"
   ]
  },
  {
   "cell_type": "code",
   "execution_count": 415,
   "metadata": {},
   "outputs": [
    {
     "data": {
      "text/html": [
       "<div>\n",
       "<style scoped>\n",
       "    .dataframe tbody tr th:only-of-type {\n",
       "        vertical-align: middle;\n",
       "    }\n",
       "\n",
       "    .dataframe tbody tr th {\n",
       "        vertical-align: top;\n",
       "    }\n",
       "\n",
       "    .dataframe thead th {\n",
       "        text-align: right;\n",
       "    }\n",
       "</style>\n",
       "<table border=\"1\" class=\"dataframe\">\n",
       "  <thead>\n",
       "    <tr style=\"text-align: right;\">\n",
       "      <th></th>\n",
       "      <th>Mutation</th>\n",
       "      <th>Light</th>\n",
       "      <th>Darkness</th>\n",
       "      <th>n_mut</th>\n",
       "      <th>seq</th>\n",
       "      <th>original_aa</th>\n",
       "      <th>position</th>\n",
       "      <th>mutated_aa</th>\n",
       "    </tr>\n",
       "  </thead>\n",
       "  <tbody>\n",
       "    <tr>\n",
       "      <th>1</th>\n",
       "      <td>Lys90Glu</td>\n",
       "      <td>-5.717948</td>\n",
       "      <td>0.749374</td>\n",
       "      <td>1</td>\n",
       "      <td>MLDMGQDRPIDGSGAPGADDTRVEVQPPAQWVLDLIEASPIASVVS...</td>\n",
       "      <td>K</td>\n",
       "      <td>93</td>\n",
       "      <td>E</td>\n",
       "    </tr>\n",
       "    <tr>\n",
       "      <th>3</th>\n",
       "      <td>Pro114Arg</td>\n",
       "      <td>676.570607</td>\n",
       "      <td>36.595275</td>\n",
       "      <td>1</td>\n",
       "      <td>MLDMGQDRPIDGSGAPGADDTRVEVQPPAQWVLDLIEASPIASVVS...</td>\n",
       "      <td>P</td>\n",
       "      <td>117</td>\n",
       "      <td>R</td>\n",
       "    </tr>\n",
       "    <tr>\n",
       "      <th>4</th>\n",
       "      <td>Cys75Arg</td>\n",
       "      <td>228.129054</td>\n",
       "      <td>152.705591</td>\n",
       "      <td>1</td>\n",
       "      <td>MLDMGQDRPIDGSGAPGADDTRVEVQPPAQWVLDLIEASPIASVVS...</td>\n",
       "      <td>C</td>\n",
       "      <td>78</td>\n",
       "      <td>R</td>\n",
       "    </tr>\n",
       "    <tr>\n",
       "      <th>5</th>\n",
       "      <td>Glu104Gly</td>\n",
       "      <td>363.278645</td>\n",
       "      <td>96.002665</td>\n",
       "      <td>1</td>\n",
       "      <td>MLDMGQDRPIDGSGAPGADDTRVEVQPPAQWVLDLIEASPIASVVS...</td>\n",
       "      <td>E</td>\n",
       "      <td>107</td>\n",
       "      <td>G</td>\n",
       "    </tr>\n",
       "    <tr>\n",
       "      <th>6</th>\n",
       "      <td>Ile105Val</td>\n",
       "      <td>924.137272</td>\n",
       "      <td>22.264132</td>\n",
       "      <td>1</td>\n",
       "      <td>MLDMGQDRPIDGSGAPGADDTRVEVQPPAQWVLDLIEASPIASVVS...</td>\n",
       "      <td>I</td>\n",
       "      <td>108</td>\n",
       "      <td>V</td>\n",
       "    </tr>\n",
       "  </tbody>\n",
       "</table>\n",
       "</div>"
      ],
      "text/plain": [
       "    Mutation       Light    Darkness  n_mut  \\\n",
       "1   Lys90Glu   -5.717948    0.749374      1   \n",
       "3  Pro114Arg  676.570607   36.595275      1   \n",
       "4   Cys75Arg  228.129054  152.705591      1   \n",
       "5  Glu104Gly  363.278645   96.002665      1   \n",
       "6  Ile105Val  924.137272   22.264132      1   \n",
       "\n",
       "                                                 seq original_aa  position  \\\n",
       "1  MLDMGQDRPIDGSGAPGADDTRVEVQPPAQWVLDLIEASPIASVVS...           K        93   \n",
       "3  MLDMGQDRPIDGSGAPGADDTRVEVQPPAQWVLDLIEASPIASVVS...           P       117   \n",
       "4  MLDMGQDRPIDGSGAPGADDTRVEVQPPAQWVLDLIEASPIASVVS...           C        78   \n",
       "5  MLDMGQDRPIDGSGAPGADDTRVEVQPPAQWVLDLIEASPIASVVS...           E       107   \n",
       "6  MLDMGQDRPIDGSGAPGADDTRVEVQPPAQWVLDLIEASPIASVVS...           I       108   \n",
       "\n",
       "  mutated_aa  \n",
       "1          E  \n",
       "3          R  \n",
       "4          R  \n",
       "5          G  \n",
       "6          V  "
      ]
     },
     "execution_count": 415,
     "metadata": {},
     "output_type": "execute_result"
    }
   ],
   "source": [
    "# Few checks\n",
    "\n",
    "label_dataset.head()"
   ]
  },
  {
   "cell_type": "code",
   "execution_count": 416,
   "metadata": {},
   "outputs": [
    {
     "name": "stdout",
     "output_type": "stream",
     "text": [
      "E\n",
      "R\n",
      "R\n",
      "G\n"
     ]
    }
   ],
   "source": [
    "print(label_dataset['seq'].iloc[0][92])\n",
    "print(label_dataset['seq'].iloc[1][116])\n",
    "print(label_dataset['seq'].iloc[2][78])\n",
    "print(label_dataset['seq'].iloc[3][106])"
   ]
  },
  {
   "cell_type": "markdown",
   "metadata": {},
   "source": [
    "#### 3.3 'mutant column'"
   ]
  },
  {
   "cell_type": "code",
   "execution_count": 417,
   "metadata": {},
   "outputs": [
    {
     "name": "stdout",
     "output_type": "stream",
     "text": [
      "1     K93E\n",
      "3    P117R\n",
      "4     C78R\n",
      "Name: mutant, dtype: object\n"
     ]
    }
   ],
   "source": [
    "# Create a 'mutant' column by concatenating original_aa, position, and mutated_aa\n",
    "\n",
    "label_dataset = label_dataset.copy()  \n",
    "label_dataset['mutant'] = label_dataset['original_aa'] + label_dataset['position'].astype(str) + label_dataset['mutated_aa']\n",
    "\n",
    "print(label_dataset['mutant'].iloc[:3])\n"
   ]
  },
  {
   "cell_type": "markdown",
   "metadata": {},
   "source": [
    "### 4. More Data Processing"
   ]
  },
  {
   "cell_type": "markdown",
   "metadata": {},
   "source": [
    "#### 4.1 Removal of extra columns"
   ]
  },
  {
   "cell_type": "code",
   "execution_count": 418,
   "metadata": {},
   "outputs": [
    {
     "data": {
      "text/html": [
       "<div>\n",
       "<style scoped>\n",
       "    .dataframe tbody tr th:only-of-type {\n",
       "        vertical-align: middle;\n",
       "    }\n",
       "\n",
       "    .dataframe tbody tr th {\n",
       "        vertical-align: top;\n",
       "    }\n",
       "\n",
       "    .dataframe thead th {\n",
       "        text-align: right;\n",
       "    }\n",
       "</style>\n",
       "<table border=\"1\" class=\"dataframe\">\n",
       "  <thead>\n",
       "    <tr style=\"text-align: right;\">\n",
       "      <th></th>\n",
       "      <th>Light</th>\n",
       "      <th>Darkness</th>\n",
       "      <th>n_mut</th>\n",
       "      <th>seq</th>\n",
       "      <th>mutant</th>\n",
       "    </tr>\n",
       "  </thead>\n",
       "  <tbody>\n",
       "    <tr>\n",
       "      <th>1</th>\n",
       "      <td>-5.717948</td>\n",
       "      <td>0.749374</td>\n",
       "      <td>1</td>\n",
       "      <td>MLDMGQDRPIDGSGAPGADDTRVEVQPPAQWVLDLIEASPIASVVS...</td>\n",
       "      <td>K93E</td>\n",
       "    </tr>\n",
       "    <tr>\n",
       "      <th>3</th>\n",
       "      <td>676.570607</td>\n",
       "      <td>36.595275</td>\n",
       "      <td>1</td>\n",
       "      <td>MLDMGQDRPIDGSGAPGADDTRVEVQPPAQWVLDLIEASPIASVVS...</td>\n",
       "      <td>P117R</td>\n",
       "    </tr>\n",
       "    <tr>\n",
       "      <th>4</th>\n",
       "      <td>228.129054</td>\n",
       "      <td>152.705591</td>\n",
       "      <td>1</td>\n",
       "      <td>MLDMGQDRPIDGSGAPGADDTRVEVQPPAQWVLDLIEASPIASVVS...</td>\n",
       "      <td>C78R</td>\n",
       "    </tr>\n",
       "    <tr>\n",
       "      <th>5</th>\n",
       "      <td>363.278645</td>\n",
       "      <td>96.002665</td>\n",
       "      <td>1</td>\n",
       "      <td>MLDMGQDRPIDGSGAPGADDTRVEVQPPAQWVLDLIEASPIASVVS...</td>\n",
       "      <td>E107G</td>\n",
       "    </tr>\n",
       "    <tr>\n",
       "      <th>6</th>\n",
       "      <td>924.137272</td>\n",
       "      <td>22.264132</td>\n",
       "      <td>1</td>\n",
       "      <td>MLDMGQDRPIDGSGAPGADDTRVEVQPPAQWVLDLIEASPIASVVS...</td>\n",
       "      <td>I108V</td>\n",
       "    </tr>\n",
       "  </tbody>\n",
       "</table>\n",
       "</div>"
      ],
      "text/plain": [
       "        Light    Darkness  n_mut  \\\n",
       "1   -5.717948    0.749374      1   \n",
       "3  676.570607   36.595275      1   \n",
       "4  228.129054  152.705591      1   \n",
       "5  363.278645   96.002665      1   \n",
       "6  924.137272   22.264132      1   \n",
       "\n",
       "                                                 seq mutant  \n",
       "1  MLDMGQDRPIDGSGAPGADDTRVEVQPPAQWVLDLIEASPIASVVS...   K93E  \n",
       "3  MLDMGQDRPIDGSGAPGADDTRVEVQPPAQWVLDLIEASPIASVVS...  P117R  \n",
       "4  MLDMGQDRPIDGSGAPGADDTRVEVQPPAQWVLDLIEASPIASVVS...   C78R  \n",
       "5  MLDMGQDRPIDGSGAPGADDTRVEVQPPAQWVLDLIEASPIASVVS...  E107G  \n",
       "6  MLDMGQDRPIDGSGAPGADDTRVEVQPPAQWVLDLIEASPIASVVS...  I108V  "
      ]
     },
     "execution_count": 418,
     "metadata": {},
     "output_type": "execute_result"
    }
   ],
   "source": [
    "label_dataset.drop(['mutated_aa', 'position', 'original_aa', 'Mutation'], axis=1, inplace=True)\n",
    "\n",
    "label_dataset.head()"
   ]
  },
  {
   "cell_type": "markdown",
   "metadata": {},
   "source": [
    "#### 4.2 Creation of two separate labeled datasets"
   ]
  },
  {
   "cell_type": "markdown",
   "metadata": {},
   "source": [
    "> We have two fitness labels per mutant: one corresponding to conditions with light and the other to conditions when the protein of interest is in darkness."
   ]
  },
  {
   "cell_type": "code",
   "execution_count": 419,
   "metadata": {},
   "outputs": [
    {
     "data": {
      "text/html": [
       "<div>\n",
       "<style scoped>\n",
       "    .dataframe tbody tr th:only-of-type {\n",
       "        vertical-align: middle;\n",
       "    }\n",
       "\n",
       "    .dataframe tbody tr th {\n",
       "        vertical-align: top;\n",
       "    }\n",
       "\n",
       "    .dataframe thead th {\n",
       "        text-align: right;\n",
       "    }\n",
       "</style>\n",
       "<table border=\"1\" class=\"dataframe\">\n",
       "  <thead>\n",
       "    <tr style=\"text-align: right;\">\n",
       "      <th></th>\n",
       "      <th>Darkness</th>\n",
       "      <th>n_mut</th>\n",
       "      <th>seq</th>\n",
       "      <th>mutant</th>\n",
       "    </tr>\n",
       "  </thead>\n",
       "  <tbody>\n",
       "    <tr>\n",
       "      <th>1</th>\n",
       "      <td>0.749374</td>\n",
       "      <td>1</td>\n",
       "      <td>MLDMGQDRPIDGSGAPGADDTRVEVQPPAQWVLDLIEASPIASVVS...</td>\n",
       "      <td>K93E</td>\n",
       "    </tr>\n",
       "    <tr>\n",
       "      <th>3</th>\n",
       "      <td>36.595275</td>\n",
       "      <td>1</td>\n",
       "      <td>MLDMGQDRPIDGSGAPGADDTRVEVQPPAQWVLDLIEASPIASVVS...</td>\n",
       "      <td>P117R</td>\n",
       "    </tr>\n",
       "  </tbody>\n",
       "</table>\n",
       "</div>"
      ],
      "text/plain": [
       "    Darkness  n_mut                                                seq mutant\n",
       "1   0.749374      1  MLDMGQDRPIDGSGAPGADDTRVEVQPPAQWVLDLIEASPIASVVS...   K93E\n",
       "3  36.595275      1  MLDMGQDRPIDGSGAPGADDTRVEVQPPAQWVLDLIEASPIASVVS...  P117R"
      ]
     },
     "execution_count": 419,
     "metadata": {},
     "output_type": "execute_result"
    }
   ],
   "source": [
    "label_light = label_dataset.copy().drop('Darkness', axis=1)\n",
    "label_darkness = label_dataset.copy().drop('Light', axis=1)\n",
    "\n",
    "label_darkness.head(2)"
   ]
  },
  {
   "cell_type": "markdown",
   "metadata": {},
   "source": [
    "> We rename the corresponding columns to 'log_fitness,' as is done in the Git repository we are using."
   ]
  },
  {
   "cell_type": "code",
   "execution_count": 420,
   "metadata": {},
   "outputs": [
    {
     "data": {
      "text/html": [
       "<div>\n",
       "<style scoped>\n",
       "    .dataframe tbody tr th:only-of-type {\n",
       "        vertical-align: middle;\n",
       "    }\n",
       "\n",
       "    .dataframe tbody tr th {\n",
       "        vertical-align: top;\n",
       "    }\n",
       "\n",
       "    .dataframe thead th {\n",
       "        text-align: right;\n",
       "    }\n",
       "</style>\n",
       "<table border=\"1\" class=\"dataframe\">\n",
       "  <thead>\n",
       "    <tr style=\"text-align: right;\">\n",
       "      <th></th>\n",
       "      <th>log_fitness</th>\n",
       "      <th>n_mut</th>\n",
       "      <th>seq</th>\n",
       "      <th>mutant</th>\n",
       "    </tr>\n",
       "  </thead>\n",
       "  <tbody>\n",
       "    <tr>\n",
       "      <th>1</th>\n",
       "      <td>0.749374</td>\n",
       "      <td>1</td>\n",
       "      <td>MLDMGQDRPIDGSGAPGADDTRVEVQPPAQWVLDLIEASPIASVVS...</td>\n",
       "      <td>K93E</td>\n",
       "    </tr>\n",
       "    <tr>\n",
       "      <th>3</th>\n",
       "      <td>36.595275</td>\n",
       "      <td>1</td>\n",
       "      <td>MLDMGQDRPIDGSGAPGADDTRVEVQPPAQWVLDLIEASPIASVVS...</td>\n",
       "      <td>P117R</td>\n",
       "    </tr>\n",
       "  </tbody>\n",
       "</table>\n",
       "</div>"
      ],
      "text/plain": [
       "   log_fitness  n_mut                                                seq  \\\n",
       "1     0.749374      1  MLDMGQDRPIDGSGAPGADDTRVEVQPPAQWVLDLIEASPIASVVS...   \n",
       "3    36.595275      1  MLDMGQDRPIDGSGAPGADDTRVEVQPPAQWVLDLIEASPIASVVS...   \n",
       "\n",
       "  mutant  \n",
       "1   K93E  \n",
       "3  P117R  "
      ]
     },
     "execution_count": 420,
     "metadata": {},
     "output_type": "execute_result"
    }
   ],
   "source": [
    "label_darkness = label_darkness.rename(columns={'Darkness': 'log_fitness'})\n",
    "label_light = label_light.rename(columns={'Light': 'log_fitness'})\n",
    "\n",
    "label_darkness.head(2)"
   ]
  },
  {
   "cell_type": "markdown",
   "metadata": {},
   "source": [
    "#### 4.3 Log Fitness Adjustments"
   ]
  },
  {
   "cell_type": "markdown",
   "metadata": {},
   "source": [
    "> 'log_fitness' represents the log enrichment ratio, where a higher value indicates better fitness. \n",
    ">\n",
    "> We will do the following transformation: \n",
    ">\n",
    ">`log_fitness = log((fitness_mut - min_all_mutants + 1) / (fitness_wt - min_all_mutants + 1))`\n"
   ]
  },
  {
   "cell_type": "code",
   "execution_count": 421,
   "metadata": {},
   "outputs": [
    {
     "data": {
      "text/html": [
       "<div>\n",
       "<style scoped>\n",
       "    .dataframe tbody tr th:only-of-type {\n",
       "        vertical-align: middle;\n",
       "    }\n",
       "\n",
       "    .dataframe tbody tr th {\n",
       "        vertical-align: top;\n",
       "    }\n",
       "\n",
       "    .dataframe thead th {\n",
       "        text-align: right;\n",
       "    }\n",
       "</style>\n",
       "<table border=\"1\" class=\"dataframe\">\n",
       "  <thead>\n",
       "    <tr style=\"text-align: right;\">\n",
       "      <th></th>\n",
       "      <th>log_fitness</th>\n",
       "      <th>n_mut</th>\n",
       "      <th>seq</th>\n",
       "      <th>mutant</th>\n",
       "    </tr>\n",
       "  </thead>\n",
       "  <tbody>\n",
       "    <tr>\n",
       "      <th>1</th>\n",
       "      <td>0.912759</td>\n",
       "      <td>1</td>\n",
       "      <td>MLDMGQDRPIDGSGAPGADDTRVEVQPPAQWVLDLIEASPIASVVS...</td>\n",
       "      <td>K93E</td>\n",
       "    </tr>\n",
       "    <tr>\n",
       "      <th>3</th>\n",
       "      <td>2.821944</td>\n",
       "      <td>1</td>\n",
       "      <td>MLDMGQDRPIDGSGAPGADDTRVEVQPPAQWVLDLIEASPIASVVS...</td>\n",
       "      <td>P117R</td>\n",
       "    </tr>\n",
       "    <tr>\n",
       "      <th>4</th>\n",
       "      <td>4.146125</td>\n",
       "      <td>1</td>\n",
       "      <td>MLDMGQDRPIDGSGAPGADDTRVEVQPPAQWVLDLIEASPIASVVS...</td>\n",
       "      <td>C78R</td>\n",
       "    </tr>\n",
       "    <tr>\n",
       "      <th>5</th>\n",
       "      <td>3.702270</td>\n",
       "      <td>1</td>\n",
       "      <td>MLDMGQDRPIDGSGAPGADDTRVEVQPPAQWVLDLIEASPIASVVS...</td>\n",
       "      <td>E107G</td>\n",
       "    </tr>\n",
       "    <tr>\n",
       "      <th>6</th>\n",
       "      <td>2.405598</td>\n",
       "      <td>1</td>\n",
       "      <td>MLDMGQDRPIDGSGAPGADDTRVEVQPPAQWVLDLIEASPIASVVS...</td>\n",
       "      <td>I108V</td>\n",
       "    </tr>\n",
       "  </tbody>\n",
       "</table>\n",
       "</div>"
      ],
      "text/plain": [
       "   log_fitness  n_mut                                                seq  \\\n",
       "1     0.912759      1  MLDMGQDRPIDGSGAPGADDTRVEVQPPAQWVLDLIEASPIASVVS...   \n",
       "3     2.821944      1  MLDMGQDRPIDGSGAPGADDTRVEVQPPAQWVLDLIEASPIASVVS...   \n",
       "4     4.146125      1  MLDMGQDRPIDGSGAPGADDTRVEVQPPAQWVLDLIEASPIASVVS...   \n",
       "5     3.702270      1  MLDMGQDRPIDGSGAPGADDTRVEVQPPAQWVLDLIEASPIASVVS...   \n",
       "6     2.405598      1  MLDMGQDRPIDGSGAPGADDTRVEVQPPAQWVLDLIEASPIASVVS...   \n",
       "\n",
       "  mutant  \n",
       "1   K93E  \n",
       "3  P117R  \n",
       "4   C78R  \n",
       "5  E107G  \n",
       "6  I108V  "
      ]
     },
     "execution_count": 421,
     "metadata": {},
     "output_type": "execute_result"
    }
   ],
   "source": [
    "# For the Darkness dataset\n",
    "\n",
    "wt_fitness_D = dataset.loc[dataset['Mutation'] == 'WT EL222', 'Darkness']\n",
    "min_all_mut_D = label_darkness['log_fitness'].min()\n",
    "\n",
    "numerator_D = label_darkness['log_fitness'] - min_all_mut_D + 1\n",
    "denominator_D = float(wt_fitness_D.iloc[0] - min_all_mut_D + 1)\n",
    "\n",
    "label_darkness['log_fitness'] = np.log(numerator_D/denominator_D)\n",
    "label_darkness.head()"
   ]
  },
  {
   "cell_type": "code",
   "execution_count": 426,
   "metadata": {},
   "outputs": [
    {
     "data": {
      "text/html": [
       "<div>\n",
       "<style scoped>\n",
       "    .dataframe tbody tr th:only-of-type {\n",
       "        vertical-align: middle;\n",
       "    }\n",
       "\n",
       "    .dataframe tbody tr th {\n",
       "        vertical-align: top;\n",
       "    }\n",
       "\n",
       "    .dataframe thead th {\n",
       "        text-align: right;\n",
       "    }\n",
       "</style>\n",
       "<table border=\"1\" class=\"dataframe\">\n",
       "  <thead>\n",
       "    <tr style=\"text-align: right;\">\n",
       "      <th></th>\n",
       "      <th>log_fitness</th>\n",
       "      <th>n_mut</th>\n",
       "      <th>seq</th>\n",
       "      <th>mutant</th>\n",
       "    </tr>\n",
       "  </thead>\n",
       "  <tbody>\n",
       "    <tr>\n",
       "      <th>1</th>\n",
       "      <td>-4.072915</td>\n",
       "      <td>1</td>\n",
       "      <td>MLDMGQDRPIDGSGAPGADDTRVEVQPPAQWVLDLIEASPIASVVS...</td>\n",
       "      <td>K93E</td>\n",
       "    </tr>\n",
       "    <tr>\n",
       "      <th>3</th>\n",
       "      <td>2.454002</td>\n",
       "      <td>1</td>\n",
       "      <td>MLDMGQDRPIDGSGAPGADDTRVEVQPPAQWVLDLIEASPIASVVS...</td>\n",
       "      <td>P117R</td>\n",
       "    </tr>\n",
       "    <tr>\n",
       "      <th>4</th>\n",
       "      <td>1.386019</td>\n",
       "      <td>1</td>\n",
       "      <td>MLDMGQDRPIDGSGAPGADDTRVEVQPPAQWVLDLIEASPIASVVS...</td>\n",
       "      <td>C78R</td>\n",
       "    </tr>\n",
       "    <tr>\n",
       "      <th>5</th>\n",
       "      <td>1.840579</td>\n",
       "      <td>1</td>\n",
       "      <td>MLDMGQDRPIDGSGAPGADDTRVEVQPPAQWVLDLIEASPIASVVS...</td>\n",
       "      <td>E107G</td>\n",
       "    </tr>\n",
       "    <tr>\n",
       "      <th>6</th>\n",
       "      <td>2.763189</td>\n",
       "      <td>1</td>\n",
       "      <td>MLDMGQDRPIDGSGAPGADDTRVEVQPPAQWVLDLIEASPIASVVS...</td>\n",
       "      <td>I108V</td>\n",
       "    </tr>\n",
       "  </tbody>\n",
       "</table>\n",
       "</div>"
      ],
      "text/plain": [
       "   log_fitness  n_mut                                                seq  \\\n",
       "1    -4.072915      1  MLDMGQDRPIDGSGAPGADDTRVEVQPPAQWVLDLIEASPIASVVS...   \n",
       "3     2.454002      1  MLDMGQDRPIDGSGAPGADDTRVEVQPPAQWVLDLIEASPIASVVS...   \n",
       "4     1.386019      1  MLDMGQDRPIDGSGAPGADDTRVEVQPPAQWVLDLIEASPIASVVS...   \n",
       "5     1.840579      1  MLDMGQDRPIDGSGAPGADDTRVEVQPPAQWVLDLIEASPIASVVS...   \n",
       "6     2.763189      1  MLDMGQDRPIDGSGAPGADDTRVEVQPPAQWVLDLIEASPIASVVS...   \n",
       "\n",
       "  mutant  \n",
       "1   K93E  \n",
       "3  P117R  \n",
       "4   C78R  \n",
       "5  E107G  \n",
       "6  I108V  "
      ]
     },
     "execution_count": 426,
     "metadata": {},
     "output_type": "execute_result"
    }
   ],
   "source": [
    "# For the Light dataset\n",
    "\n",
    "wt_fitness_L = dataset.loc[dataset['Mutation'] == 'WT EL222', 'Light']\n",
    "min_all_mut_L = label_light['log_fitness'].min()\n",
    "\n",
    "numerator_L = label_light['log_fitness'] - min_all_mut_L + 1\n",
    "denominator_L = float(wt_fitness_L.iloc[0] - min_all_mut_L + 1)\n",
    "\n",
    "label_darkness['log_fitness'] = np.log(numerator_L/denominator_L)\n",
    "label_darkness.head()"
   ]
  },
  {
   "cell_type": "code",
   "execution_count": 428,
   "metadata": {},
   "outputs": [
    {
     "data": {
      "text/plain": [
       "count    35.000000\n",
       "mean      2.483555\n",
       "std       2.167613\n",
       "min      -4.072915\n",
       "25%       1.751211\n",
       "50%       2.763189\n",
       "75%       4.108784\n",
       "max       4.878035\n",
       "Name: log_fitness, dtype: float64"
      ]
     },
     "execution_count": 428,
     "metadata": {},
     "output_type": "execute_result"
    }
   ],
   "source": [
    "label_darkness['log_fitness'].describe()"
   ]
  },
  {
   "cell_type": "markdown",
   "metadata": {},
   "source": [
    "### "
   ]
  },
  {
   "cell_type": "markdown",
   "metadata": {},
   "source": [
    "### 5. Processed Datasets savings"
   ]
  },
  {
   "cell_type": "code",
   "execution_count": 429,
   "metadata": {},
   "outputs": [],
   "source": [
    "Darkness_path = 'data/Darkness/'\n",
    "Light_path = 'data/Light/'\n",
    "\n",
    "label_darkness.to_csv(Darkness_path + 'data.csv')\n",
    "label_light.to_csv(Light_path + 'data.csv')"
   ]
  },
  {
   "cell_type": "code",
   "execution_count": 430,
   "metadata": {},
   "outputs": [
    {
     "data": {
      "text/plain": [
       "'data/Light/wt.fasta'"
      ]
     },
     "execution_count": 430,
     "metadata": {},
     "output_type": "execute_result"
    }
   ],
   "source": [
    "# wt.fasta has to be present in each folder\n",
    "\n",
    "shutil.copy(fasta_file, Darkness_path + 'wt.fasta')\n",
    "shutil.copy(fasta_file, Light_path + 'wt.fasta')"
   ]
  }
 ],
 "metadata": {
  "kernelspec": {
   "display_name": "ada",
   "language": "python",
   "name": "python3"
  },
  "language_info": {
   "codemirror_mode": {
    "name": "ipython",
    "version": 3
   },
   "file_extension": ".py",
   "mimetype": "text/x-python",
   "name": "python",
   "nbconvert_exporter": "python",
   "pygments_lexer": "ipython3",
   "version": "3.9.18"
  }
 },
 "nbformat": 4,
 "nbformat_minor": 2
}
