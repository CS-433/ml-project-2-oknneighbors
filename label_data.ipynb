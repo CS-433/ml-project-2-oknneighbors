{
 "cells": [
  {
   "cell_type": "markdown",
   "metadata": {},
   "source": [
    "> The aim of this notebook is to process the labeled dataset."
   ]
  },
  {
   "cell_type": "markdown",
   "metadata": {},
   "source": [
    "> Please run every cell only once."
   ]
  },
  {
   "cell_type": "code",
   "execution_count": 179,
   "metadata": {},
   "outputs": [],
   "source": [
    "import pandas as pd \n",
    "import numpy as np\n",
    "from Bio import SeqIO"
   ]
  },
  {
   "cell_type": "markdown",
   "metadata": {},
   "source": [
    "### 1. Data Loading"
   ]
  },
  {
   "cell_type": "code",
   "execution_count": 180,
   "metadata": {},
   "outputs": [],
   "source": [
    "label_dataset = pd.read_excel('original_data/Supervised_training_data.xlsx')\n",
    "\n",
    "fasta_file = 'data/EL222.fa'\n",
    "sequences = list(SeqIO.parse(fasta_file, 'fasta'))"
   ]
  },
  {
   "cell_type": "markdown",
   "metadata": {},
   "source": [
    "### 2. First Glance"
   ]
  },
  {
   "cell_type": "code",
   "execution_count": 181,
   "metadata": {},
   "outputs": [
    {
     "data": {
      "text/html": [
       "<div>\n",
       "<style scoped>\n",
       "    .dataframe tbody tr th:only-of-type {\n",
       "        vertical-align: middle;\n",
       "    }\n",
       "\n",
       "    .dataframe tbody tr th {\n",
       "        vertical-align: top;\n",
       "    }\n",
       "\n",
       "    .dataframe thead th {\n",
       "        text-align: right;\n",
       "    }\n",
       "</style>\n",
       "<table border=\"1\" class=\"dataframe\">\n",
       "  <thead>\n",
       "    <tr style=\"text-align: right;\">\n",
       "      <th></th>\n",
       "      <th>Mutation</th>\n",
       "      <th>Light</th>\n",
       "      <th>Darkness</th>\n",
       "    </tr>\n",
       "  </thead>\n",
       "  <tbody>\n",
       "    <tr>\n",
       "      <th>0</th>\n",
       "      <td>WT EL222</td>\n",
       "      <td>52.009956</td>\n",
       "      <td>-2.983813</td>\n",
       "    </tr>\n",
       "    <tr>\n",
       "      <th>1</th>\n",
       "      <td>Lys90Glu</td>\n",
       "      <td>-5.717948</td>\n",
       "      <td>0.749374</td>\n",
       "    </tr>\n",
       "    <tr>\n",
       "      <th>2</th>\n",
       "      <td>Asp89Tyr, Lys90Glu</td>\n",
       "      <td>10.860253</td>\n",
       "      <td>9.802956</td>\n",
       "    </tr>\n",
       "    <tr>\n",
       "      <th>3</th>\n",
       "      <td>Pro114Arg</td>\n",
       "      <td>676.570607</td>\n",
       "      <td>36.595275</td>\n",
       "    </tr>\n",
       "    <tr>\n",
       "      <th>4</th>\n",
       "      <td>Cys75Arg</td>\n",
       "      <td>228.129054</td>\n",
       "      <td>152.705591</td>\n",
       "    </tr>\n",
       "  </tbody>\n",
       "</table>\n",
       "</div>"
      ],
      "text/plain": [
       "             Mutation       Light    Darkness\n",
       "0            WT EL222   52.009956   -2.983813\n",
       "1            Lys90Glu   -5.717948    0.749374\n",
       "2  Asp89Tyr, Lys90Glu   10.860253    9.802956\n",
       "3           Pro114Arg  676.570607   36.595275\n",
       "4            Cys75Arg  228.129054  152.705591"
      ]
     },
     "execution_count": 181,
     "metadata": {},
     "output_type": "execute_result"
    }
   ],
   "source": [
    "label_dataset.head()"
   ]
  },
  {
   "cell_type": "code",
   "execution_count": 182,
   "metadata": {},
   "outputs": [
    {
     "name": "stdout",
     "output_type": "stream",
     "text": [
      "ID: EL222\n",
      "Description: EL222\n",
      "Sequence: MGQDRPIDGSGAPGADDTRVEVQPPAQWVLDLIEASPIASVVSDPRLADNPLIAINQAFTDLTGYSEEECVGRNCRFLAGSGTEPWLTDKIRQGVREHKPVLVEILNYKKDGTPFRNAVLVAPIYDDDDELLYFLGSQVEVDDDQPNMGMARRERAAEMLKTLSPRQLEVTTLVASGLRNKEVAARLGLSEKTVKMHRGLVMEKLNLKTSADLVRIAVEAGI*\n"
     ]
    }
   ],
   "source": [
    "# WT sequence\n",
    "\n",
    "for seq_record in sequences:\n",
    "    print(f\"ID: {seq_record.id}\")\n",
    "    print(f\"Description: {seq_record.description}\")\n",
    "    print(f\"Sequence: {seq_record.seq}\")\n",
    "  "
   ]
  },
  {
   "cell_type": "markdown",
   "metadata": {},
   "source": [
    "### 3. Let's get the processing started"
   ]
  },
  {
   "cell_type": "markdown",
   "metadata": {},
   "source": [
    "#### 3.1 'n_mut' column"
   ]
  },
  {
   "cell_type": "code",
   "execution_count": 183,
   "metadata": {},
   "outputs": [
    {
     "name": "stdout",
     "output_type": "stream",
     "text": [
      "(40, 4)\n",
      "(35, 4)\n"
     ]
    }
   ],
   "source": [
    "# Add a column 'n_mut': number of mutations for each protein\n",
    "\n",
    "label_dataset['n_mut'] = label_dataset['Mutation'].apply(lambda x: len(x.split(', ')) if ',' in x else 1)\n",
    "\n",
    "# Only keep single mutants\n",
    "\n",
    "print(label_dataset.shape)\n",
    "label_dataset = label_dataset[1:]\n",
    "label_dataset = label_dataset[label_dataset['n_mut'] == 1]\n",
    "print(label_dataset.shape)"
   ]
  },
  {
   "cell_type": "markdown",
   "metadata": {},
   "source": [
    "#### 3.2 'seq' column"
   ]
  },
  {
   "cell_type": "code",
   "execution_count": 184,
   "metadata": {},
   "outputs": [],
   "source": [
    "# Initialize new 'seq' column\n",
    "\n",
    "wt_seq = 'MGQDRPIDGSGAPGADDTRVEVQPPAQWVLDLIEASPIASVVSDPRLADNPLIAINQAFTDLTGYSEEECVGRNCRFLAGSGTEPWLTDKIRQGVREHKPVLVEILNYKKDGTPFRNAVLVAPIYDDDDELLYFLGSQVEVDDDQPNMGMARRERAAEMLKTLSPRQLEVTTLVASGLRNKEVAARLGLSEKTVKMHRGLVMEKLNLKTSADLVRIAVEAGI'\n",
    "\n",
    "label_dataset['seq'] = wt_seq "
   ]
  },
  {
   "cell_type": "code",
   "execution_count": 185,
   "metadata": {},
   "outputs": [],
   "source": [
    "# Create three new columns for original_aa, position, and mutated_aa\n",
    "\n",
    "label_dataset['original_aa'] = label_dataset['Mutation'].str[0:3]\n",
    "label_dataset['position'] = label_dataset['Mutation'].str[3:-3]\n",
    "label_dataset['mutated_aa'] = label_dataset['Mutation'].str[-3:]\n",
    "label_dataset['position'] = pd.to_numeric(label_dataset['position'], errors='coerce')"
   ]
  },
  {
   "cell_type": "code",
   "execution_count": 186,
   "metadata": {},
   "outputs": [],
   "source": [
    "# Then convert 'original_aa' and 'mutated_aa' into one-letter code\n",
    "\n",
    "aa_mapping = {\n",
    "    'Ala': 'A', 'Arg': 'R', 'Asn': 'N', 'Asp': 'D', 'Cys': 'C', 'Glu': 'E',\n",
    "    'Gln': 'Q', 'Gly': 'G', 'His': 'H', 'Ile': 'I', 'Leu': 'L', 'Lys': 'K',\n",
    "    'Met': 'M', 'Phe': 'F', 'Pro': 'P', 'Ser': 'S', 'Thr': 'T', 'Trp': 'W',\n",
    "    'Tyr': 'Y', 'Val': 'V'\n",
    "}\n",
    "\n",
    "label_dataset['mutated_aa'] = label_dataset['mutated_aa'].apply(lambda x: ''.join(aa_mapping[aa] for aa in x.split(' ')))\n",
    "label_dataset['original_aa'] = label_dataset['original_aa'].apply(lambda x: ''.join(aa_mapping[aa] for aa in x.split(' ')))"
   ]
  },
  {
   "cell_type": "code",
   "execution_count": 187,
   "metadata": {},
   "outputs": [
    {
     "name": "stdout",
     "output_type": "stream",
     "text": [
      "Mutation 'Asp18Tyr': Original amino acid at position 18 is not D. Skipping mutation.\n"
     ]
    }
   ],
   "source": [
    "# Mutate the 'seq' column accordingly to the given mutation\n",
    "\n",
    "def mutate_sequence(row):\n",
    "    seq, position, mutated_aa, original_aa, mutation = row['seq'], row['position'], row['mutated_aa'], row['original_aa'], row['Mutation']\n",
    "    position -= 1\n",
    "    \n",
    "    if 0 <= position < len(seq):\n",
    "        seq_list = list(seq)\n",
    "        if seq_list[position] == original_aa:\n",
    "            seq_list[position] = mutated_aa\n",
    "        else:\n",
    "            print(f\"Mutation '{mutation}': Original amino acid at position {position + 1} is not {original_aa}. Skipping mutation.\")\n",
    "        return ''.join(seq_list)\n",
    "    else:\n",
    "        print(f\"Mutation '{mutation}': Position {position + 1} is out of bounds. Skipping mutation.\")\n",
    "        return seq  \n",
    "\n",
    "\n",
    "label_dataset['seq'] = label_dataset.apply(mutate_sequence, axis=1)\n"
   ]
  },
  {
   "cell_type": "code",
   "execution_count": 188,
   "metadata": {},
   "outputs": [
    {
     "data": {
      "text/html": [
       "<div>\n",
       "<style scoped>\n",
       "    .dataframe tbody tr th:only-of-type {\n",
       "        vertical-align: middle;\n",
       "    }\n",
       "\n",
       "    .dataframe tbody tr th {\n",
       "        vertical-align: top;\n",
       "    }\n",
       "\n",
       "    .dataframe thead th {\n",
       "        text-align: right;\n",
       "    }\n",
       "</style>\n",
       "<table border=\"1\" class=\"dataframe\">\n",
       "  <thead>\n",
       "    <tr style=\"text-align: right;\">\n",
       "      <th></th>\n",
       "      <th>Mutation</th>\n",
       "      <th>Light</th>\n",
       "      <th>Darkness</th>\n",
       "      <th>n_mut</th>\n",
       "      <th>seq</th>\n",
       "      <th>original_aa</th>\n",
       "      <th>position</th>\n",
       "      <th>mutated_aa</th>\n",
       "    </tr>\n",
       "  </thead>\n",
       "  <tbody>\n",
       "    <tr>\n",
       "      <th>1</th>\n",
       "      <td>Lys90Glu</td>\n",
       "      <td>-5.717948</td>\n",
       "      <td>0.749374</td>\n",
       "      <td>1</td>\n",
       "      <td>MGQDRPIDGSGAPGADDTRVEVQPPAQWVLDLIEASPIASVVSDPR...</td>\n",
       "      <td>K</td>\n",
       "      <td>90</td>\n",
       "      <td>E</td>\n",
       "    </tr>\n",
       "    <tr>\n",
       "      <th>3</th>\n",
       "      <td>Pro114Arg</td>\n",
       "      <td>676.570607</td>\n",
       "      <td>36.595275</td>\n",
       "      <td>1</td>\n",
       "      <td>MGQDRPIDGSGAPGADDTRVEVQPPAQWVLDLIEASPIASVVSDPR...</td>\n",
       "      <td>P</td>\n",
       "      <td>114</td>\n",
       "      <td>R</td>\n",
       "    </tr>\n",
       "    <tr>\n",
       "      <th>4</th>\n",
       "      <td>Cys75Arg</td>\n",
       "      <td>228.129054</td>\n",
       "      <td>152.705591</td>\n",
       "      <td>1</td>\n",
       "      <td>MGQDRPIDGSGAPGADDTRVEVQPPAQWVLDLIEASPIASVVSDPR...</td>\n",
       "      <td>C</td>\n",
       "      <td>75</td>\n",
       "      <td>R</td>\n",
       "    </tr>\n",
       "    <tr>\n",
       "      <th>5</th>\n",
       "      <td>Glu104Gly</td>\n",
       "      <td>363.278645</td>\n",
       "      <td>96.002665</td>\n",
       "      <td>1</td>\n",
       "      <td>MGQDRPIDGSGAPGADDTRVEVQPPAQWVLDLIEASPIASVVSDPR...</td>\n",
       "      <td>E</td>\n",
       "      <td>104</td>\n",
       "      <td>G</td>\n",
       "    </tr>\n",
       "    <tr>\n",
       "      <th>6</th>\n",
       "      <td>Ile105Val</td>\n",
       "      <td>924.137272</td>\n",
       "      <td>22.264132</td>\n",
       "      <td>1</td>\n",
       "      <td>MGQDRPIDGSGAPGADDTRVEVQPPAQWVLDLIEASPIASVVSDPR...</td>\n",
       "      <td>I</td>\n",
       "      <td>105</td>\n",
       "      <td>V</td>\n",
       "    </tr>\n",
       "  </tbody>\n",
       "</table>\n",
       "</div>"
      ],
      "text/plain": [
       "    Mutation       Light    Darkness  n_mut  \\\n",
       "1   Lys90Glu   -5.717948    0.749374      1   \n",
       "3  Pro114Arg  676.570607   36.595275      1   \n",
       "4   Cys75Arg  228.129054  152.705591      1   \n",
       "5  Glu104Gly  363.278645   96.002665      1   \n",
       "6  Ile105Val  924.137272   22.264132      1   \n",
       "\n",
       "                                                 seq original_aa  position  \\\n",
       "1  MGQDRPIDGSGAPGADDTRVEVQPPAQWVLDLIEASPIASVVSDPR...           K        90   \n",
       "3  MGQDRPIDGSGAPGADDTRVEVQPPAQWVLDLIEASPIASVVSDPR...           P       114   \n",
       "4  MGQDRPIDGSGAPGADDTRVEVQPPAQWVLDLIEASPIASVVSDPR...           C        75   \n",
       "5  MGQDRPIDGSGAPGADDTRVEVQPPAQWVLDLIEASPIASVVSDPR...           E       104   \n",
       "6  MGQDRPIDGSGAPGADDTRVEVQPPAQWVLDLIEASPIASVVSDPR...           I       105   \n",
       "\n",
       "  mutated_aa  \n",
       "1          E  \n",
       "3          R  \n",
       "4          R  \n",
       "5          G  \n",
       "6          V  "
      ]
     },
     "execution_count": 188,
     "metadata": {},
     "output_type": "execute_result"
    }
   ],
   "source": [
    "# Few checks\n",
    "\n",
    "label_dataset.head()"
   ]
  },
  {
   "cell_type": "code",
   "execution_count": 189,
   "metadata": {},
   "outputs": [
    {
     "name": "stdout",
     "output_type": "stream",
     "text": [
      "E\n",
      "R\n",
      "R\n"
     ]
    }
   ],
   "source": [
    "print(label_dataset['seq'].iloc[0][89])\n",
    "print(label_dataset['seq'].iloc[1][113])\n",
    "print(label_dataset['seq'].iloc[2][75])"
   ]
  },
  {
   "cell_type": "code",
   "execution_count": 190,
   "metadata": {},
   "outputs": [
    {
     "name": "stdout",
     "output_type": "stream",
     "text": [
      "(34, 8)\n"
     ]
    }
   ],
   "source": [
    "# Dropping suspicious rows\n",
    "\n",
    "label_dataset = label_dataset[~label_dataset['Mutation'].str.contains('Asp18Tyr')]\n",
    "label_dataset.reset_index(drop=True, inplace=True)\n",
    "print(label_dataset.shape)"
   ]
  },
  {
   "cell_type": "markdown",
   "metadata": {},
   "source": [
    "#### 3.3 'mutant column'"
   ]
  },
  {
   "cell_type": "code",
   "execution_count": 191,
   "metadata": {},
   "outputs": [
    {
     "name": "stdout",
     "output_type": "stream",
     "text": [
      "0     K90E\n",
      "1    P114R\n",
      "2     C75R\n",
      "Name: mutant, dtype: object\n"
     ]
    }
   ],
   "source": [
    "# Create a 'mutant' column by concatenating original_aa, position, and mutated_aa\n",
    "\n",
    "label_dataset = label_dataset.copy()  \n",
    "label_dataset['mutant'] = label_dataset['original_aa'] + label_dataset['position'].astype(str) + label_dataset['mutated_aa']\n",
    "\n",
    "print(label_dataset['mutant'].iloc[:3])\n"
   ]
  },
  {
   "cell_type": "markdown",
   "metadata": {},
   "source": [
    "### 4. More Data Processing"
   ]
  },
  {
   "cell_type": "markdown",
   "metadata": {},
   "source": [
    "#### 4.1 Removal of extra columns"
   ]
  },
  {
   "cell_type": "code",
   "execution_count": 192,
   "metadata": {},
   "outputs": [
    {
     "data": {
      "text/html": [
       "<div>\n",
       "<style scoped>\n",
       "    .dataframe tbody tr th:only-of-type {\n",
       "        vertical-align: middle;\n",
       "    }\n",
       "\n",
       "    .dataframe tbody tr th {\n",
       "        vertical-align: top;\n",
       "    }\n",
       "\n",
       "    .dataframe thead th {\n",
       "        text-align: right;\n",
       "    }\n",
       "</style>\n",
       "<table border=\"1\" class=\"dataframe\">\n",
       "  <thead>\n",
       "    <tr style=\"text-align: right;\">\n",
       "      <th></th>\n",
       "      <th>Light</th>\n",
       "      <th>Darkness</th>\n",
       "      <th>n_mut</th>\n",
       "      <th>seq</th>\n",
       "      <th>mutant</th>\n",
       "    </tr>\n",
       "  </thead>\n",
       "  <tbody>\n",
       "    <tr>\n",
       "      <th>0</th>\n",
       "      <td>-5.717948</td>\n",
       "      <td>0.749374</td>\n",
       "      <td>1</td>\n",
       "      <td>MGQDRPIDGSGAPGADDTRVEVQPPAQWVLDLIEASPIASVVSDPR...</td>\n",
       "      <td>K90E</td>\n",
       "    </tr>\n",
       "    <tr>\n",
       "      <th>1</th>\n",
       "      <td>676.570607</td>\n",
       "      <td>36.595275</td>\n",
       "      <td>1</td>\n",
       "      <td>MGQDRPIDGSGAPGADDTRVEVQPPAQWVLDLIEASPIASVVSDPR...</td>\n",
       "      <td>P114R</td>\n",
       "    </tr>\n",
       "    <tr>\n",
       "      <th>2</th>\n",
       "      <td>228.129054</td>\n",
       "      <td>152.705591</td>\n",
       "      <td>1</td>\n",
       "      <td>MGQDRPIDGSGAPGADDTRVEVQPPAQWVLDLIEASPIASVVSDPR...</td>\n",
       "      <td>C75R</td>\n",
       "    </tr>\n",
       "    <tr>\n",
       "      <th>3</th>\n",
       "      <td>363.278645</td>\n",
       "      <td>96.002665</td>\n",
       "      <td>1</td>\n",
       "      <td>MGQDRPIDGSGAPGADDTRVEVQPPAQWVLDLIEASPIASVVSDPR...</td>\n",
       "      <td>E104G</td>\n",
       "    </tr>\n",
       "    <tr>\n",
       "      <th>4</th>\n",
       "      <td>924.137272</td>\n",
       "      <td>22.264132</td>\n",
       "      <td>1</td>\n",
       "      <td>MGQDRPIDGSGAPGADDTRVEVQPPAQWVLDLIEASPIASVVSDPR...</td>\n",
       "      <td>I105V</td>\n",
       "    </tr>\n",
       "    <tr>\n",
       "      <th>5</th>\n",
       "      <td>302.720089</td>\n",
       "      <td>189.833430</td>\n",
       "      <td>1</td>\n",
       "      <td>MGQDRPIDGSGAPGADDTRVEVQPPAQWVLDLIEASPIASVVSDPR...</td>\n",
       "      <td>G136S</td>\n",
       "    </tr>\n",
       "    <tr>\n",
       "      <th>6</th>\n",
       "      <td>2424.388290</td>\n",
       "      <td>-1.798813</td>\n",
       "      <td>1</td>\n",
       "      <td>MGQDRPIDGSGAPGADDTRVEVQPPAQWVLDLIEASPIASVVSDPR...</td>\n",
       "      <td>P114L</td>\n",
       "    </tr>\n",
       "    <tr>\n",
       "      <th>7</th>\n",
       "      <td>384.225650</td>\n",
       "      <td>172.018831</td>\n",
       "      <td>1</td>\n",
       "      <td>MGQDRPIDGSGAPGADDTRVEVQPPAQWVLDLIEASPIASVVSDPR...</td>\n",
       "      <td>T88P</td>\n",
       "    </tr>\n",
       "    <tr>\n",
       "      <th>8</th>\n",
       "      <td>262.260228</td>\n",
       "      <td>543.715354</td>\n",
       "      <td>1</td>\n",
       "      <td>MGQDRPIDGSGAPGADDTRVEVQPPAQWVLDLIEASPIASFVSDPR...</td>\n",
       "      <td>V41F</td>\n",
       "    </tr>\n",
       "    <tr>\n",
       "      <th>9</th>\n",
       "      <td>755.950394</td>\n",
       "      <td>75.898705</td>\n",
       "      <td>1</td>\n",
       "      <td>MGQDRPIDGSGAPGADDTRVEVQPPAQWVLDLIEASPIASVVSDPR...</td>\n",
       "      <td>V121L</td>\n",
       "    </tr>\n",
       "    <tr>\n",
       "      <th>10</th>\n",
       "      <td>621.159146</td>\n",
       "      <td>1179.144675</td>\n",
       "      <td>1</td>\n",
       "      <td>MGQDRPIDGSGAPGADDTRVEVQPPAQWVLDLIEASPIASVVSDPR...</td>\n",
       "      <td>L87P</td>\n",
       "    </tr>\n",
       "    <tr>\n",
       "      <th>11</th>\n",
       "      <td>5252.056926</td>\n",
       "      <td>3.422524</td>\n",
       "      <td>1</td>\n",
       "      <td>MGQDRPIDGSGAPGADDTRVEVQPPAQWVLDLIEASPIASVVSDPR...</td>\n",
       "      <td>D89Y</td>\n",
       "    </tr>\n",
       "    <tr>\n",
       "      <th>12</th>\n",
       "      <td>2296.403044</td>\n",
       "      <td>3.861403</td>\n",
       "      <td>1</td>\n",
       "      <td>MGQDRPIDGSGAPGADDTRVEVQPPAQWVLDLIEASPIASVVSDPR...</td>\n",
       "      <td>V103I</td>\n",
       "    </tr>\n",
       "    <tr>\n",
       "      <th>13</th>\n",
       "      <td>1200.034889</td>\n",
       "      <td>1569.818789</td>\n",
       "      <td>1</td>\n",
       "      <td>MGQDRPIDGSGAPGADDTRVEVQPPAQWVLDLIEASPIASVVSDPR...</td>\n",
       "      <td>E84A</td>\n",
       "    </tr>\n",
       "    <tr>\n",
       "      <th>14</th>\n",
       "      <td>1280.315213</td>\n",
       "      <td>63.118896</td>\n",
       "      <td>1</td>\n",
       "      <td>MGQDRPIDGSGAPGADDTRVEVQPPAQWVLDLIEASPIASVVSDPR...</td>\n",
       "      <td>T83A</td>\n",
       "    </tr>\n",
       "    <tr>\n",
       "      <th>15</th>\n",
       "      <td>859.368594</td>\n",
       "      <td>18.048242</td>\n",
       "      <td>1</td>\n",
       "      <td>MGQDRPIDGSGAPGADDTRVEVQPPAQWVLDLIEASPIASVVSDPR...</td>\n",
       "      <td>Y108H</td>\n",
       "    </tr>\n",
       "    <tr>\n",
       "      <th>16</th>\n",
       "      <td>3989.605878</td>\n",
       "      <td>3645.619098</td>\n",
       "      <td>1</td>\n",
       "      <td>MGQDRPIDGSGAPGADDTRVEVQPPAQWVLDLIEASPIASVVSDPR...</td>\n",
       "      <td>N107D</td>\n",
       "    </tr>\n",
       "    <tr>\n",
       "      <th>17</th>\n",
       "      <td>2379.003064</td>\n",
       "      <td>46.698348</td>\n",
       "      <td>1</td>\n",
       "      <td>MGQDRPIDGSGAPGADDTRVEVQPPAQWVLDLIEASPIASVVSDPR...</td>\n",
       "      <td>G80R</td>\n",
       "    </tr>\n",
       "    <tr>\n",
       "      <th>18</th>\n",
       "      <td>2909.610160</td>\n",
       "      <td>364.944917</td>\n",
       "      <td>1</td>\n",
       "      <td>MGQDRPIDGSGAPGADDTRVEVQPPAQWVLDLIEASPIASVVSDPR...</td>\n",
       "      <td>V103F</td>\n",
       "    </tr>\n",
       "    <tr>\n",
       "      <th>19</th>\n",
       "      <td>5.013893</td>\n",
       "      <td>-4.487314</td>\n",
       "      <td>1</td>\n",
       "      <td>MGQDRPIDGSGAPGADDTRVEVQPPAQWVLDLIEASPIASVVSDPR...</td>\n",
       "      <td>V201L</td>\n",
       "    </tr>\n",
       "    <tr>\n",
       "      <th>20</th>\n",
       "      <td>12.801111</td>\n",
       "      <td>-2.184937</td>\n",
       "      <td>1</td>\n",
       "      <td>MGQDRPIDGSGAPGADDTRVEVQPPAQWVLDLIEASPIASVVSDPR...</td>\n",
       "      <td>K99E</td>\n",
       "    </tr>\n",
       "    <tr>\n",
       "      <th>21</th>\n",
       "      <td>19.893654</td>\n",
       "      <td>-1.493553</td>\n",
       "      <td>1</td>\n",
       "      <td>MGQDRPIDGSGAPGADDTRVEVQPPAQWVLDLIEASPIASVVSDPR...</td>\n",
       "      <td>V139L</td>\n",
       "    </tr>\n",
       "    <tr>\n",
       "      <th>22</th>\n",
       "      <td>24.302286</td>\n",
       "      <td>5.022624</td>\n",
       "      <td>1</td>\n",
       "      <td>MGQDRPIDGSGAPGADDTRVEVQPPAQWVLDLIEASPIASVVSDPR...</td>\n",
       "      <td>P165S</td>\n",
       "    </tr>\n",
       "    <tr>\n",
       "      <th>23</th>\n",
       "      <td>488.890203</td>\n",
       "      <td>18.752302</td>\n",
       "      <td>1</td>\n",
       "      <td>MGQDRPIDGSGAPGADDTRVEVQPPAQWVLDLIEASPIASVVSDPR...</td>\n",
       "      <td>A157V</td>\n",
       "    </tr>\n",
       "    <tr>\n",
       "      <th>24</th>\n",
       "      <td>869.645480</td>\n",
       "      <td>406.308249</td>\n",
       "      <td>1</td>\n",
       "      <td>MGQDRPIDGSGAPGADDTRVEVQPPAQWVLDLIEALPIASVVSDPR...</td>\n",
       "      <td>S36L</td>\n",
       "    </tr>\n",
       "    <tr>\n",
       "      <th>25</th>\n",
       "      <td>2126.106446</td>\n",
       "      <td>9.853464</td>\n",
       "      <td>1</td>\n",
       "      <td>MGQDRPIDGSGAPGADDTRVEVQPPAQWVLDLIEASPIASVVSDPR...</td>\n",
       "      <td>G94C</td>\n",
       "    </tr>\n",
       "    <tr>\n",
       "      <th>26</th>\n",
       "      <td>3191.241512</td>\n",
       "      <td>350.073638</td>\n",
       "      <td>1</td>\n",
       "      <td>MGQDRPIDGSGAPGADDTRVEVQPPAQWVLDLIEASPIASVVSDPR...</td>\n",
       "      <td>S137N</td>\n",
       "    </tr>\n",
       "    <tr>\n",
       "      <th>27</th>\n",
       "      <td>4972.177661</td>\n",
       "      <td>24.848209</td>\n",
       "      <td>1</td>\n",
       "      <td>MGQDRPIDGSGAPGADDTRVEVQPPAQWVLDLIEASPIASVVSDPR...</td>\n",
       "      <td>G80E</td>\n",
       "    </tr>\n",
       "    <tr>\n",
       "      <th>28</th>\n",
       "      <td>5252.056926</td>\n",
       "      <td>3.422524</td>\n",
       "      <td>1</td>\n",
       "      <td>MGQDRPIDGSGAPGADDTRVEVQPPAQWVLDLIEASPIASVVSDPR...</td>\n",
       "      <td>D89Y</td>\n",
       "    </tr>\n",
       "    <tr>\n",
       "      <th>29</th>\n",
       "      <td>5892.006788</td>\n",
       "      <td>38.063191</td>\n",
       "      <td>1</td>\n",
       "      <td>MGQDRPIDGSGAPGADDTRVEVQPPAQWVLDLIEASPIASVVSDPR...</td>\n",
       "      <td>T83S</td>\n",
       "    </tr>\n",
       "    <tr>\n",
       "      <th>30</th>\n",
       "      <td>6112.190106</td>\n",
       "      <td>880.890712</td>\n",
       "      <td>1</td>\n",
       "      <td>MGQDRPIDGSGAPGADDTRVEVQPPAQWVLDLIEASPIASVVSDPR...</td>\n",
       "      <td>E84K</td>\n",
       "    </tr>\n",
       "    <tr>\n",
       "      <th>31</th>\n",
       "      <td>6990.089126</td>\n",
       "      <td>15.413257</td>\n",
       "      <td>1</td>\n",
       "      <td>MGQDRPIDGSGAPGADDTRVEVQPPAQWVLDLIEASPIASVVSDPR...</td>\n",
       "      <td>E84D</td>\n",
       "    </tr>\n",
       "    <tr>\n",
       "      <th>32</th>\n",
       "      <td>7226.381888</td>\n",
       "      <td>30.054969</td>\n",
       "      <td>1</td>\n",
       "      <td>MGQDRPIDGSGAPGADDTRVEVQPPAQWVLDLIEASPIASVVSDPR...</td>\n",
       "      <td>G82V</td>\n",
       "    </tr>\n",
       "    <tr>\n",
       "      <th>33</th>\n",
       "      <td>7708.500205</td>\n",
       "      <td>15.629808</td>\n",
       "      <td>1</td>\n",
       "      <td>MGQDRPIDGSGAPGADDTRVEVQPPAQWVLDLIEASPIASVVSDPR...</td>\n",
       "      <td>L87I</td>\n",
       "    </tr>\n",
       "  </tbody>\n",
       "</table>\n",
       "</div>"
      ],
      "text/plain": [
       "          Light     Darkness  n_mut  \\\n",
       "0     -5.717948     0.749374      1   \n",
       "1    676.570607    36.595275      1   \n",
       "2    228.129054   152.705591      1   \n",
       "3    363.278645    96.002665      1   \n",
       "4    924.137272    22.264132      1   \n",
       "5    302.720089   189.833430      1   \n",
       "6   2424.388290    -1.798813      1   \n",
       "7    384.225650   172.018831      1   \n",
       "8    262.260228   543.715354      1   \n",
       "9    755.950394    75.898705      1   \n",
       "10   621.159146  1179.144675      1   \n",
       "11  5252.056926     3.422524      1   \n",
       "12  2296.403044     3.861403      1   \n",
       "13  1200.034889  1569.818789      1   \n",
       "14  1280.315213    63.118896      1   \n",
       "15   859.368594    18.048242      1   \n",
       "16  3989.605878  3645.619098      1   \n",
       "17  2379.003064    46.698348      1   \n",
       "18  2909.610160   364.944917      1   \n",
       "19     5.013893    -4.487314      1   \n",
       "20    12.801111    -2.184937      1   \n",
       "21    19.893654    -1.493553      1   \n",
       "22    24.302286     5.022624      1   \n",
       "23   488.890203    18.752302      1   \n",
       "24   869.645480   406.308249      1   \n",
       "25  2126.106446     9.853464      1   \n",
       "26  3191.241512   350.073638      1   \n",
       "27  4972.177661    24.848209      1   \n",
       "28  5252.056926     3.422524      1   \n",
       "29  5892.006788    38.063191      1   \n",
       "30  6112.190106   880.890712      1   \n",
       "31  6990.089126    15.413257      1   \n",
       "32  7226.381888    30.054969      1   \n",
       "33  7708.500205    15.629808      1   \n",
       "\n",
       "                                                  seq mutant  \n",
       "0   MGQDRPIDGSGAPGADDTRVEVQPPAQWVLDLIEASPIASVVSDPR...   K90E  \n",
       "1   MGQDRPIDGSGAPGADDTRVEVQPPAQWVLDLIEASPIASVVSDPR...  P114R  \n",
       "2   MGQDRPIDGSGAPGADDTRVEVQPPAQWVLDLIEASPIASVVSDPR...   C75R  \n",
       "3   MGQDRPIDGSGAPGADDTRVEVQPPAQWVLDLIEASPIASVVSDPR...  E104G  \n",
       "4   MGQDRPIDGSGAPGADDTRVEVQPPAQWVLDLIEASPIASVVSDPR...  I105V  \n",
       "5   MGQDRPIDGSGAPGADDTRVEVQPPAQWVLDLIEASPIASVVSDPR...  G136S  \n",
       "6   MGQDRPIDGSGAPGADDTRVEVQPPAQWVLDLIEASPIASVVSDPR...  P114L  \n",
       "7   MGQDRPIDGSGAPGADDTRVEVQPPAQWVLDLIEASPIASVVSDPR...   T88P  \n",
       "8   MGQDRPIDGSGAPGADDTRVEVQPPAQWVLDLIEASPIASFVSDPR...   V41F  \n",
       "9   MGQDRPIDGSGAPGADDTRVEVQPPAQWVLDLIEASPIASVVSDPR...  V121L  \n",
       "10  MGQDRPIDGSGAPGADDTRVEVQPPAQWVLDLIEASPIASVVSDPR...   L87P  \n",
       "11  MGQDRPIDGSGAPGADDTRVEVQPPAQWVLDLIEASPIASVVSDPR...   D89Y  \n",
       "12  MGQDRPIDGSGAPGADDTRVEVQPPAQWVLDLIEASPIASVVSDPR...  V103I  \n",
       "13  MGQDRPIDGSGAPGADDTRVEVQPPAQWVLDLIEASPIASVVSDPR...   E84A  \n",
       "14  MGQDRPIDGSGAPGADDTRVEVQPPAQWVLDLIEASPIASVVSDPR...   T83A  \n",
       "15  MGQDRPIDGSGAPGADDTRVEVQPPAQWVLDLIEASPIASVVSDPR...  Y108H  \n",
       "16  MGQDRPIDGSGAPGADDTRVEVQPPAQWVLDLIEASPIASVVSDPR...  N107D  \n",
       "17  MGQDRPIDGSGAPGADDTRVEVQPPAQWVLDLIEASPIASVVSDPR...   G80R  \n",
       "18  MGQDRPIDGSGAPGADDTRVEVQPPAQWVLDLIEASPIASVVSDPR...  V103F  \n",
       "19  MGQDRPIDGSGAPGADDTRVEVQPPAQWVLDLIEASPIASVVSDPR...  V201L  \n",
       "20  MGQDRPIDGSGAPGADDTRVEVQPPAQWVLDLIEASPIASVVSDPR...   K99E  \n",
       "21  MGQDRPIDGSGAPGADDTRVEVQPPAQWVLDLIEASPIASVVSDPR...  V139L  \n",
       "22  MGQDRPIDGSGAPGADDTRVEVQPPAQWVLDLIEASPIASVVSDPR...  P165S  \n",
       "23  MGQDRPIDGSGAPGADDTRVEVQPPAQWVLDLIEASPIASVVSDPR...  A157V  \n",
       "24  MGQDRPIDGSGAPGADDTRVEVQPPAQWVLDLIEALPIASVVSDPR...   S36L  \n",
       "25  MGQDRPIDGSGAPGADDTRVEVQPPAQWVLDLIEASPIASVVSDPR...   G94C  \n",
       "26  MGQDRPIDGSGAPGADDTRVEVQPPAQWVLDLIEASPIASVVSDPR...  S137N  \n",
       "27  MGQDRPIDGSGAPGADDTRVEVQPPAQWVLDLIEASPIASVVSDPR...   G80E  \n",
       "28  MGQDRPIDGSGAPGADDTRVEVQPPAQWVLDLIEASPIASVVSDPR...   D89Y  \n",
       "29  MGQDRPIDGSGAPGADDTRVEVQPPAQWVLDLIEASPIASVVSDPR...   T83S  \n",
       "30  MGQDRPIDGSGAPGADDTRVEVQPPAQWVLDLIEASPIASVVSDPR...   E84K  \n",
       "31  MGQDRPIDGSGAPGADDTRVEVQPPAQWVLDLIEASPIASVVSDPR...   E84D  \n",
       "32  MGQDRPIDGSGAPGADDTRVEVQPPAQWVLDLIEASPIASVVSDPR...   G82V  \n",
       "33  MGQDRPIDGSGAPGADDTRVEVQPPAQWVLDLIEASPIASVVSDPR...   L87I  "
      ]
     },
     "execution_count": 192,
     "metadata": {},
     "output_type": "execute_result"
    }
   ],
   "source": [
    "label_dataset.drop(['mutated_aa', 'position', 'original_aa', 'Mutation'], axis=1, inplace=True)\n",
    "\n",
    "label_dataset.head()"
   ]
  },
  {
   "cell_type": "markdown",
   "metadata": {},
   "source": [
    "#### 4.2 Creation of two separate labeled datasets"
   ]
  },
  {
   "cell_type": "markdown",
   "metadata": {},
   "source": [
    "> We have two fitness labels per mutant: one corresponding to conditions with light and the other to conditions when the protein of interest is in darkness."
   ]
  },
  {
   "cell_type": "code",
   "execution_count": 193,
   "metadata": {},
   "outputs": [
    {
     "data": {
      "text/html": [
       "<div>\n",
       "<style scoped>\n",
       "    .dataframe tbody tr th:only-of-type {\n",
       "        vertical-align: middle;\n",
       "    }\n",
       "\n",
       "    .dataframe tbody tr th {\n",
       "        vertical-align: top;\n",
       "    }\n",
       "\n",
       "    .dataframe thead th {\n",
       "        text-align: right;\n",
       "    }\n",
       "</style>\n",
       "<table border=\"1\" class=\"dataframe\">\n",
       "  <thead>\n",
       "    <tr style=\"text-align: right;\">\n",
       "      <th></th>\n",
       "      <th>Darkness</th>\n",
       "      <th>n_mut</th>\n",
       "      <th>seq</th>\n",
       "      <th>mutant</th>\n",
       "    </tr>\n",
       "  </thead>\n",
       "  <tbody>\n",
       "    <tr>\n",
       "      <th>0</th>\n",
       "      <td>0.749374</td>\n",
       "      <td>1</td>\n",
       "      <td>MGQDRPIDGSGAPGADDTRVEVQPPAQWVLDLIEASPIASVVSDPR...</td>\n",
       "      <td>K90E</td>\n",
       "    </tr>\n",
       "    <tr>\n",
       "      <th>1</th>\n",
       "      <td>36.595275</td>\n",
       "      <td>1</td>\n",
       "      <td>MGQDRPIDGSGAPGADDTRVEVQPPAQWVLDLIEASPIASVVSDPR...</td>\n",
       "      <td>P114R</td>\n",
       "    </tr>\n",
       "  </tbody>\n",
       "</table>\n",
       "</div>"
      ],
      "text/plain": [
       "    Darkness  n_mut                                                seq mutant\n",
       "0   0.749374      1  MGQDRPIDGSGAPGADDTRVEVQPPAQWVLDLIEASPIASVVSDPR...   K90E\n",
       "1  36.595275      1  MGQDRPIDGSGAPGADDTRVEVQPPAQWVLDLIEASPIASVVSDPR...  P114R"
      ]
     },
     "execution_count": 193,
     "metadata": {},
     "output_type": "execute_result"
    }
   ],
   "source": [
    "label_light = label_dataset.copy().drop('Darkness', axis=1)\n",
    "label_darkness = label_dataset.copy().drop('Light', axis=1)\n",
    "\n",
    "label_darkness.head(2)"
   ]
  },
  {
   "cell_type": "markdown",
   "metadata": {},
   "source": [
    "> We rename the corresponding columns to 'log_fitness,' as is done in the Git repository we are using."
   ]
  },
  {
   "cell_type": "code",
   "execution_count": 194,
   "metadata": {},
   "outputs": [
    {
     "data": {
      "text/html": [
       "<div>\n",
       "<style scoped>\n",
       "    .dataframe tbody tr th:only-of-type {\n",
       "        vertical-align: middle;\n",
       "    }\n",
       "\n",
       "    .dataframe tbody tr th {\n",
       "        vertical-align: top;\n",
       "    }\n",
       "\n",
       "    .dataframe thead th {\n",
       "        text-align: right;\n",
       "    }\n",
       "</style>\n",
       "<table border=\"1\" class=\"dataframe\">\n",
       "  <thead>\n",
       "    <tr style=\"text-align: right;\">\n",
       "      <th></th>\n",
       "      <th>log_fitness</th>\n",
       "      <th>n_mut</th>\n",
       "      <th>seq</th>\n",
       "      <th>mutant</th>\n",
       "    </tr>\n",
       "  </thead>\n",
       "  <tbody>\n",
       "    <tr>\n",
       "      <th>0</th>\n",
       "      <td>0.749374</td>\n",
       "      <td>1</td>\n",
       "      <td>MGQDRPIDGSGAPGADDTRVEVQPPAQWVLDLIEASPIASVVSDPR...</td>\n",
       "      <td>K90E</td>\n",
       "    </tr>\n",
       "    <tr>\n",
       "      <th>1</th>\n",
       "      <td>36.595275</td>\n",
       "      <td>1</td>\n",
       "      <td>MGQDRPIDGSGAPGADDTRVEVQPPAQWVLDLIEASPIASVVSDPR...</td>\n",
       "      <td>P114R</td>\n",
       "    </tr>\n",
       "  </tbody>\n",
       "</table>\n",
       "</div>"
      ],
      "text/plain": [
       "   log_fitness  n_mut                                                seq  \\\n",
       "0     0.749374      1  MGQDRPIDGSGAPGADDTRVEVQPPAQWVLDLIEASPIASVVSDPR...   \n",
       "1    36.595275      1  MGQDRPIDGSGAPGADDTRVEVQPPAQWVLDLIEASPIASVVSDPR...   \n",
       "\n",
       "  mutant  \n",
       "0   K90E  \n",
       "1  P114R  "
      ]
     },
     "execution_count": 194,
     "metadata": {},
     "output_type": "execute_result"
    }
   ],
   "source": [
    "label_darkness = label_darkness.rename(columns={'Darkness': 'log_fitness'})\n",
    "label_light = label_light.rename(columns={'Light': 'log_fitness'})\n",
    "\n",
    "label_darkness.head(2)"
   ]
  },
  {
   "cell_type": "markdown",
   "metadata": {},
   "source": [
    "#### 4.3 Log Fitness Adjustments"
   ]
  },
  {
   "cell_type": "markdown",
   "metadata": {},
   "source": [
    "> We assume that this column does not require additional processing, as stated in the Git README we are using. The term 'log_fitness' represents the log enrichment ratio or other log-scale fitness values, where a higher value indicates better fitness. Although referred to as 'log_fitness' here, it corresponds to the concept of fitness."
   ]
  },
  {
   "cell_type": "markdown",
   "metadata": {},
   "source": [
    "### 5. Processed Datasets savings"
   ]
  },
  {
   "cell_type": "code",
   "execution_count": 197,
   "metadata": {},
   "outputs": [],
   "source": [
    "Darkness_path = 'data/Darkness/data.csv'\n",
    "Light_path = 'data/Light/data.csv'\n",
    "\n",
    "label_darkness.to_csv(Darkness_path)\n",
    "label_light.to_csv(Light_path)"
   ]
  }
 ],
 "metadata": {
  "kernelspec": {
   "display_name": "ada",
   "language": "python",
   "name": "python3"
  },
  "language_info": {
   "codemirror_mode": {
    "name": "ipython",
    "version": 3
   },
   "file_extension": ".py",
   "mimetype": "text/x-python",
   "name": "python",
   "nbconvert_exporter": "python",
   "pygments_lexer": "ipython3",
   "version": "3.9.18"
  }
 },
 "nbformat": 4,
 "nbformat_minor": 2
}
