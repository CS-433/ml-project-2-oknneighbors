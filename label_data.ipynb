{
 "cells": [
  {
   "cell_type": "markdown",
   "metadata": {},
   "source": [
    "> The aim of this notebook is to process the labeled dataset."
   ]
  },
  {
   "cell_type": "markdown",
   "metadata": {},
   "source": [
    "> Please run every cell only once."
   ]
  },
  {
   "cell_type": "code",
   "execution_count": 1,
   "metadata": {},
   "outputs": [],
   "source": [
    "import pandas as pd \n",
    "import numpy as np\n",
    "from Bio import SeqIO"
   ]
  },
  {
   "cell_type": "markdown",
   "metadata": {},
   "source": [
    "### 1. Data Loading"
   ]
  },
  {
   "cell_type": "code",
   "execution_count": 2,
   "metadata": {},
   "outputs": [],
   "source": [
    "label_dataset = pd.read_excel('original_data/Supervised_training_data.xlsx')\n",
    "\n",
    "fasta_file = 'original_data/EL222.fa'\n",
    "sequences = list(SeqIO.parse(fasta_file, 'fasta'))"
   ]
  },
  {
   "cell_type": "markdown",
   "metadata": {},
   "source": [
    "### 2. First Glance"
   ]
  },
  {
   "cell_type": "code",
   "execution_count": 3,
   "metadata": {},
   "outputs": [
    {
     "data": {
      "text/html": [
       "<div>\n",
       "<style scoped>\n",
       "    .dataframe tbody tr th:only-of-type {\n",
       "        vertical-align: middle;\n",
       "    }\n",
       "\n",
       "    .dataframe tbody tr th {\n",
       "        vertical-align: top;\n",
       "    }\n",
       "\n",
       "    .dataframe thead th {\n",
       "        text-align: right;\n",
       "    }\n",
       "</style>\n",
       "<table border=\"1\" class=\"dataframe\">\n",
       "  <thead>\n",
       "    <tr style=\"text-align: right;\">\n",
       "      <th></th>\n",
       "      <th>Mutation</th>\n",
       "      <th>Light</th>\n",
       "      <th>Darkness</th>\n",
       "    </tr>\n",
       "  </thead>\n",
       "  <tbody>\n",
       "    <tr>\n",
       "      <th>0</th>\n",
       "      <td>WT EL222</td>\n",
       "      <td>52.009956</td>\n",
       "      <td>-2.983813</td>\n",
       "    </tr>\n",
       "    <tr>\n",
       "      <th>1</th>\n",
       "      <td>Lys90Glu</td>\n",
       "      <td>-5.717948</td>\n",
       "      <td>0.749374</td>\n",
       "    </tr>\n",
       "    <tr>\n",
       "      <th>2</th>\n",
       "      <td>Asp89Tyr, Lys90Glu</td>\n",
       "      <td>10.860253</td>\n",
       "      <td>9.802956</td>\n",
       "    </tr>\n",
       "    <tr>\n",
       "      <th>3</th>\n",
       "      <td>Pro114Arg</td>\n",
       "      <td>676.570607</td>\n",
       "      <td>36.595275</td>\n",
       "    </tr>\n",
       "    <tr>\n",
       "      <th>4</th>\n",
       "      <td>Cys75Arg</td>\n",
       "      <td>228.129054</td>\n",
       "      <td>152.705591</td>\n",
       "    </tr>\n",
       "  </tbody>\n",
       "</table>\n",
       "</div>"
      ],
      "text/plain": [
       "             Mutation       Light    Darkness\n",
       "0            WT EL222   52.009956   -2.983813\n",
       "1            Lys90Glu   -5.717948    0.749374\n",
       "2  Asp89Tyr, Lys90Glu   10.860253    9.802956\n",
       "3           Pro114Arg  676.570607   36.595275\n",
       "4            Cys75Arg  228.129054  152.705591"
      ]
     },
     "execution_count": 3,
     "metadata": {},
     "output_type": "execute_result"
    }
   ],
   "source": [
    "label_dataset.head()"
   ]
  },
  {
   "cell_type": "code",
   "execution_count": 4,
   "metadata": {},
   "outputs": [
    {
     "name": "stdout",
     "output_type": "stream",
     "text": [
      "ID: EL222>Q2NB98\n",
      "Description: EL222>Q2NB98\n",
      "Sequence: GADDTRVEVQPPAQWVLDLIEASPIASVVSDPRLADNPLIAINQAFTDLTGYSEEECVGRNCRFLAGSGTEPWLTDKIRQGVREHKPVLVEILNYKKDGTPFRNAVLVAPIYDDDDELLYFLGSQVEVDDDQPNMGMARRERAAEMLKTLS\n"
     ]
    }
   ],
   "source": [
    "# WT sequence\n",
    "\n",
    "for seq_record in sequences:\n",
    "    print(f\"ID: {seq_record.id}\")\n",
    "    print(f\"Description: {seq_record.description}\")\n",
    "    print(f\"Sequence: {seq_record.seq}\")\n",
    "  "
   ]
  },
  {
   "cell_type": "markdown",
   "metadata": {},
   "source": [
    "### 3. Let's get the processing started"
   ]
  },
  {
   "cell_type": "markdown",
   "metadata": {},
   "source": [
    "#### 3.1 'n_mut' column"
   ]
  },
  {
   "cell_type": "code",
   "execution_count": 247,
   "metadata": {},
   "outputs": [
    {
     "name": "stdout",
     "output_type": "stream",
     "text": [
      "(40, 4)\n",
      "(35, 4)\n"
     ]
    }
   ],
   "source": [
    "# Add a column 'n_mut': number of mutations for each protein\n",
    "\n",
    "label_dataset['n_mut'] = label_dataset['Mutation'].apply(lambda x: len(x.split(', ')) if ',' in x else 1)\n",
    "\n",
    "# Only keep single mutants\n",
    "\n",
    "print(label_dataset.shape)\n",
    "label_dataset = label_dataset[1:]\n",
    "label_dataset = label_dataset[label_dataset['n_mut'] == 1]\n",
    "print(label_dataset.shape)"
   ]
  },
  {
   "cell_type": "markdown",
   "metadata": {},
   "source": [
    "#### 3.2 'seq' column"
   ]
  },
  {
   "cell_type": "code",
   "execution_count": 248,
   "metadata": {},
   "outputs": [],
   "source": [
    "# Initialize new 'seq' column\n",
    "\n",
    "wt_seq = 'MGQDRPIDGSGAPGADDTRVEVQPPAQWVLDLIEASPIASVVSDPRLADNPLIAINQAFTDLTGYSEEECVGRNCRFLAGSGTEPWLTDKIRQGVREHKPVLVEILNYKKDGTPFRNAVLVAPIYDDDDELLYFLGSQVEVDDDQPNMGMARRERAAEMLKTLSPRQLEVTTLVASGLRNKEVAARLGLSEKTVKMHRGLVMEKLNLKTSADLVRIAVEAGI'\n",
    "\n",
    "label_dataset['seq'] = wt_seq "
   ]
  },
  {
   "cell_type": "code",
   "execution_count": 249,
   "metadata": {},
   "outputs": [],
   "source": [
    "# Create three new columns for original_aa, position, and mutated_aa\n",
    "\n",
    "label_dataset['original_aa'] = label_dataset['Mutation'].str[0:3]\n",
    "label_dataset['position'] = label_dataset['Mutation'].str[3:-3]\n",
    "label_dataset['mutated_aa'] = label_dataset['Mutation'].str[-3:]\n",
    "label_dataset['position'] = pd.to_numeric(label_dataset['position'], errors='coerce')"
   ]
  },
  {
   "cell_type": "code",
   "execution_count": 250,
   "metadata": {},
   "outputs": [],
   "source": [
    "# Then convert 'original_aa' and 'mutated_aa' into one-letter code\n",
    "\n",
    "aa_mapping = {\n",
    "    'Ala': 'A', 'Arg': 'R', 'Asn': 'N', 'Asp': 'D', 'Cys': 'C', 'Glu': 'E',\n",
    "    'Gln': 'Q', 'Gly': 'G', 'His': 'H', 'Ile': 'I', 'Leu': 'L', 'Lys': 'K',\n",
    "    'Met': 'M', 'Phe': 'F', 'Pro': 'P', 'Ser': 'S', 'Thr': 'T', 'Trp': 'W',\n",
    "    'Tyr': 'Y', 'Val': 'V'\n",
    "}\n",
    "\n",
    "label_dataset['mutated_aa'] = label_dataset['mutated_aa'].apply(lambda x: ''.join(aa_mapping[aa] for aa in x.split(' ')))\n",
    "label_dataset['original_aa'] = label_dataset['original_aa'].apply(lambda x: ''.join(aa_mapping[aa] for aa in x.split(' ')))"
   ]
  },
  {
   "cell_type": "code",
   "execution_count": 251,
   "metadata": {},
   "outputs": [],
   "source": [
    "# Mutate the 'seq' column accordingly to the given mutation\n",
    "\n",
    "def mutate_sequence(row):\n",
    "    seq, position, mutated_aa, original_aa, mutation = row['seq'], row['position'], row['mutated_aa'], row['original_aa'], row['Mutation']\n",
    "    position -= 1\n",
    "    \n",
    "    if 0 <= position < len(seq):\n",
    "        seq_list = list(seq)\n",
    "        if seq_list[position] == original_aa:\n",
    "            seq_list[position] = mutated_aa\n",
    "        else:\n",
    "            print(f\"Mutation '{mutation}': Original amino acid at position {position + 1} is not {original_aa}. Skipping mutation.\")\n",
    "        return ''.join(seq_list)\n",
    "    else:\n",
    "        print(f\"Mutation '{mutation}': Position {position + 1} is out of bounds. Skipping mutation.\")\n",
    "        return seq  \n",
    "\n",
    "\n",
    "label_dataset['seq'] = label_dataset.apply(mutate_sequence, axis=1)\n"
   ]
  },
  {
   "cell_type": "code",
   "execution_count": 252,
   "metadata": {},
   "outputs": [
    {
     "data": {
      "text/html": [
       "<div>\n",
       "<style scoped>\n",
       "    .dataframe tbody tr th:only-of-type {\n",
       "        vertical-align: middle;\n",
       "    }\n",
       "\n",
       "    .dataframe tbody tr th {\n",
       "        vertical-align: top;\n",
       "    }\n",
       "\n",
       "    .dataframe thead th {\n",
       "        text-align: right;\n",
       "    }\n",
       "</style>\n",
       "<table border=\"1\" class=\"dataframe\">\n",
       "  <thead>\n",
       "    <tr style=\"text-align: right;\">\n",
       "      <th></th>\n",
       "      <th>Mutation</th>\n",
       "      <th>Light</th>\n",
       "      <th>Darkness</th>\n",
       "      <th>n_mut</th>\n",
       "      <th>seq</th>\n",
       "      <th>original_aa</th>\n",
       "      <th>position</th>\n",
       "      <th>mutated_aa</th>\n",
       "    </tr>\n",
       "  </thead>\n",
       "  <tbody>\n",
       "    <tr>\n",
       "      <th>1</th>\n",
       "      <td>Lys90Glu</td>\n",
       "      <td>-5.717948</td>\n",
       "      <td>0.749374</td>\n",
       "      <td>1</td>\n",
       "      <td>MGQDRPIDGSGAPGADDTRVEVQPPAQWVLDLIEASPIASVVSDPR...</td>\n",
       "      <td>K</td>\n",
       "      <td>90</td>\n",
       "      <td>E</td>\n",
       "    </tr>\n",
       "    <tr>\n",
       "      <th>3</th>\n",
       "      <td>Pro114Arg</td>\n",
       "      <td>676.570607</td>\n",
       "      <td>36.595275</td>\n",
       "      <td>1</td>\n",
       "      <td>MGQDRPIDGSGAPGADDTRVEVQPPAQWVLDLIEASPIASVVSDPR...</td>\n",
       "      <td>P</td>\n",
       "      <td>114</td>\n",
       "      <td>R</td>\n",
       "    </tr>\n",
       "    <tr>\n",
       "      <th>4</th>\n",
       "      <td>Cys75Arg</td>\n",
       "      <td>228.129054</td>\n",
       "      <td>152.705591</td>\n",
       "      <td>1</td>\n",
       "      <td>MGQDRPIDGSGAPGADDTRVEVQPPAQWVLDLIEASPIASVVSDPR...</td>\n",
       "      <td>C</td>\n",
       "      <td>75</td>\n",
       "      <td>R</td>\n",
       "    </tr>\n",
       "    <tr>\n",
       "      <th>5</th>\n",
       "      <td>Glu104Gly</td>\n",
       "      <td>363.278645</td>\n",
       "      <td>96.002665</td>\n",
       "      <td>1</td>\n",
       "      <td>MGQDRPIDGSGAPGADDTRVEVQPPAQWVLDLIEASPIASVVSDPR...</td>\n",
       "      <td>E</td>\n",
       "      <td>104</td>\n",
       "      <td>G</td>\n",
       "    </tr>\n",
       "    <tr>\n",
       "      <th>6</th>\n",
       "      <td>Ile105Val</td>\n",
       "      <td>924.137272</td>\n",
       "      <td>22.264132</td>\n",
       "      <td>1</td>\n",
       "      <td>MGQDRPIDGSGAPGADDTRVEVQPPAQWVLDLIEASPIASVVSDPR...</td>\n",
       "      <td>I</td>\n",
       "      <td>105</td>\n",
       "      <td>V</td>\n",
       "    </tr>\n",
       "  </tbody>\n",
       "</table>\n",
       "</div>"
      ],
      "text/plain": [
       "    Mutation       Light    Darkness  n_mut  \\\n",
       "1   Lys90Glu   -5.717948    0.749374      1   \n",
       "3  Pro114Arg  676.570607   36.595275      1   \n",
       "4   Cys75Arg  228.129054  152.705591      1   \n",
       "5  Glu104Gly  363.278645   96.002665      1   \n",
       "6  Ile105Val  924.137272   22.264132      1   \n",
       "\n",
       "                                                 seq original_aa  position  \\\n",
       "1  MGQDRPIDGSGAPGADDTRVEVQPPAQWVLDLIEASPIASVVSDPR...           K        90   \n",
       "3  MGQDRPIDGSGAPGADDTRVEVQPPAQWVLDLIEASPIASVVSDPR...           P       114   \n",
       "4  MGQDRPIDGSGAPGADDTRVEVQPPAQWVLDLIEASPIASVVSDPR...           C        75   \n",
       "5  MGQDRPIDGSGAPGADDTRVEVQPPAQWVLDLIEASPIASVVSDPR...           E       104   \n",
       "6  MGQDRPIDGSGAPGADDTRVEVQPPAQWVLDLIEASPIASVVSDPR...           I       105   \n",
       "\n",
       "  mutated_aa  \n",
       "1          E  \n",
       "3          R  \n",
       "4          R  \n",
       "5          G  \n",
       "6          V  "
      ]
     },
     "execution_count": 252,
     "metadata": {},
     "output_type": "execute_result"
    }
   ],
   "source": [
    "# Few checks\n",
    "\n",
    "label_dataset.head()"
   ]
  },
  {
   "cell_type": "code",
   "execution_count": 253,
   "metadata": {},
   "outputs": [
    {
     "name": "stdout",
     "output_type": "stream",
     "text": [
      "E\n",
      "R\n",
      "R\n"
     ]
    }
   ],
   "source": [
    "print(label_dataset['seq'].iloc[0][89])\n",
    "print(label_dataset['seq'].iloc[1][113])\n",
    "print(label_dataset['seq'].iloc[2][75])"
   ]
  },
  {
   "cell_type": "markdown",
   "metadata": {},
   "source": [
    "#### 3.3 'mutant column'"
   ]
  },
  {
   "cell_type": "code",
   "execution_count": 254,
   "metadata": {},
   "outputs": [
    {
     "name": "stdout",
     "output_type": "stream",
     "text": [
      "1     K90E\n",
      "3    P114R\n",
      "4     C75R\n",
      "Name: mutant, dtype: object\n"
     ]
    }
   ],
   "source": [
    "# Create a 'mutant' column by concatenating original_aa, position, and mutated_aa\n",
    "\n",
    "label_dataset = label_dataset.copy()  \n",
    "label_dataset['mutant'] = label_dataset['original_aa'] + label_dataset['position'].astype(str) + label_dataset['mutated_aa']\n",
    "\n",
    "print(label_dataset['mutant'].iloc[:3])\n"
   ]
  },
  {
   "cell_type": "markdown",
   "metadata": {},
   "source": [
    "### 4. More Data Processing"
   ]
  },
  {
   "cell_type": "markdown",
   "metadata": {},
   "source": [
    "#### 4.1 Removal of extra columns"
   ]
  },
  {
   "cell_type": "code",
   "execution_count": 255,
   "metadata": {},
   "outputs": [
    {
     "data": {
      "text/html": [
       "<div>\n",
       "<style scoped>\n",
       "    .dataframe tbody tr th:only-of-type {\n",
       "        vertical-align: middle;\n",
       "    }\n",
       "\n",
       "    .dataframe tbody tr th {\n",
       "        vertical-align: top;\n",
       "    }\n",
       "\n",
       "    .dataframe thead th {\n",
       "        text-align: right;\n",
       "    }\n",
       "</style>\n",
       "<table border=\"1\" class=\"dataframe\">\n",
       "  <thead>\n",
       "    <tr style=\"text-align: right;\">\n",
       "      <th></th>\n",
       "      <th>Light</th>\n",
       "      <th>Darkness</th>\n",
       "      <th>n_mut</th>\n",
       "      <th>seq</th>\n",
       "      <th>mutant</th>\n",
       "    </tr>\n",
       "  </thead>\n",
       "  <tbody>\n",
       "    <tr>\n",
       "      <th>1</th>\n",
       "      <td>-5.717948</td>\n",
       "      <td>0.749374</td>\n",
       "      <td>1</td>\n",
       "      <td>MGQDRPIDGSGAPGADDTRVEVQPPAQWVLDLIEASPIASVVSDPR...</td>\n",
       "      <td>K90E</td>\n",
       "    </tr>\n",
       "    <tr>\n",
       "      <th>3</th>\n",
       "      <td>676.570607</td>\n",
       "      <td>36.595275</td>\n",
       "      <td>1</td>\n",
       "      <td>MGQDRPIDGSGAPGADDTRVEVQPPAQWVLDLIEASPIASVVSDPR...</td>\n",
       "      <td>P114R</td>\n",
       "    </tr>\n",
       "    <tr>\n",
       "      <th>4</th>\n",
       "      <td>228.129054</td>\n",
       "      <td>152.705591</td>\n",
       "      <td>1</td>\n",
       "      <td>MGQDRPIDGSGAPGADDTRVEVQPPAQWVLDLIEASPIASVVSDPR...</td>\n",
       "      <td>C75R</td>\n",
       "    </tr>\n",
       "    <tr>\n",
       "      <th>5</th>\n",
       "      <td>363.278645</td>\n",
       "      <td>96.002665</td>\n",
       "      <td>1</td>\n",
       "      <td>MGQDRPIDGSGAPGADDTRVEVQPPAQWVLDLIEASPIASVVSDPR...</td>\n",
       "      <td>E104G</td>\n",
       "    </tr>\n",
       "    <tr>\n",
       "      <th>6</th>\n",
       "      <td>924.137272</td>\n",
       "      <td>22.264132</td>\n",
       "      <td>1</td>\n",
       "      <td>MGQDRPIDGSGAPGADDTRVEVQPPAQWVLDLIEASPIASVVSDPR...</td>\n",
       "      <td>I105V</td>\n",
       "    </tr>\n",
       "  </tbody>\n",
       "</table>\n",
       "</div>"
      ],
      "text/plain": [
       "        Light    Darkness  n_mut  \\\n",
       "1   -5.717948    0.749374      1   \n",
       "3  676.570607   36.595275      1   \n",
       "4  228.129054  152.705591      1   \n",
       "5  363.278645   96.002665      1   \n",
       "6  924.137272   22.264132      1   \n",
       "\n",
       "                                                 seq mutant  \n",
       "1  MGQDRPIDGSGAPGADDTRVEVQPPAQWVLDLIEASPIASVVSDPR...   K90E  \n",
       "3  MGQDRPIDGSGAPGADDTRVEVQPPAQWVLDLIEASPIASVVSDPR...  P114R  \n",
       "4  MGQDRPIDGSGAPGADDTRVEVQPPAQWVLDLIEASPIASVVSDPR...   C75R  \n",
       "5  MGQDRPIDGSGAPGADDTRVEVQPPAQWVLDLIEASPIASVVSDPR...  E104G  \n",
       "6  MGQDRPIDGSGAPGADDTRVEVQPPAQWVLDLIEASPIASVVSDPR...  I105V  "
      ]
     },
     "execution_count": 255,
     "metadata": {},
     "output_type": "execute_result"
    }
   ],
   "source": [
    "label_dataset.drop(['mutated_aa', 'position', 'original_aa', 'Mutation'], axis=1, inplace=True)\n",
    "\n",
    "label_dataset.head()"
   ]
  },
  {
   "cell_type": "markdown",
   "metadata": {},
   "source": [
    "#### 4.2 Creation of two separate labeled datasets"
   ]
  },
  {
   "cell_type": "markdown",
   "metadata": {},
   "source": [
    "> We have two fitness labels per mutant: one corresponding to conditions with light and the other to conditions when the protein of interest is in darkness."
   ]
  },
  {
   "cell_type": "code",
   "execution_count": 256,
   "metadata": {},
   "outputs": [
    {
     "data": {
      "text/html": [
       "<div>\n",
       "<style scoped>\n",
       "    .dataframe tbody tr th:only-of-type {\n",
       "        vertical-align: middle;\n",
       "    }\n",
       "\n",
       "    .dataframe tbody tr th {\n",
       "        vertical-align: top;\n",
       "    }\n",
       "\n",
       "    .dataframe thead th {\n",
       "        text-align: right;\n",
       "    }\n",
       "</style>\n",
       "<table border=\"1\" class=\"dataframe\">\n",
       "  <thead>\n",
       "    <tr style=\"text-align: right;\">\n",
       "      <th></th>\n",
       "      <th>Darkness</th>\n",
       "      <th>n_mut</th>\n",
       "      <th>seq</th>\n",
       "      <th>mutant</th>\n",
       "    </tr>\n",
       "  </thead>\n",
       "  <tbody>\n",
       "    <tr>\n",
       "      <th>1</th>\n",
       "      <td>0.749374</td>\n",
       "      <td>1</td>\n",
       "      <td>MGQDRPIDGSGAPGADDTRVEVQPPAQWVLDLIEASPIASVVSDPR...</td>\n",
       "      <td>K90E</td>\n",
       "    </tr>\n",
       "    <tr>\n",
       "      <th>3</th>\n",
       "      <td>36.595275</td>\n",
       "      <td>1</td>\n",
       "      <td>MGQDRPIDGSGAPGADDTRVEVQPPAQWVLDLIEASPIASVVSDPR...</td>\n",
       "      <td>P114R</td>\n",
       "    </tr>\n",
       "  </tbody>\n",
       "</table>\n",
       "</div>"
      ],
      "text/plain": [
       "    Darkness  n_mut                                                seq mutant\n",
       "1   0.749374      1  MGQDRPIDGSGAPGADDTRVEVQPPAQWVLDLIEASPIASVVSDPR...   K90E\n",
       "3  36.595275      1  MGQDRPIDGSGAPGADDTRVEVQPPAQWVLDLIEASPIASVVSDPR...  P114R"
      ]
     },
     "execution_count": 256,
     "metadata": {},
     "output_type": "execute_result"
    }
   ],
   "source": [
    "label_light = label_dataset.copy().drop('Darkness', axis=1)\n",
    "label_darkness = label_dataset.copy().drop('Light', axis=1)\n",
    "\n",
    "label_darkness.head(2)"
   ]
  },
  {
   "cell_type": "markdown",
   "metadata": {},
   "source": [
    "> We rename the corresponding columns to 'log_fitness,' as is done in the Git repository we are using."
   ]
  },
  {
   "cell_type": "code",
   "execution_count": 257,
   "metadata": {},
   "outputs": [
    {
     "data": {
      "text/html": [
       "<div>\n",
       "<style scoped>\n",
       "    .dataframe tbody tr th:only-of-type {\n",
       "        vertical-align: middle;\n",
       "    }\n",
       "\n",
       "    .dataframe tbody tr th {\n",
       "        vertical-align: top;\n",
       "    }\n",
       "\n",
       "    .dataframe thead th {\n",
       "        text-align: right;\n",
       "    }\n",
       "</style>\n",
       "<table border=\"1\" class=\"dataframe\">\n",
       "  <thead>\n",
       "    <tr style=\"text-align: right;\">\n",
       "      <th></th>\n",
       "      <th>log_fitness</th>\n",
       "      <th>n_mut</th>\n",
       "      <th>seq</th>\n",
       "      <th>mutant</th>\n",
       "    </tr>\n",
       "  </thead>\n",
       "  <tbody>\n",
       "    <tr>\n",
       "      <th>1</th>\n",
       "      <td>0.749374</td>\n",
       "      <td>1</td>\n",
       "      <td>MGQDRPIDGSGAPGADDTRVEVQPPAQWVLDLIEASPIASVVSDPR...</td>\n",
       "      <td>K90E</td>\n",
       "    </tr>\n",
       "    <tr>\n",
       "      <th>3</th>\n",
       "      <td>36.595275</td>\n",
       "      <td>1</td>\n",
       "      <td>MGQDRPIDGSGAPGADDTRVEVQPPAQWVLDLIEASPIASVVSDPR...</td>\n",
       "      <td>P114R</td>\n",
       "    </tr>\n",
       "  </tbody>\n",
       "</table>\n",
       "</div>"
      ],
      "text/plain": [
       "   log_fitness  n_mut                                                seq  \\\n",
       "1     0.749374      1  MGQDRPIDGSGAPGADDTRVEVQPPAQWVLDLIEASPIASVVSDPR...   \n",
       "3    36.595275      1  MGQDRPIDGSGAPGADDTRVEVQPPAQWVLDLIEASPIASVVSDPR...   \n",
       "\n",
       "  mutant  \n",
       "1   K90E  \n",
       "3  P114R  "
      ]
     },
     "execution_count": 257,
     "metadata": {},
     "output_type": "execute_result"
    }
   ],
   "source": [
    "label_darkness = label_darkness.rename(columns={'Darkness': 'log_fitness'})\n",
    "label_light = label_light.rename(columns={'Light': 'log_fitness'})\n",
    "\n",
    "label_darkness.head(2)"
   ]
  },
  {
   "cell_type": "markdown",
   "metadata": {},
   "source": [
    "#### 4.3 Log Fitness Adjustments"
   ]
  },
  {
   "cell_type": "markdown",
   "metadata": {},
   "source": [
    "> We assume that this column does not require additional processing, as stated in the Git README we are using. The term 'log_fitness' represents the log enrichment ratio or other log-scale fitness values, where a higher value indicates better fitness. Although referred to as 'log_fitness' here, it corresponds to the concept of fitness."
   ]
  },
  {
   "cell_type": "markdown",
   "metadata": {},
   "source": [
    "### 5. Processed Datasets savings"
   ]
  },
  {
   "cell_type": "code",
   "execution_count": 258,
   "metadata": {},
   "outputs": [],
   "source": [
    "Darkness_path = 'data/Darkness/data.csv'\n",
    "Light_path = 'data/Light/data.csv'\n",
    "\n",
    "label_darkness.to_csv(Darkness_path)\n",
    "label_light.to_csv(Light_path)"
   ]
  }
 ],
 "metadata": {
  "kernelspec": {
   "display_name": "ada",
   "language": "python",
   "name": "python3"
  },
  "language_info": {
   "codemirror_mode": {
    "name": "ipython",
    "version": 3
   },
   "file_extension": ".py",
   "mimetype": "text/x-python",
   "name": "python",
   "nbconvert_exporter": "python",
   "pygments_lexer": "ipython3",
   "version": "3.9.18"
  }
 },
 "nbformat": 4,
 "nbformat_minor": 2
}
