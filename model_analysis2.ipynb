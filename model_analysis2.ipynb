{
 "cells": [
  {
   "cell_type": "markdown",
   "metadata": {},
   "source": [
    "> In this notebook, we evaluate the models' performance based on the results we obtained through the following Git Repository :  [combining-evolutionary-and-assay-labelled-data](https://github.com/chloechsu/combining-evolutionary-and-assay-labelled-data)."
   ]
  },
  {
   "cell_type": "code",
   "execution_count": 1,
   "metadata": {},
   "outputs": [],
   "source": [
    "import pandas as pd\n",
    "import numpy as np\n",
    "import os\n",
    "\n",
    "import seaborn as sns\n",
    "import matplotlib.pyplot as plt\n",
    "import helpers\n",
    "from matplotlib.backends.backend_pdf import PdfPages"
   ]
  },
  {
   "cell_type": "markdown",
   "metadata": {},
   "source": [
    "### 1. Results Loading"
   ]
  },
  {
   "cell_type": "code",
   "execution_count": 2,
   "metadata": {},
   "outputs": [],
   "source": [
    "RESULTS = 'results/demo/' "
   ]
  },
  {
   "cell_type": "markdown",
   "metadata": {},
   "source": [
    "#### 1.1 Simple linear model without evolutionary data"
   ]
  },
  {
   "cell_type": "code",
   "execution_count": 3,
   "metadata": {},
   "outputs": [],
   "source": [
    "mapping = {\n",
    "    'onehot': 'Ridge Regression',\n",
    "    'ev': 'UnsupervisedEV',\n",
    "    'ev+onehot': 'AugmentedEV'\n",
    "}"
   ]
  },
  {
   "cell_type": "code",
   "execution_count": 4,
   "metadata": {},
   "outputs": [
    {
     "data": {
      "text/html": [
       "<div>\n",
       "<style scoped>\n",
       "    .dataframe tbody tr th:only-of-type {\n",
       "        vertical-align: middle;\n",
       "    }\n",
       "\n",
       "    .dataframe tbody tr th {\n",
       "        vertical-align: top;\n",
       "    }\n",
       "\n",
       "    .dataframe thead th {\n",
       "        text-align: right;\n",
       "    }\n",
       "</style>\n",
       "<table border=\"1\" class=\"dataframe\">\n",
       "  <thead>\n",
       "    <tr style=\"text-align: right;\">\n",
       "      <th></th>\n",
       "      <th>dataset</th>\n",
       "      <th>predictor</th>\n",
       "      <th>predictor_params</th>\n",
       "      <th>seed</th>\n",
       "      <th>n_train</th>\n",
       "      <th>ndcg</th>\n",
       "      <th>ndcg_1mut</th>\n",
       "      <th>spearman</th>\n",
       "      <th>spearman_1mut</th>\n",
       "      <th>topk</th>\n",
       "      <th>topk_mean</th>\n",
       "      <th>topk_mean_1mut</th>\n",
       "    </tr>\n",
       "  </thead>\n",
       "  <tbody>\n",
       "    <tr>\n",
       "      <th>0</th>\n",
       "      <td>BLAT_ECOLX_Ranganathan2015-2500</td>\n",
       "      <td>Ridge Regression</td>\n",
       "      <td>NaN</td>\n",
       "      <td>0</td>\n",
       "      <td>240</td>\n",
       "      <td>0.6010</td>\n",
       "      <td>0.6010</td>\n",
       "      <td>0.4917</td>\n",
       "      <td>0.4917</td>\n",
       "      <td>96</td>\n",
       "      <td>-0.3966</td>\n",
       "      <td>-0.3966</td>\n",
       "    </tr>\n",
       "    <tr>\n",
       "      <th>1</th>\n",
       "      <td>BLAT_ECOLX_Ranganathan2015-2500</td>\n",
       "      <td>Ridge Regression</td>\n",
       "      <td>NaN</td>\n",
       "      <td>1</td>\n",
       "      <td>240</td>\n",
       "      <td>0.6062</td>\n",
       "      <td>0.6062</td>\n",
       "      <td>0.4932</td>\n",
       "      <td>0.4932</td>\n",
       "      <td>96</td>\n",
       "      <td>-0.3646</td>\n",
       "      <td>-0.3646</td>\n",
       "    </tr>\n",
       "    <tr>\n",
       "      <th>2</th>\n",
       "      <td>BLAT_ECOLX_Ranganathan2015-2500</td>\n",
       "      <td>Ridge Regression</td>\n",
       "      <td>NaN</td>\n",
       "      <td>2</td>\n",
       "      <td>240</td>\n",
       "      <td>0.5948</td>\n",
       "      <td>0.5948</td>\n",
       "      <td>0.4835</td>\n",
       "      <td>0.4835</td>\n",
       "      <td>96</td>\n",
       "      <td>-0.3440</td>\n",
       "      <td>-0.3440</td>\n",
       "    </tr>\n",
       "    <tr>\n",
       "      <th>3</th>\n",
       "      <td>BLAT_ECOLX_Ranganathan2015-2500</td>\n",
       "      <td>Ridge Regression</td>\n",
       "      <td>NaN</td>\n",
       "      <td>3</td>\n",
       "      <td>240</td>\n",
       "      <td>0.6101</td>\n",
       "      <td>0.6101</td>\n",
       "      <td>0.4385</td>\n",
       "      <td>0.4385</td>\n",
       "      <td>96</td>\n",
       "      <td>-0.2888</td>\n",
       "      <td>-0.2888</td>\n",
       "    </tr>\n",
       "    <tr>\n",
       "      <th>4</th>\n",
       "      <td>BLAT_ECOLX_Ranganathan2015-2500</td>\n",
       "      <td>Ridge Regression</td>\n",
       "      <td>NaN</td>\n",
       "      <td>4</td>\n",
       "      <td>240</td>\n",
       "      <td>0.6077</td>\n",
       "      <td>0.6077</td>\n",
       "      <td>0.4747</td>\n",
       "      <td>0.4747</td>\n",
       "      <td>96</td>\n",
       "      <td>-0.2830</td>\n",
       "      <td>-0.2830</td>\n",
       "    </tr>\n",
       "  </tbody>\n",
       "</table>\n",
       "</div>"
      ],
      "text/plain": [
       "                           dataset         predictor  predictor_params  seed  \\\n",
       "0  BLAT_ECOLX_Ranganathan2015-2500  Ridge Regression               NaN     0   \n",
       "1  BLAT_ECOLX_Ranganathan2015-2500  Ridge Regression               NaN     1   \n",
       "2  BLAT_ECOLX_Ranganathan2015-2500  Ridge Regression               NaN     2   \n",
       "3  BLAT_ECOLX_Ranganathan2015-2500  Ridge Regression               NaN     3   \n",
       "4  BLAT_ECOLX_Ranganathan2015-2500  Ridge Regression               NaN     4   \n",
       "\n",
       "   n_train    ndcg  ndcg_1mut  spearman  spearman_1mut  topk  topk_mean  \\\n",
       "0      240  0.6010     0.6010    0.4917         0.4917    96    -0.3966   \n",
       "1      240  0.6062     0.6062    0.4932         0.4932    96    -0.3646   \n",
       "2      240  0.5948     0.5948    0.4835         0.4835    96    -0.3440   \n",
       "3      240  0.6101     0.6101    0.4385         0.4385    96    -0.2888   \n",
       "4      240  0.6077     0.6077    0.4747         0.4747    96    -0.2830   \n",
       "\n",
       "   topk_mean_1mut  \n",
       "0         -0.3966  \n",
       "1         -0.3646  \n",
       "2         -0.3440  \n",
       "3         -0.2888  \n",
       "4         -0.2830  "
      ]
     },
     "execution_count": 4,
     "metadata": {},
     "output_type": "execute_result"
    }
   ],
   "source": [
    "non_augmented_linear = pd.read_csv(RESULTS + 'non_augmented_linear_model.csv')\n",
    "non_augmented_linear['predictor'] = non_augmented_linear['predictor'].replace(mapping)\n",
    "non_augmented_linear.head()"
   ]
  },
  {
   "cell_type": "markdown",
   "metadata": {},
   "source": [
    "#### 1.2 EV Potts"
   ]
  },
  {
   "cell_type": "code",
   "execution_count": 5,
   "metadata": {},
   "outputs": [
    {
     "data": {
      "text/html": [
       "<div>\n",
       "<style scoped>\n",
       "    .dataframe tbody tr th:only-of-type {\n",
       "        vertical-align: middle;\n",
       "    }\n",
       "\n",
       "    .dataframe tbody tr th {\n",
       "        vertical-align: top;\n",
       "    }\n",
       "\n",
       "    .dataframe thead th {\n",
       "        text-align: right;\n",
       "    }\n",
       "</style>\n",
       "<table border=\"1\" class=\"dataframe\">\n",
       "  <thead>\n",
       "    <tr style=\"text-align: right;\">\n",
       "      <th></th>\n",
       "      <th>dataset</th>\n",
       "      <th>predictor</th>\n",
       "      <th>predictor_params</th>\n",
       "      <th>seed</th>\n",
       "      <th>n_train</th>\n",
       "      <th>ndcg</th>\n",
       "      <th>ndcg_1mut</th>\n",
       "      <th>spearman</th>\n",
       "      <th>spearman_1mut</th>\n",
       "      <th>topk</th>\n",
       "      <th>topk_mean</th>\n",
       "      <th>topk_mean_1mut</th>\n",
       "    </tr>\n",
       "  </thead>\n",
       "  <tbody>\n",
       "    <tr>\n",
       "      <th>0</th>\n",
       "      <td>BLAT_ECOLX_Ranganathan2015-2500</td>\n",
       "      <td>UnsupervisedEV</td>\n",
       "      <td>NaN</td>\n",
       "      <td>0</td>\n",
       "      <td>240</td>\n",
       "      <td>0.7656</td>\n",
       "      <td>0.7656</td>\n",
       "      <td>0.6674</td>\n",
       "      <td>0.6674</td>\n",
       "      <td>96</td>\n",
       "      <td>-0.1659</td>\n",
       "      <td>-0.1659</td>\n",
       "    </tr>\n",
       "    <tr>\n",
       "      <th>1</th>\n",
       "      <td>BLAT_ECOLX_Ranganathan2015-2500</td>\n",
       "      <td>UnsupervisedEV</td>\n",
       "      <td>NaN</td>\n",
       "      <td>1</td>\n",
       "      <td>240</td>\n",
       "      <td>0.7886</td>\n",
       "      <td>0.7886</td>\n",
       "      <td>0.6808</td>\n",
       "      <td>0.6808</td>\n",
       "      <td>96</td>\n",
       "      <td>-0.1267</td>\n",
       "      <td>-0.1267</td>\n",
       "    </tr>\n",
       "    <tr>\n",
       "      <th>2</th>\n",
       "      <td>BLAT_ECOLX_Ranganathan2015-2500</td>\n",
       "      <td>UnsupervisedEV</td>\n",
       "      <td>NaN</td>\n",
       "      <td>2</td>\n",
       "      <td>240</td>\n",
       "      <td>0.7841</td>\n",
       "      <td>0.7841</td>\n",
       "      <td>0.6666</td>\n",
       "      <td>0.6666</td>\n",
       "      <td>96</td>\n",
       "      <td>-0.0941</td>\n",
       "      <td>-0.0941</td>\n",
       "    </tr>\n",
       "    <tr>\n",
       "      <th>3</th>\n",
       "      <td>BLAT_ECOLX_Ranganathan2015-2500</td>\n",
       "      <td>UnsupervisedEV</td>\n",
       "      <td>NaN</td>\n",
       "      <td>3</td>\n",
       "      <td>240</td>\n",
       "      <td>0.7561</td>\n",
       "      <td>0.7561</td>\n",
       "      <td>0.6646</td>\n",
       "      <td>0.6646</td>\n",
       "      <td>96</td>\n",
       "      <td>-0.1693</td>\n",
       "      <td>-0.1693</td>\n",
       "    </tr>\n",
       "    <tr>\n",
       "      <th>4</th>\n",
       "      <td>BLAT_ECOLX_Ranganathan2015-2500</td>\n",
       "      <td>UnsupervisedEV</td>\n",
       "      <td>NaN</td>\n",
       "      <td>4</td>\n",
       "      <td>240</td>\n",
       "      <td>0.7787</td>\n",
       "      <td>0.7787</td>\n",
       "      <td>0.6811</td>\n",
       "      <td>0.6811</td>\n",
       "      <td>96</td>\n",
       "      <td>-0.1084</td>\n",
       "      <td>-0.1084</td>\n",
       "    </tr>\n",
       "  </tbody>\n",
       "</table>\n",
       "</div>"
      ],
      "text/plain": [
       "                           dataset       predictor  predictor_params  seed  \\\n",
       "0  BLAT_ECOLX_Ranganathan2015-2500  UnsupervisedEV               NaN     0   \n",
       "1  BLAT_ECOLX_Ranganathan2015-2500  UnsupervisedEV               NaN     1   \n",
       "2  BLAT_ECOLX_Ranganathan2015-2500  UnsupervisedEV               NaN     2   \n",
       "3  BLAT_ECOLX_Ranganathan2015-2500  UnsupervisedEV               NaN     3   \n",
       "4  BLAT_ECOLX_Ranganathan2015-2500  UnsupervisedEV               NaN     4   \n",
       "\n",
       "   n_train    ndcg  ndcg_1mut  spearman  spearman_1mut  topk  topk_mean  \\\n",
       "0      240  0.7656     0.7656    0.6674         0.6674    96    -0.1659   \n",
       "1      240  0.7886     0.7886    0.6808         0.6808    96    -0.1267   \n",
       "2      240  0.7841     0.7841    0.6666         0.6666    96    -0.0941   \n",
       "3      240  0.7561     0.7561    0.6646         0.6646    96    -0.1693   \n",
       "4      240  0.7787     0.7787    0.6811         0.6811    96    -0.1084   \n",
       "\n",
       "   topk_mean_1mut  \n",
       "0         -0.1659  \n",
       "1         -0.1267  \n",
       "2         -0.0941  \n",
       "3         -0.1693  \n",
       "4         -0.1084  "
      ]
     },
     "execution_count": 5,
     "metadata": {},
     "output_type": "execute_result"
    }
   ],
   "source": [
    "ev_msa_only = pd.read_csv(RESULTS + 'ev.csv')\n",
    "ev_msa_only['predictor'] = ev_msa_only['predictor'].replace(mapping)\n",
    "ev_msa_only.head()"
   ]
  },
  {
   "cell_type": "markdown",
   "metadata": {},
   "source": [
    "#### 1.3 Augmented EV Potts"
   ]
  },
  {
   "cell_type": "code",
   "execution_count": 6,
   "metadata": {},
   "outputs": [
    {
     "data": {
      "text/html": [
       "<div>\n",
       "<style scoped>\n",
       "    .dataframe tbody tr th:only-of-type {\n",
       "        vertical-align: middle;\n",
       "    }\n",
       "\n",
       "    .dataframe tbody tr th {\n",
       "        vertical-align: top;\n",
       "    }\n",
       "\n",
       "    .dataframe thead th {\n",
       "        text-align: right;\n",
       "    }\n",
       "</style>\n",
       "<table border=\"1\" class=\"dataframe\">\n",
       "  <thead>\n",
       "    <tr style=\"text-align: right;\">\n",
       "      <th></th>\n",
       "      <th>dataset</th>\n",
       "      <th>predictor</th>\n",
       "      <th>predictor_params</th>\n",
       "      <th>seed</th>\n",
       "      <th>n_train</th>\n",
       "      <th>ndcg</th>\n",
       "      <th>ndcg_1mut</th>\n",
       "      <th>spearman</th>\n",
       "      <th>spearman_1mut</th>\n",
       "      <th>topk</th>\n",
       "      <th>topk_mean</th>\n",
       "      <th>topk_mean_1mut</th>\n",
       "    </tr>\n",
       "  </thead>\n",
       "  <tbody>\n",
       "    <tr>\n",
       "      <th>0</th>\n",
       "      <td>BLAT_ECOLX_Ranganathan2015-2500</td>\n",
       "      <td>AugmentedEV</td>\n",
       "      <td>NaN</td>\n",
       "      <td>0</td>\n",
       "      <td>240</td>\n",
       "      <td>0.8174</td>\n",
       "      <td>0.8174</td>\n",
       "      <td>0.7332</td>\n",
       "      <td>0.7332</td>\n",
       "      <td>96</td>\n",
       "      <td>-0.1168</td>\n",
       "      <td>-0.1168</td>\n",
       "    </tr>\n",
       "    <tr>\n",
       "      <th>1</th>\n",
       "      <td>BLAT_ECOLX_Ranganathan2015-2500</td>\n",
       "      <td>AugmentedEV</td>\n",
       "      <td>NaN</td>\n",
       "      <td>1</td>\n",
       "      <td>240</td>\n",
       "      <td>0.8350</td>\n",
       "      <td>0.8350</td>\n",
       "      <td>0.7446</td>\n",
       "      <td>0.7446</td>\n",
       "      <td>96</td>\n",
       "      <td>-0.0796</td>\n",
       "      <td>-0.0796</td>\n",
       "    </tr>\n",
       "    <tr>\n",
       "      <th>2</th>\n",
       "      <td>BLAT_ECOLX_Ranganathan2015-2500</td>\n",
       "      <td>AugmentedEV</td>\n",
       "      <td>NaN</td>\n",
       "      <td>2</td>\n",
       "      <td>240</td>\n",
       "      <td>0.8377</td>\n",
       "      <td>0.8377</td>\n",
       "      <td>0.7413</td>\n",
       "      <td>0.7413</td>\n",
       "      <td>96</td>\n",
       "      <td>-0.0622</td>\n",
       "      <td>-0.0622</td>\n",
       "    </tr>\n",
       "    <tr>\n",
       "      <th>3</th>\n",
       "      <td>BLAT_ECOLX_Ranganathan2015-2500</td>\n",
       "      <td>AugmentedEV</td>\n",
       "      <td>NaN</td>\n",
       "      <td>3</td>\n",
       "      <td>240</td>\n",
       "      <td>0.8208</td>\n",
       "      <td>0.8208</td>\n",
       "      <td>0.7406</td>\n",
       "      <td>0.7406</td>\n",
       "      <td>96</td>\n",
       "      <td>-0.0809</td>\n",
       "      <td>-0.0809</td>\n",
       "    </tr>\n",
       "    <tr>\n",
       "      <th>4</th>\n",
       "      <td>BLAT_ECOLX_Ranganathan2015-2500</td>\n",
       "      <td>AugmentedEV</td>\n",
       "      <td>NaN</td>\n",
       "      <td>4</td>\n",
       "      <td>240</td>\n",
       "      <td>0.8267</td>\n",
       "      <td>0.8267</td>\n",
       "      <td>0.7497</td>\n",
       "      <td>0.7497</td>\n",
       "      <td>96</td>\n",
       "      <td>-0.0983</td>\n",
       "      <td>-0.0983</td>\n",
       "    </tr>\n",
       "  </tbody>\n",
       "</table>\n",
       "</div>"
      ],
      "text/plain": [
       "                           dataset    predictor  predictor_params  seed  \\\n",
       "0  BLAT_ECOLX_Ranganathan2015-2500  AugmentedEV               NaN     0   \n",
       "1  BLAT_ECOLX_Ranganathan2015-2500  AugmentedEV               NaN     1   \n",
       "2  BLAT_ECOLX_Ranganathan2015-2500  AugmentedEV               NaN     2   \n",
       "3  BLAT_ECOLX_Ranganathan2015-2500  AugmentedEV               NaN     3   \n",
       "4  BLAT_ECOLX_Ranganathan2015-2500  AugmentedEV               NaN     4   \n",
       "\n",
       "   n_train    ndcg  ndcg_1mut  spearman  spearman_1mut  topk  topk_mean  \\\n",
       "0      240  0.8174     0.8174    0.7332         0.7332    96    -0.1168   \n",
       "1      240  0.8350     0.8350    0.7446         0.7446    96    -0.0796   \n",
       "2      240  0.8377     0.8377    0.7413         0.7413    96    -0.0622   \n",
       "3      240  0.8208     0.8208    0.7406         0.7406    96    -0.0809   \n",
       "4      240  0.8267     0.8267    0.7497         0.7497    96    -0.0983   \n",
       "\n",
       "   topk_mean_1mut  \n",
       "0         -0.1168  \n",
       "1         -0.0796  \n",
       "2         -0.0622  \n",
       "3         -0.0809  \n",
       "4         -0.0983  "
      ]
     },
     "execution_count": 6,
     "metadata": {},
     "output_type": "execute_result"
    }
   ],
   "source": [
    "ev_augmented = pd.read_csv(RESULTS + 'onehotev.csv')\n",
    "ev_augmented['predictor'] = ev_augmented['predictor'].replace(mapping)\n",
    "ev_augmented.head()"
   ]
  },
  {
   "cell_type": "markdown",
   "metadata": {},
   "source": [
    "### 2. Models comparison"
   ]
  },
  {
   "cell_type": "markdown",
   "metadata": {},
   "source": [
    "> About the columns' names: \n",
    "> - `seed` : \n",
    "> - `spearman` : Spearman Correlation between true labels and predicted labels. \n",
    "\n",
    "\n"
   ]
  },
  {
   "cell_type": "code",
   "execution_count": 7,
   "metadata": {},
   "outputs": [
    {
     "name": "stderr",
     "output_type": "stream",
     "text": [
      "C:\\Users\\kleka\\AppData\\Local\\Temp\\ipykernel_17232\\1107995797.py:25: FutureWarning: \n",
      "\n",
      "Passing `palette` without assigning `hue` is deprecated and will be removed in v0.14.0. Assign the `x` variable to `hue` and set `legend=False` for the same effect.\n",
      "\n",
      "  sns.boxplot(data = concatenated_df, x=\"predictor\", y = \"spearman\", palette = custom_palette, showmeans = True, meanprops = { \"markerfacecolor\":\"white\", \"markeredgecolor\":\"black\"}, ax=ax1)\n",
      "C:\\Users\\kleka\\AppData\\Local\\Temp\\ipykernel_17232\\1107995797.py:25: UserWarning: The palette list has more values (12) than needed (3), which may not be intended.\n",
      "  sns.boxplot(data = concatenated_df, x=\"predictor\", y = \"spearman\", palette = custom_palette, showmeans = True, meanprops = { \"markerfacecolor\":\"white\", \"markeredgecolor\":\"black\"}, ax=ax1)\n",
      "C:\\Users\\kleka\\AppData\\Local\\Temp\\ipykernel_17232\\1107995797.py:44: FutureWarning: \n",
      "\n",
      "Passing `palette` without assigning `hue` is deprecated and will be removed in v0.14.0. Assign the `x` variable to `hue` and set `legend=False` for the same effect.\n",
      "\n",
      "  sns.boxplot(data = df_blat_train28, x = \"predictor\", y = \"spearman\", palette = custom_palette, showmeans = True, meanprops = { \"markerfacecolor\":\"white\", \"markeredgecolor\":\"black\"}, ax=ax2)\n",
      "C:\\Users\\kleka\\AppData\\Local\\Temp\\ipykernel_17232\\1107995797.py:44: UserWarning: The palette list has more values (12) than needed (3), which may not be intended.\n",
      "  sns.boxplot(data = df_blat_train28, x = \"predictor\", y = \"spearman\", palette = custom_palette, showmeans = True, meanprops = { \"markerfacecolor\":\"white\", \"markeredgecolor\":\"black\"}, ax=ax2)\n",
      "C:\\Users\\kleka\\AppData\\Local\\Temp\\ipykernel_17232\\1107995797.py:63: UserWarning: The figure layout has changed to tight\n",
      "  plt.tight_layout()\n"
     ]
    },
    {
     "data": {
      "image/png": "[encoded data removed]",
      "text/plain": [
       "<Figure size 1200x600 with 2 Axes>"
      ]
     },
     "metadata": {},
     "output_type": "display_data"
    },
    {
     "data": {
      "image/png": "[encoded data removed]",
      "text/plain": [
       "<Figure size 1000x600 with 1 Axes>"
      ]
     },
     "metadata": {},
     "output_type": "display_data"
    },
    {
     "data": {
      "text/plain": [
       "<Figure size 1000x600 with 0 Axes>"
      ]
     },
     "metadata": {},
     "output_type": "display_data"
    }
   ],
   "source": [
    "\n",
    "concatenated_df = pd.concat([non_augmented_linear, ev_msa_only, ev_augmented])\n",
    "df_blat_train28 = pd.read_csv('results/BLAT_ECOLX_Ranganathan2015-2500/results.csv')\n",
    "\n",
    "df_blat_train28['predictor'] = df_blat_train28['predictor'].replace(mapping)\n",
    "\n",
    "# Define the order\n",
    "order = ['Ridge Regression', 'UnsupervisedEV', 'AugmentedEV']\n",
    "\n",
    "# Sort the DataFrame by 'predictors' column using the defined order\n",
    "df_blat_train28['predictor'] = pd.Categorical(df_blat_train28['predictor'], categories=order, ordered=True)\n",
    "df_blat_train28 = df_blat_train28.sort_values('predictor')\n",
    "\n",
    "\n",
    "# Create a PDF file to save the plots\n",
    "with PdfPages('blat_plots960.pdf') as pdf:\n",
    "\n",
    "    fig, (ax1, ax2) = plt.subplots(1, 2, figsize=(12, 6))\n",
    "\n",
    "    sns.set(style = \"whitegrid\")\n",
    "    custom_palette = sns.color_palette(\"Set3\")\n",
    "\n",
    "    plt.figure(figsize = (10, 6))\n",
    "    sns.boxplot(data = concatenated_df, x=\"predictor\", y = \"spearman\", palette = custom_palette, showmeans = True, meanprops = { \"markerfacecolor\":\"white\", \"markeredgecolor\":\"black\"}, ax=ax1)\n",
    "\n",
    "    ax1.set_xlabel('')  # Remove x-label\n",
    "    ax1.set_ylabel('')  # Remove y-label\n",
    "\n",
    "\n",
    "    plt.xlabel('Predictor', fontsize = 14)\n",
    "    plt.ylabel('Spearman Correlation', fontsize = 14)\n",
    "\n",
    "    plt.tight_layout()\n",
    "\n",
    "    # Beautiful Box Plot\n",
    "\n",
    "    sns.set(style = \"whitegrid\")\n",
    "    custom_palette = sns.color_palette(\"Set3\")\n",
    "\n",
    "\n",
    "    plt.figure(figsize = (10, 6))\n",
    "    sns.boxplot(data = df_blat_train28, x = \"predictor\", y = \"spearman\", palette = custom_palette, showmeans = True, meanprops = { \"markerfacecolor\":\"white\", \"markeredgecolor\":\"black\"}, ax=ax2)\n",
    "\n",
    "    ax2.set_xlabel('')  # Remove x-label\n",
    "    ax2.set_ylabel('')  # Remove y-label\n",
    "\n",
    "    # Determine the y-axis limits (you can adjust these limits as per your data)\n",
    "    y_min = min(ax1.get_ylim()[0], ax2.get_ylim()[0])\n",
    "    y_max = max(ax1.get_ylim()[1], ax2.get_ylim()[1])\n",
    "\n",
    "    # Set the same y-axis limits for both subplots\n",
    "    ax1.set_ylim(y_min, y_max)\n",
    "    ax2.set_ylim(y_min, y_max)\n",
    "\n",
    "    fig.text(0.5, 0.04, 'Predictor', ha='center', va='center')\n",
    "    fig.text(0.04, 0.5, 'Spearman Correlation', ha='center', va='center', rotation='vertical')\n",
    "\n",
    "    plt.tight_layout(rect=[0, 0.03, 1, 0.95]) \n",
    "    pdf.savefig(fig, dpi=300)\n",
    "\n",
    "    plt.tight_layout()\n"
   ]
  },
  {
   "cell_type": "code",
   "execution_count": 8,
   "metadata": {},
   "outputs": [
    {
     "name": "stderr",
     "output_type": "stream",
     "text": [
      "C:\\Users\\kleka\\AppData\\Local\\Temp\\ipykernel_17232\\435043455.py:16: FutureWarning: \n",
      "\n",
      "Passing `palette` without assigning `hue` is deprecated and will be removed in v0.14.0. Assign the `x` variable to `hue` and set `legend=False` for the same effect.\n",
      "\n",
      "  sns.boxplot(data=df_Light, x=\"predictor\", y=\"spearman\", palette=palette, showmeans=True,\n",
      "C:\\Users\\kleka\\AppData\\Local\\Temp\\ipykernel_17232\\435043455.py:16: UserWarning: The palette list has more values (12) than needed (3), which may not be intended.\n",
      "  sns.boxplot(data=df_Light, x=\"predictor\", y=\"spearman\", palette=palette, showmeans=True,\n"
     ]
    },
    {
     "data": {
      "image/png": "[encoded data removed]",
      "text/plain": [
       "<Figure size 1000x600 with 1 Axes>"
      ]
     },
     "metadata": {},
     "output_type": "display_data"
    }
   ],
   "source": [
    "df_Light = pd.read_csv('results/Light/results.csv')\n",
    "\n",
    "df_Light['predictor'] = df_Light['predictor'].replace(mapping)\n",
    "# Define a custom order\n",
    "order = ['Ridge Regression', 'UnsupervisedEV', 'AugmentedEV']\n",
    "\n",
    "# Sort the DataFrame by 'predictors' column using the defined order\n",
    "df_Light['predictor'] = pd.Categorical(df_Light['predictor'], categories=order, ordered=True)\n",
    "df_Light = df_Light.sort_values('predictor')\n",
    "\n",
    "# Use Seaborn to plot the box plot\n",
    "sns.set(style=\"whitegrid\")\n",
    "palette = sns.color_palette(\"Set3\")\n",
    "\n",
    "plt.figure(figsize=(10, 6))\n",
    "sns.boxplot(data=df_Light, x=\"predictor\", y=\"spearman\", palette=palette, showmeans=True, \n",
    "            meanprops={\"markerfacecolor\":\"white\", \"markeredgecolor\":\"black\"})\n",
    "\n",
    "plt.xlabel('Predictor', fontsize=14)\n",
    "plt.ylabel('Spearman Correlation', fontsize=14)\n",
    "plt.tight_layout()\n",
    "plt.savefig('plots/Light_model_comparison.pdf', dpi = 300)\n",
    "plt.show()"
   ]
  },
  {
   "cell_type": "markdown",
   "metadata": {},
   "source": [
    "### 3. Test size comparison"
   ]
  },
  {
   "cell_type": "code",
   "execution_count": 11,
   "metadata": {},
   "outputs": [
    {
     "name": "stderr",
     "output_type": "stream",
     "text": [
      "C:\\Users\\kleka\\AppData\\Local\\Temp\\ipykernel_17232\\1478170663.py:25: FutureWarning: \n",
      "\n",
      "Passing `palette` without assigning `hue` is deprecated and will be removed in v0.14.0. Assign the `x` variable to `hue` and set `legend=False` for the same effect.\n",
      "\n",
      "  sns.boxplot(x='training_size', y='spearman', data=results_df, palette=custom_palette)\n",
      "C:\\Users\\kleka\\AppData\\Local\\Temp\\ipykernel_17232\\1478170663.py:25: UserWarning: \n",
      "The palette list has fewer values (1) than needed (6) and will cycle, which may produce an uninterpretable plot.\n",
      "  sns.boxplot(x='training_size', y='spearman', data=results_df, palette=custom_palette)\n"
     ]
    },
    {
     "data": {
      "image/png": "[encoded data removed]",
      "text/plain": [
       "<Figure size 1000x600 with 1 Axes>"
      ]
     },
     "metadata": {},
     "output_type": "display_data"
    }
   ],
   "source": [
    "base_path = 'results'\n",
    "plot_spearman_boxplot(base_path)"
   ]
  }
 ],
 "metadata": {
  "kernelspec": {
   "display_name": "Python 3",
   "language": "python",
   "name": "python3"
  },
  "language_info": {
   "codemirror_mode": {
    "name": "ipython",
    "version": 3
   },
   "file_extension": ".py",
   "mimetype": "text/x-python",
   "name": "python",
   "nbconvert_exporter": "python",
   "pygments_lexer": "ipython3",
   "version": "3.11.5"
  }
 },
 "nbformat": 4,
 "nbformat_minor": 2
}
