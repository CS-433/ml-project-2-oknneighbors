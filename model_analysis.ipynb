{
 "cells": [
  {
   "cell_type": "markdown",
   "metadata": {},
   "source": [
    "> In this notebook, we will evaluate the models' performance based on the results we obtained through the Git :  [combining-evolutionary-and-assay-labelled-data](https://github.com/chloechsu/combining-evolutionary-and-assay-labelled-data)"
   ]
  },
  {
   "cell_type": "code",
   "execution_count": 1,
   "metadata": {},
   "outputs": [],
   "source": [
    "# Imports \n",
    "import pandas as pd\n",
    "import numpy as np"
   ]
  },
  {
   "cell_type": "markdown",
   "metadata": {},
   "source": [
    "### 1. Results Loading"
   ]
  },
  {
   "cell_type": "code",
   "execution_count": 5,
   "metadata": {},
   "outputs": [],
   "source": [
    "RESULTS = 'results/demo/' "
   ]
  },
  {
   "cell_type": "markdown",
   "metadata": {},
   "source": [
    "#### 1.1 Simple linear model without evolutionary data"
   ]
  },
  {
   "cell_type": "code",
   "execution_count": 7,
   "metadata": {},
   "outputs": [
    {
     "data": {
      "text/html": [
       "<div>\n",
       "<style scoped>\n",
       "    .dataframe tbody tr th:only-of-type {\n",
       "        vertical-align: middle;\n",
       "    }\n",
       "\n",
       "    .dataframe tbody tr th {\n",
       "        vertical-align: top;\n",
       "    }\n",
       "\n",
       "    .dataframe thead th {\n",
       "        text-align: right;\n",
       "    }\n",
       "</style>\n",
       "<table border=\"1\" class=\"dataframe\">\n",
       "  <thead>\n",
       "    <tr style=\"text-align: right;\">\n",
       "      <th></th>\n",
       "      <th>dataset</th>\n",
       "      <th>predictor</th>\n",
       "      <th>predictor_params</th>\n",
       "      <th>seed</th>\n",
       "      <th>n_train</th>\n",
       "      <th>ndcg</th>\n",
       "      <th>ndcg_1mut</th>\n",
       "      <th>spearman</th>\n",
       "      <th>spearman_1mut</th>\n",
       "      <th>topk</th>\n",
       "      <th>topk_mean</th>\n",
       "      <th>topk_mean_1mut</th>\n",
       "    </tr>\n",
       "  </thead>\n",
       "  <tbody>\n",
       "    <tr>\n",
       "      <th>0</th>\n",
       "      <td>BLAT_ECOLX_Ranganathan2015-2500</td>\n",
       "      <td>onehot</td>\n",
       "      <td>NaN</td>\n",
       "      <td>0</td>\n",
       "      <td>240</td>\n",
       "      <td>0.6533</td>\n",
       "      <td>0.6533</td>\n",
       "      <td>0.4880</td>\n",
       "      <td>0.4880</td>\n",
       "      <td>96</td>\n",
       "      <td>-0.2295</td>\n",
       "      <td>-0.2295</td>\n",
       "    </tr>\n",
       "    <tr>\n",
       "      <th>1</th>\n",
       "      <td>BLAT_ECOLX_Ranganathan2015-2500</td>\n",
       "      <td>onehot</td>\n",
       "      <td>NaN</td>\n",
       "      <td>1</td>\n",
       "      <td>240</td>\n",
       "      <td>0.6612</td>\n",
       "      <td>0.6612</td>\n",
       "      <td>0.5015</td>\n",
       "      <td>0.5015</td>\n",
       "      <td>96</td>\n",
       "      <td>-0.1937</td>\n",
       "      <td>-0.1937</td>\n",
       "    </tr>\n",
       "    <tr>\n",
       "      <th>2</th>\n",
       "      <td>BLAT_ECOLX_Ranganathan2015-2500</td>\n",
       "      <td>onehot</td>\n",
       "      <td>NaN</td>\n",
       "      <td>2</td>\n",
       "      <td>240</td>\n",
       "      <td>0.6164</td>\n",
       "      <td>0.6164</td>\n",
       "      <td>0.5138</td>\n",
       "      <td>0.5138</td>\n",
       "      <td>96</td>\n",
       "      <td>-0.3840</td>\n",
       "      <td>-0.3840</td>\n",
       "    </tr>\n",
       "    <tr>\n",
       "      <th>3</th>\n",
       "      <td>BLAT_ECOLX_Ranganathan2015-2500</td>\n",
       "      <td>onehot</td>\n",
       "      <td>NaN</td>\n",
       "      <td>3</td>\n",
       "      <td>240</td>\n",
       "      <td>0.6706</td>\n",
       "      <td>0.6706</td>\n",
       "      <td>0.5581</td>\n",
       "      <td>0.5581</td>\n",
       "      <td>96</td>\n",
       "      <td>-0.2886</td>\n",
       "      <td>-0.2886</td>\n",
       "    </tr>\n",
       "    <tr>\n",
       "      <th>4</th>\n",
       "      <td>BLAT_ECOLX_Ranganathan2015-2500</td>\n",
       "      <td>onehot</td>\n",
       "      <td>NaN</td>\n",
       "      <td>4</td>\n",
       "      <td>240</td>\n",
       "      <td>0.6449</td>\n",
       "      <td>0.6449</td>\n",
       "      <td>0.5368</td>\n",
       "      <td>0.5368</td>\n",
       "      <td>96</td>\n",
       "      <td>-0.2959</td>\n",
       "      <td>-0.2959</td>\n",
       "    </tr>\n",
       "  </tbody>\n",
       "</table>\n",
       "</div>"
      ],
      "text/plain": [
       "                           dataset predictor  predictor_params  seed  n_train  \\\n",
       "0  BLAT_ECOLX_Ranganathan2015-2500    onehot               NaN     0      240   \n",
       "1  BLAT_ECOLX_Ranganathan2015-2500    onehot               NaN     1      240   \n",
       "2  BLAT_ECOLX_Ranganathan2015-2500    onehot               NaN     2      240   \n",
       "3  BLAT_ECOLX_Ranganathan2015-2500    onehot               NaN     3      240   \n",
       "4  BLAT_ECOLX_Ranganathan2015-2500    onehot               NaN     4      240   \n",
       "\n",
       "     ndcg  ndcg_1mut  spearman  spearman_1mut  topk  topk_mean  topk_mean_1mut  \n",
       "0  0.6533     0.6533    0.4880         0.4880    96    -0.2295         -0.2295  \n",
       "1  0.6612     0.6612    0.5015         0.5015    96    -0.1937         -0.1937  \n",
       "2  0.6164     0.6164    0.5138         0.5138    96    -0.3840         -0.3840  \n",
       "3  0.6706     0.6706    0.5581         0.5581    96    -0.2886         -0.2886  \n",
       "4  0.6449     0.6449    0.5368         0.5368    96    -0.2959         -0.2959  "
      ]
     },
     "execution_count": 7,
     "metadata": {},
     "output_type": "execute_result"
    }
   ],
   "source": [
    "simple_linear = pd.read_csv(RESULTS+'linear_one_hot_only_labels_20seeds_240trainsample.csv')\n",
    "simple_linear.head()"
   ]
  },
  {
   "cell_type": "markdown",
   "metadata": {},
   "source": [
    "#### 1.2 EV Potts"
   ]
  },
  {
   "cell_type": "markdown",
   "metadata": {},
   "source": [
    "#### 1.3 VAE "
   ]
  },
  {
   "cell_type": "markdown",
   "metadata": {},
   "source": [
    "### 2. Models comparison"
   ]
  },
  {
   "cell_type": "markdown",
   "metadata": {},
   "source": [
    "### 3. Going Further"
   ]
  },
  {
   "cell_type": "markdown",
   "metadata": {},
   "source": [
    "#### 3.1 testing other models than ridge regression"
   ]
  },
  {
   "cell_type": "code",
   "execution_count": null,
   "metadata": {},
   "outputs": [],
   "source": []
  },
  {
   "cell_type": "markdown",
   "metadata": {},
   "source": [
    "#### 3.2 K fold cross validation on Ridge Regression"
   ]
  },
  {
   "cell_type": "code",
   "execution_count": null,
   "metadata": {},
   "outputs": [],
   "source": []
  },
  {
   "cell_type": "markdown",
   "metadata": {},
   "source": []
  }
 ],
 "metadata": {
  "kernelspec": {
   "display_name": "Python 3",
   "language": "python",
   "name": "python3"
  },
  "language_info": {
   "codemirror_mode": {
    "name": "ipython",
    "version": 3
   },
   "file_extension": ".py",
   "mimetype": "text/x-python",
   "name": "python",
   "nbconvert_exporter": "python",
   "pygments_lexer": "ipython3",
   "version": "3.9.18"
  }
 },
 "nbformat": 4,
 "nbformat_minor": 2
}
