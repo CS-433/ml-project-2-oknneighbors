{
 "cells": [
  {
   "cell_type": "markdown",
   "metadata": {},
   "source": [
    "> In this notebook, you will find the analysis of mutant sequences that underwent machine learning models. This analysis aims to identify the optimal protein sequence for a specific function: achieving high fitness under light conditions and low fitness when deactivated."
   ]
  },
  {
   "cell_type": "markdown",
   "metadata": {},
   "source": [
    "> The mutant sequences were generated in the `sequence_generator.ipynb` notebook."
   ]
  },
  {
   "cell_type": "code",
   "execution_count": 59,
   "metadata": {},
   "outputs": [],
   "source": [
    "import pandas as pd\n",
    "import numpy as np "
   ]
  },
  {
   "cell_type": "markdown",
   "metadata": {},
   "source": [
    "### 1. Loading the results"
   ]
  },
  {
   "cell_type": "markdown",
   "metadata": {},
   "source": [
    "> All possible sequences of single and double mutants were inputted into the `onehot` and `ev+onehot` models through the `train_and_predict.py` script, separately for both the 'light' and 'darkness' models."
   ]
  },
  {
   "cell_type": "markdown",
   "metadata": {},
   "source": [
    "#### 1.1 For single mutants train on `onehot` model"
   ]
  },
  {
   "cell_type": "code",
   "execution_count": 60,
   "metadata": {},
   "outputs": [],
   "source": [
    "# Loading single mutants with predicted fitness under the light model\n",
    "single_mut_light_onehot_fitness = pd.read_csv('data/output_light_sinlge_mutants_onehot.csv')\n",
    "\n",
    "# Loading single mutants with predicted fitness under the darkness model\n",
    "single_mut_darkness_onehot_fitness = pd.read_csv('data/output_dark_sinlge_mutants_onehot.csv')"
   ]
  },
  {
   "cell_type": "markdown",
   "metadata": {},
   "source": [
    "#### 1.2 For single mutants `ev+onehot` model"
   ]
  },
  {
   "cell_type": "code",
   "execution_count": 61,
   "metadata": {},
   "outputs": [],
   "source": [
    "# Loading single mutants with predicted fitness under the light model\n",
    "single_mut_light_evonehot_fitness = pd.read_csv('data/output_light_sinlge_mutants_evonehot.csv')\n",
    "\n",
    "# Loading single mutants with predicted fitness under the darkness model\n",
    "single_mut_darkness_evonehot_fitness = pd.read_csv('data/output_dark_sinlge_mutants_evonehot.csv')"
   ]
  },
  {
   "cell_type": "markdown",
   "metadata": {},
   "source": [
    "#### 1.3 For double mutants `onehot` model"
   ]
  },
  {
   "cell_type": "markdown",
   "metadata": {},
   "source": [
    "> Note that due to the huge size of the double_mutants.csv, we had to separate it in differents file containing 500'000 double mutants to train it. "
   ]
  },
  {
   "cell_type": "code",
   "execution_count": 62,
   "metadata": {},
   "outputs": [],
   "source": [
    "# Loading double mutants with predicted fitness under the light model\n",
    "df1L = pd.read_csv('data/output_light_double_mutants_onehot1.csv')\n",
    "df2L = pd.read_csv('data/output_light_double_mutants_onehot2.csv')\n",
    "df3L = pd.read_csv('data/output_light_double_mutants_onehot3.csv')\n",
    "df4L = pd.read_csv('data/output_light_double_mutants_onehot4.csv')\n",
    "df5L = pd.read_csv('data/output_light_double_mutants_onehot5.csv')\n",
    "df6L = pd.read_csv('data/output_light_double_mutants_onehot6.csv')\n",
    "df7L= pd.read_csv('data/output_light_double_mutants_onehot7.csv')\n",
    "df8L = pd.read_csv('data/output_light_double_mutants_onehot8.csv')\n",
    "df9L = pd.read_csv('data/output_light_double_mutants_onehot9.csv')\n",
    "df10L = pd.read_csv('data/output_light_double_mutants_onehot10.csv')\n",
    "df11L = pd.read_csv('data/output_light_double_mutants_onehot11.csv')\n",
    "df12L = pd.read_csv('data/output_light_double_mutants_onehot12.csv')\n",
    "df13L = pd.read_csv('data/output_light_double_mutants_onehot13.csv')\n",
    "df14L = pd.read_csv('data/output_light_double_mutants_onehot14.csv')\n",
    "df15L = pd.read_csv('data/output_light_double_mutants_onehot15.csv')\n",
    "df16L = pd.read_csv('data/output_light_double_mutants_onehot16.csv')\n",
    "df17L = pd.read_csv('data/output_light_double_mutants_onehot17.csv')\n",
    "df18L = pd.read_csv('data/output_light_double_mutants_onehot18.csv')\n",
    "df19L = pd.read_csv('data/output_light_double_mutants_onehot19.csv')"
   ]
  },
  {
   "cell_type": "code",
   "execution_count": 63,
   "metadata": {},
   "outputs": [],
   "source": [
    "# Loading double mutants with predicted fitness under the darkness model\n",
    "df1D = pd.read_csv('data/output_dark_double_mutants_onehot1.csv')\n",
    "df2D = pd.read_csv('data/output_dark_double_mutants_onehot2.csv')\n",
    "df3D = pd.read_csv('data/output_dark_double_mutants_onehot3.csv')\n",
    "df4D = pd.read_csv('data/output_dark_double_mutants_onehot4.csv')\n",
    "df5D = pd.read_csv('data/output_dark_double_mutants_onehot5.csv')\n",
    "df6D = pd.read_csv('data/output_dark_double_mutants_onehot6.csv')\n",
    "df7D = pd.read_csv('data/output_dark_double_mutants_onehot7.csv')\n",
    "df8D = pd.read_csv('data/output_dark_double_mutants_onehot8.csv')\n",
    "df9D = pd.read_csv('data/output_dark_double_mutants_onehot9.csv')\n",
    "df10D = pd.read_csv('data/output_dark_double_mutants_onehot10.csv')\n",
    "df11D = pd.read_csv('data/output_dark_double_mutants_onehot11.csv')\n",
    "df12D = pd.read_csv('data/output_dark_double_mutants_onehot12.csv')\n",
    "df13D = pd.read_csv('data/output_dark_double_mutants_onehot13.csv')\n",
    "df14D = pd.read_csv('data/output_dark_double_mutants_onehot14.csv')\n",
    "df15D = pd.read_csv('data/output_dark_double_mutants_onehot15.csv')\n",
    "df16D = pd.read_csv('data/output_dark_double_mutants_onehot16.csv')\n",
    "df17D = pd.read_csv('data/output_dark_double_mutants_onehot17.csv')\n",
    "df18D = pd.read_csv('data/output_dark_double_mutants_onehot18.csv')\n",
    "df19D = pd.read_csv('data/output_dark_double_mutants_onehot19.csv')\n"
   ]
  },
  {
   "cell_type": "markdown",
   "metadata": {},
   "source": [
    "> Here we reform larger dataset but we still can not take the wole files together as it is still too big"
   ]
  },
  {
   "cell_type": "code",
   "execution_count": 64,
   "metadata": {},
   "outputs": [],
   "source": [
    "double_mutants_light_onehot1 = pd.concat([df12L, df3L, df4L, df5L], axis=0, ignore_index=True)\n",
    "double_mutants_light_onehot2 = pd.concat([df6L, df7L, df8L, df9L, df10L], axis=0, ignore_index=True)\n",
    "double_mutants_light_onehot3 = pd.concat([df11L, df12L, df13L, df14L], axis=0, ignore_index=True)\n",
    "double_mutants_light_onehot4 = pd.concat([df15L, df16L, df17L, df18L, df19L], axis=0, ignore_index=True)"
   ]
  },
  {
   "cell_type": "code",
   "execution_count": 65,
   "metadata": {},
   "outputs": [],
   "source": [
    "double_mutants_dark_onehot1 = pd.concat([df12D, df3D, df4D, df5D], axis=0, ignore_index=True)\n",
    "double_mutants_dark_onehot2 = pd.concat([df6D, df7D, df8D, df9D, df10D], axis=0, ignore_index=True)\n",
    "double_mutants_dark_onehot3 = pd.concat([df11D, df12D, df13D, df14D], axis=0, ignore_index=True)\n",
    "double_mutants_dark_onehot4 = pd.concat([df15D, df16D, df17D, df18D, df19D], axis=0, ignore_index=True)\n"
   ]
  },
  {
   "cell_type": "markdown",
   "metadata": {},
   "source": [
    "#### 1.4 For double mutants `ev+onehot` model"
   ]
  },
  {
   "cell_type": "code",
   "execution_count": 238,
   "metadata": {},
   "outputs": [],
   "source": [
    "# Loading double mutants with predicted fitness under the light model\n",
    "df1Lev = pd.read_csv('data/output_light_double_mutants_evonehot1.csv')\n",
    "df2Lev = pd.read_csv('data/output_light_double_mutants_evonehot2.csv')\n",
    "df3Lev = pd.read_csv('data/output_light_double_mutants_evonehot3.csv')\n",
    "df4Lev = pd.read_csv('data/output_light_double_mutants_evonehot4.csv')\n",
    "df5Lev = pd.read_csv('data/output_light_double_mutants_evonehot5.csv')\n",
    "df6Lev = pd.read_csv('data/output_light_double_mutants_evonehot6.csv')\n",
    "df7Lev= pd.read_csv('data/output_light_double_mutants_evonehot7.csv')\n",
    "df8Lev = pd.read_csv('data/output_light_double_mutants_evonehot8.csv')\n",
    "df9Lev = pd.read_csv('data/output_light_double_mutants_evonehot9.csv')\n",
    "df10Lev = pd.read_csv('data/output_light_double_mutants_evonehot10.csv')\n",
    "df11Lev = pd.read_csv('data/output_light_double_mutants_evonehot11.csv')\n",
    "df12Lev = pd.read_csv('data/output_light_double_mutants_evonehot12.csv')\n",
    "df13Lev = pd.read_csv('data/output_light_double_mutants_evonehot13.csv')\n",
    "df14Lev = pd.read_csv('data/output_light_double_mutants_evonehot14.csv')\n",
    "df15Lev = pd.read_csv('data/output_light_double_mutants_evonehot15.csv')\n",
    "df16Lev = pd.read_csv('data/output_light_double_mutants_evonehot16.csv')\n",
    "df17Lev = pd.read_csv('data/output_light_double_mutants_evonehot17.csv')\n",
    "df18Lev = pd.read_csv('data/output_light_double_mutants_evonehot18.csv')\n",
    "df19Lev = pd.read_csv('data/output_light_double_mutants_evonehot19.csv')\n"
   ]
  },
  {
   "cell_type": "code",
   "execution_count": 246,
   "metadata": {},
   "outputs": [],
   "source": [
    "# Loading double mutants with predicted fitness under the darkness model\n",
    "df1Dev = pd.read_csv('data/output_dark_double_mutants_evonehot1.csv')\n",
    "df2Dev = pd.read_csv('data/output_dark_double_mutants_evonehot2.csv')\n",
    "df3Dev = pd.read_csv('data/output_dark_double_mutants_evonehot3.csv')\n",
    "df4Dev = pd.read_csv('data/output_dark_double_mutants_evonehot4.csv')\n",
    "df5Dev = pd.read_csv('data/output_dark_double_mutants_evonehot5.csv')\n",
    "df6Dev = pd.read_csv('data/output_dark_double_mutants_evonehot6.csv')\n",
    "df7Dev = pd.read_csv('data/output_dark_double_mutants_evonehot7.csv')\n",
    "df8Dev = pd.read_csv('data/output_dark_double_mutants_evonehot8.csv')\n",
    "df9Dev = pd.read_csv('data/output_dark_double_mutants_evonehot9.csv')\n",
    "df10Dev = pd.read_csv('data/output_dark_double_mutants_evonehot10.csv')\n",
    "df11Dev = pd.read_csv('data/output_darkness_double_mutants_evonehot11.csv')\n",
    "df12Dev = pd.read_csv('data/output_darkness_double_mutants_evonehot12.csv')\n",
    "df13Dev = pd.read_csv('data/output_darkness_double_mutants_evonehot13.csv')\n",
    "df14Dev= pd.read_csv('data/output_darkness_double_mutants_evonehot14.csv')\n",
    "df15Dev = pd.read_csv('data/output_darkness_double_mutants_evonehot15.csv')\n",
    "df16Dev = pd.read_csv('data/output_darkness_double_mutants_evonehot16.csv')\n",
    "df17Dev = pd.read_csv('data/output_darkness_double_mutants_evonehot17.csv')\n",
    "df18Dev = pd.read_csv('data/output_darkness_double_mutants_evonehot18.csv')\n",
    "df19Dev = pd.read_csv('data/output_darkness_double_mutants_evonehot19.csv')"
   ]
  },
  {
   "cell_type": "code",
   "execution_count": 239,
   "metadata": {},
   "outputs": [],
   "source": [
    "double_mutants_light_evonehot1 = pd.concat([df1Lev,df2Lev, df3Lev, df4Lev, df5Lev], axis=0, ignore_index=True)\n",
    "double_mutants_light_evonehot2 = pd.concat([df6Lev, df7Lev, df8Lev, df9Lev, df10Lev], axis=0, ignore_index=True)\n",
    "double_mutants_light_evonehot3 = pd.concat([df11Lev, df12Lev, df13Lev, df14Lev], axis=0, ignore_index=True)\n",
    "double_mutants_light_evonehot4 = pd.concat([df15Lev, df16Lev, df17Lev, df18Lev, df19Lev], axis=0, ignore_index=True)"
   ]
  },
  {
   "cell_type": "code",
   "execution_count": 247,
   "metadata": {},
   "outputs": [],
   "source": [
    "double_mutants_dark_evonehot1 = pd.concat([df1Dev,df2Dev, df3Dev, df4Dev, df5Dev], axis=0, ignore_index=True)\n",
    "double_mutants_dark_evonehot2 = pd.concat([df6Dev, df7Dev, df8Dev, df9Dev, df10Dev], axis=0, ignore_index=True)\n",
    "double_mutants_dark_evonehot3 = pd.concat([df11Dev, df12Dev, df13Dev, df14Dev], axis=0, ignore_index=True)\n",
    "double_mutants_dark_evonehot4 = pd.concat([df15Dev, df16Dev, df17Dev, df18Dev, df19Dev], axis=0, ignore_index=True)"
   ]
  },
  {
   "cell_type": "markdown",
   "metadata": {},
   "source": [
    "### 2. Fitness analysis"
   ]
  },
  {
   "cell_type": "markdown",
   "metadata": {},
   "source": [
    "> Let's look at a few statics on our predicted fitnesses."
   ]
  },
  {
   "cell_type": "markdown",
   "metadata": {},
   "source": [
    "#### 2.1 single mutants onehot"
   ]
  },
  {
   "cell_type": "code",
   "execution_count": 70,
   "metadata": {},
   "outputs": [
    {
     "data": {
      "text/plain": [
       "count    4275.000000\n",
       "mean        2.266849\n",
       "std         0.297403\n",
       "min        -1.959660\n",
       "25%         2.266849\n",
       "50%         2.266849\n",
       "75%         2.266849\n",
       "max         4.088446\n",
       "Name: pred, dtype: float64"
      ]
     },
     "execution_count": 70,
     "metadata": {},
     "output_type": "execute_result"
    }
   ],
   "source": [
    "single_mut_light_onehot_fitness['pred'].describe()"
   ]
  },
  {
   "cell_type": "code",
   "execution_count": 71,
   "metadata": {},
   "outputs": [
    {
     "data": {
      "text/plain": [
       "count    4275.000000\n",
       "mean        2.934535\n",
       "std         0.246339\n",
       "min         0.366385\n",
       "25%         2.934535\n",
       "50%         2.934535\n",
       "75%         2.934535\n",
       "max         5.834908\n",
       "Name: pred, dtype: float64"
      ]
     },
     "execution_count": 71,
     "metadata": {},
     "output_type": "execute_result"
    }
   ],
   "source": [
    "single_mut_darkness_onehot_fitness['pred'].describe()"
   ]
  },
  {
   "cell_type": "markdown",
   "metadata": {},
   "source": [
    "#### 2.2 single mutants ev+onehot\n"
   ]
  },
  {
   "cell_type": "code",
   "execution_count": 72,
   "metadata": {},
   "outputs": [
    {
     "data": {
      "text/plain": [
       "count    4275.000000\n",
       "mean        1.906029\n",
       "std         1.702390\n",
       "min        -1.765656\n",
       "25%        -0.358408\n",
       "50%         2.043742\n",
       "75%         3.239834\n",
       "max         6.305919\n",
       "Name: pred, dtype: float64"
      ]
     },
     "execution_count": 72,
     "metadata": {},
     "output_type": "execute_result"
    }
   ],
   "source": [
    "single_mut_light_evonehot_fitness['pred'].describe()"
   ]
  },
  {
   "cell_type": "code",
   "execution_count": 73,
   "metadata": {},
   "outputs": [
    {
     "data": {
      "text/plain": [
       "count    4275.000000\n",
       "mean        2.359415\n",
       "std         1.866206\n",
       "min        -1.610538\n",
       "25%        -0.088975\n",
       "50%         2.460229\n",
       "75%         3.777965\n",
       "max         7.178692\n",
       "Name: pred, dtype: float64"
      ]
     },
     "execution_count": 73,
     "metadata": {},
     "output_type": "execute_result"
    }
   ],
   "source": [
    "single_mut_darkness_evonehot_fitness['pred'].describe()"
   ]
  },
  {
   "cell_type": "markdown",
   "metadata": {},
   "source": [
    "#### 2.3 double mutants onehot"
   ]
  },
  {
   "cell_type": "markdown",
   "metadata": {},
   "source": [
    "> For light "
   ]
  },
  {
   "cell_type": "code",
   "execution_count": 74,
   "metadata": {},
   "outputs": [
    {
     "data": {
      "text/plain": [
       "count    2.000000e+06\n",
       "mean     2.307400e+00\n",
       "std      5.856944e-01\n",
       "min     -4.544632e+00\n",
       "25%      2.266849e+00\n",
       "50%      2.266849e+00\n",
       "75%      2.266849e+00\n",
       "max      5.870758e+00\n",
       "Name: pred, dtype: float64"
      ]
     },
     "execution_count": 74,
     "metadata": {},
     "output_type": "execute_result"
    }
   ],
   "source": [
    "double_mutants_light_onehot1['pred'].describe()"
   ]
  },
  {
   "cell_type": "code",
   "execution_count": 75,
   "metadata": {},
   "outputs": [
    {
     "data": {
      "text/plain": [
       "count    2.181715e+06\n",
       "mean     2.250654e+00\n",
       "std      3.715693e-01\n",
       "min     -2.456416e+00\n",
       "25%      2.266849e+00\n",
       "50%      2.266849e+00\n",
       "75%      2.266849e+00\n",
       "max      4.379124e+00\n",
       "Name: pred, dtype: float64"
      ]
     },
     "execution_count": 75,
     "metadata": {},
     "output_type": "execute_result"
    }
   ],
   "source": [
    "double_mutants_light_onehot2['pred'].describe()"
   ]
  },
  {
   "cell_type": "code",
   "execution_count": 76,
   "metadata": {},
   "outputs": [
    {
     "data": {
      "text/plain": [
       "count    2.000000e+06\n",
       "mean     2.355592e+00\n",
       "std      6.308163e-01\n",
       "min     -4.544632e+00\n",
       "25%      2.266849e+00\n",
       "50%      2.266849e+00\n",
       "75%      2.657360e+00\n",
       "max      5.870758e+00\n",
       "Name: pred, dtype: float64"
      ]
     },
     "execution_count": 76,
     "metadata": {},
     "output_type": "execute_result"
    }
   ],
   "source": [
    "double_mutants_light_onehot3['pred'].describe()"
   ]
  },
  {
   "cell_type": "code",
   "execution_count": 77,
   "metadata": {},
   "outputs": [
    {
     "data": {
      "text/plain": [
       "count    2.097200e+06\n",
       "mean     2.213680e+00\n",
       "std      2.918517e-01\n",
       "min     -2.357067e+00\n",
       "25%      2.266849e+00\n",
       "50%      2.266849e+00\n",
       "75%      2.266849e+00\n",
       "max      3.618558e+00\n",
       "Name: pred, dtype: float64"
      ]
     },
     "execution_count": 77,
     "metadata": {},
     "output_type": "execute_result"
    }
   ],
   "source": [
    "double_mutants_light_onehot4['pred'].describe()"
   ]
  },
  {
   "cell_type": "markdown",
   "metadata": {},
   "source": [
    "> For darkness"
   ]
  },
  {
   "cell_type": "code",
   "execution_count": 78,
   "metadata": {},
   "outputs": [
    {
     "data": {
      "text/plain": [
       "count    2.000000e+06\n",
       "mean     2.944865e+00\n",
       "std      3.932934e-01\n",
       "min     -9.814659e-01\n",
       "25%      2.934535e+00\n",
       "50%      2.934535e+00\n",
       "75%      2.934535e+00\n",
       "max      8.153143e+00\n",
       "Name: pred, dtype: float64"
      ]
     },
     "execution_count": 78,
     "metadata": {},
     "output_type": "execute_result"
    }
   ],
   "source": [
    "double_mutants_dark_onehot1['pred'].describe()"
   ]
  },
  {
   "cell_type": "code",
   "execution_count": 79,
   "metadata": {},
   "outputs": [
    {
     "data": {
      "text/plain": [
       "count    2.500000e+06\n",
       "mean     2.960510e+00\n",
       "std      3.402811e-01\n",
       "min     -9.611444e-01\n",
       "25%      2.934535e+00\n",
       "50%      2.934535e+00\n",
       "75%      2.934535e+00\n",
       "max      7.472403e+00\n",
       "Name: pred, dtype: float64"
      ]
     },
     "execution_count": 79,
     "metadata": {},
     "output_type": "execute_result"
    }
   ],
   "source": [
    "double_mutants_dark_onehot2['pred'].describe()"
   ]
  },
  {
   "cell_type": "code",
   "execution_count": 80,
   "metadata": {},
   "outputs": [
    {
     "data": {
      "text/plain": [
       "count    2.000000e+06\n",
       "mean     2.943930e+00\n",
       "std      4.885577e-01\n",
       "min     -1.405337e+00\n",
       "25%      2.934535e+00\n",
       "50%      2.934535e+00\n",
       "75%      2.934535e+00\n",
       "max      8.153143e+00\n",
       "Name: pred, dtype: float64"
      ]
     },
     "execution_count": 80,
     "metadata": {},
     "output_type": "execute_result"
    }
   ],
   "source": [
    "double_mutants_dark_onehot3['pred'].describe()"
   ]
  },
  {
   "cell_type": "code",
   "execution_count": 81,
   "metadata": {},
   "outputs": [
    {
     "data": {
      "text/plain": [
       "count    2.097200e+06\n",
       "mean     2.901486e+00\n",
       "std      2.709516e-01\n",
       "min     -1.278610e+00\n",
       "25%      2.934535e+00\n",
       "50%      2.934535e+00\n",
       "75%      2.934535e+00\n",
       "max      5.230461e+00\n",
       "Name: pred, dtype: float64"
      ]
     },
     "execution_count": 81,
     "metadata": {},
     "output_type": "execute_result"
    }
   ],
   "source": [
    "double_mutants_dark_onehot4['pred'].describe()"
   ]
  },
  {
   "cell_type": "markdown",
   "metadata": {},
   "source": [
    "#### 2.4 double mutants ev+onehot"
   ]
  },
  {
   "cell_type": "markdown",
   "metadata": {},
   "source": [
    "> For light"
   ]
  },
  {
   "cell_type": "code",
   "execution_count": 241,
   "metadata": {},
   "outputs": [
    {
     "data": {
      "text/plain": [
       "count    2.500000e+06\n",
       "mean     4.075241e+00\n",
       "std      1.960679e+00\n",
       "min     -1.866279e+00\n",
       "25%      2.417509e+00\n",
       "50%      4.203661e+00\n",
       "75%      5.509450e+00\n",
       "max      1.125695e+01\n",
       "Name: pred, dtype: float64"
      ]
     },
     "execution_count": 241,
     "metadata": {},
     "output_type": "execute_result"
    }
   ],
   "source": [
    "double_mutants_light_evonehot1['pred'].describe()"
   ]
  },
  {
   "cell_type": "code",
   "execution_count": 242,
   "metadata": {},
   "outputs": [
    {
     "data": {
      "text/plain": [
       "count    2.500000e+06\n",
       "mean     5.057422e+00\n",
       "std      2.249086e+00\n",
       "min     -2.343502e+00\n",
       "25%      3.372748e+00\n",
       "50%      5.042422e+00\n",
       "75%      6.766383e+00\n",
       "max      1.285830e+01\n",
       "Name: pred, dtype: float64"
      ]
     },
     "execution_count": 242,
     "metadata": {},
     "output_type": "execute_result"
    }
   ],
   "source": [
    "double_mutants_light_evonehot2['pred'].describe()"
   ]
  },
  {
   "cell_type": "code",
   "execution_count": 243,
   "metadata": {},
   "outputs": [
    {
     "data": {
      "text/plain": [
       "count    2.000000e+06\n",
       "mean     4.760103e+00\n",
       "std      2.102437e+00\n",
       "min     -4.447238e-01\n",
       "25%      3.082359e+00\n",
       "50%      4.549619e+00\n",
       "75%      6.414162e+00\n",
       "max      1.262337e+01\n",
       "Name: pred, dtype: float64"
      ]
     },
     "execution_count": 243,
     "metadata": {},
     "output_type": "execute_result"
    }
   ],
   "source": [
    "double_mutants_light_evonehot3['pred'].describe()"
   ]
  },
  {
   "cell_type": "code",
   "execution_count": 244,
   "metadata": {},
   "outputs": [
    {
     "data": {
      "text/plain": [
       "count    2.097200e+06\n",
       "mean     2.637767e+00\n",
       "std      2.545511e+00\n",
       "min     -4.173341e-01\n",
       "25%     -3.584085e-01\n",
       "50%      2.585698e+00\n",
       "75%      4.285728e+00\n",
       "max      1.293198e+01\n",
       "Name: pred, dtype: float64"
      ]
     },
     "execution_count": 244,
     "metadata": {},
     "output_type": "execute_result"
    }
   ],
   "source": [
    "double_mutants_light_evonehot4['pred'].describe()"
   ]
  },
  {
   "cell_type": "markdown",
   "metadata": {},
   "source": [
    "> For darkeness"
   ]
  },
  {
   "cell_type": "code",
   "execution_count": 86,
   "metadata": {},
   "outputs": [
    {
     "data": {
      "text/plain": [
       "count    2.500000e+06\n",
       "mean     4.697229e+00\n",
       "std      2.141764e+00\n",
       "min     -1.719328e+00\n",
       "25%      2.882516e+00\n",
       "50%      4.799506e+00\n",
       "75%      6.256117e+00\n",
       "max      1.253177e+01\n",
       "Name: pred, dtype: float64"
      ]
     },
     "execution_count": 86,
     "metadata": {},
     "output_type": "execute_result"
    }
   ],
   "source": [
    "double_mutants_dark_evonehot1['pred'].describe()"
   ]
  },
  {
   "cell_type": "code",
   "execution_count": 87,
   "metadata": {},
   "outputs": [
    {
     "data": {
      "text/plain": [
       "count    2.500000e+06\n",
       "mean     5.800298e+00\n",
       "std      2.481798e+00\n",
       "min     -2.273510e+00\n",
       "25%      3.945309e+00\n",
       "50%      5.763208e+00\n",
       "75%      7.663046e+00\n",
       "max      1.431484e+01\n",
       "Name: pred, dtype: float64"
      ]
     },
     "execution_count": 87,
     "metadata": {},
     "output_type": "execute_result"
    }
   ],
   "source": [
    "double_mutants_dark_evonehot2['pred'].describe()"
   ]
  },
  {
   "cell_type": "code",
   "execution_count": 248,
   "metadata": {},
   "outputs": [
    {
     "data": {
      "text/plain": [
       "count    2.000000e+06\n",
       "mean     5.408919e+00\n",
       "std      2.348221e+00\n",
       "min     -1.290801e+00\n",
       "25%      3.557179e+00\n",
       "50%      5.200876e+00\n",
       "75%      7.178692e+00\n",
       "max      1.446756e+01\n",
       "Name: pred, dtype: float64"
      ]
     },
     "execution_count": 248,
     "metadata": {},
     "output_type": "execute_result"
    }
   ],
   "source": [
    "double_mutants_dark_evonehot3['pred'].describe()"
   ]
  },
  {
   "cell_type": "code",
   "execution_count": 249,
   "metadata": {},
   "outputs": [
    {
     "data": {
      "text/plain": [
       "count    2.097200e+06\n",
       "mean     3.154488e+00\n",
       "std      2.762914e+00\n",
       "min     -7.519464e-01\n",
       "25%     -8.897455e-02\n",
       "50%      3.064205e+00\n",
       "75%      4.945533e+00\n",
       "max      1.415777e+01\n",
       "Name: pred, dtype: float64"
      ]
     },
     "execution_count": 249,
     "metadata": {},
     "output_type": "execute_result"
    }
   ],
   "source": [
    "double_mutants_dark_evonehot4['pred'].describe()"
   ]
  },
  {
   "cell_type": "markdown",
   "metadata": {},
   "source": [
    "### 3.  The Optimal Optoprotein Sequence"
   ]
  },
  {
   "cell_type": "code",
   "execution_count": 113,
   "metadata": {},
   "outputs": [],
   "source": [
    "#Find the best sequence for double and single mutants\n",
    "\n",
    "def find_optimal_sequence(light_df, darkness_df, wt_fitness_D=-2.983813):\n",
    "    if 'Mutated_Position2' in light_df.columns:\n",
    "    \n",
    "        light_df.rename(columns = {'pred': 'light fitness'}, inplace=True)\n",
    "        \n",
    "        double_mutants = light_df.copy()\n",
    "        double_mutants['darkness fitness'] = darkness_df['pred']\n",
    "        \n",
    "        #Remove sequence that have a higher dark fitness than the threshold\n",
    "        min_all_mut_D = double_mutants['darkness fitness'].min()\n",
    "        numerator_D = double_mutants['darkness fitness'] - min_all_mut_D + 1\n",
    "        denominator_D = float(wt_fitness_D - min_all_mut_D + 1)\n",
    "        threshold = np.log(1000 - numerator_D / denominator_D)\n",
    "        \n",
    "     \n",
    "        double_mutants = double_mutants[double_mutants['darkness fitness'] < threshold]\n",
    "        double_mutants['combined_score'] = double_mutants['light fitness'] - double_mutants['darkness fitness']\n",
    "\n",
    "        # Find the index corresponding to the maximum combined score\n",
    "        max_combined_score_index = double_mutants['combined_score'].idxmax()\n",
    "\n",
    "        optimal_sequence = double_mutants.loc[max_combined_score_index]\n",
    "        \n",
    "        print(\"Optimal Sequence (Double Mutant):\")\n",
    "        print(f\"1 Mutated Position: {optimal_sequence['Mutated_Position1']} 2 Mutated Position {optimal_sequence['Mutated_Position2']}\")\n",
    "        print(f\"Original AA1: {optimal_sequence['Original_AA1']} Original AA2: {optimal_sequence['Original_AA2']}\")\n",
    "        print(f\"Mutated AA1: {optimal_sequence['Mutated_AA1']} Mutated AA2: {optimal_sequence['Mutated_AA2']}\")\n",
    "        print(f\"Sequence: {optimal_sequence['seq']}\")\n",
    "        print(f\"Fitness under Light: {optimal_sequence['light fitness']} (Light model)\")\n",
    "        print(f\"Fitness under Darkness: {optimal_sequence['darkness fitness']} (Darkness model)\")\n",
    "        print(f\"Combined Score: {optimal_sequence['combined_score']}\")\n",
    "        \n",
    "        \n",
    "\n",
    "    else:\n",
    "\n",
    "        light_df.rename(columns = {'pred': 'light fitness'}, inplace=True)\n",
    "        \n",
    "        single_mutants = light_df.copy()\n",
    "        single_mutants['darkness fitness'] = darkness_df['pred']\n",
    "        \n",
    "        #Remove sequence that have a higher dark fitness than the threshold\n",
    "        min_all_mut_D = single_mutants['darkness fitness'].min()\n",
    "        numerator_D = single_mutants['darkness fitness'] - min_all_mut_D + 1\n",
    "        denominator_D = float(wt_fitness_D - min_all_mut_D + 1)\n",
    "        threshold = np.log(1000 - numerator_D / denominator_D)\n",
    "        \n",
    "     \n",
    "        single_mutants = single_mutants[single_mutants['darkness fitness'] < threshold]\n",
    "        single_mutants['combined_score'] = single_mutants['light fitness'] - single_mutants['darkness fitness']\n",
    "\n",
    "        # Find the index corresponding to the maximum combined score\n",
    "        max_combined_score_index = single_mutants['combined_score'].idxmax()\n",
    "\n",
    "        optimal_sequence = single_mutants.loc[max_combined_score_index]\n",
    "\n",
    "        print(\"Optimal Sequence (Single Mutant):\")\n",
    "        print(f\"Mutated Position: {optimal_sequence['Mutated_Position']}\")\n",
    "        print(f\"Original AA: {optimal_sequence['Original_AA']}\")\n",
    "        print(f\"Mutated AA: {optimal_sequence['Mutated_AA']}\")\n",
    "        print(f\"Sequence: {optimal_sequence['seq']}\")\n",
    "        print(f\"Fitness under Light: {optimal_sequence['light fitness']} (Light model)\")\n",
    "        print(f\"Fitness under Darkness: {optimal_sequence['darkness fitness']} (Darkness model)\")\n",
    "        print(f\"Combined Score: {optimal_sequence['combined_score']}\")\n",
    "    return optimal_sequence\n",
    "\n"
   ]
  },
  {
   "cell_type": "markdown",
   "metadata": {},
   "source": [
    "#### 3.1 single mutants onehot"
   ]
  },
  {
   "cell_type": "code",
   "execution_count": 114,
   "metadata": {},
   "outputs": [
    {
     "name": "stdout",
     "output_type": "stream",
     "text": [
      "Optimal Sequence (Single Mutant):\n",
      "Mutated Position: 92\n",
      "Original AA: D\n",
      "Mutated AA: Y\n",
      "Sequence: MLDMGQDRPIDGSGAPGADDTRVEVQPPAQWVLDLIEASPIASVVSDPRLADNPLIAINQAFTDLTGYSEEECVGRNCRFLAGSGTEPWLTYKIRQGVREHKPVLVEILNYKKDGTPFRNAVLVAPIYDDDDELLYFLGSQVEVDDDQPNMGMARRERAAEMLKTLSPRQLEVTTLVASGLRNKEVAARLGLSEKTVKMHRGLVMEKLNLKTSADLVRIAVEAGI\n",
      "Fitness under Light: 4.049160452435918 (Light model)\n",
      "Fitness under Darkness: 1.602479570290058 (Darkness model)\n",
      "Combined Score: 2.4466808821458597\n"
     ]
    }
   ],
   "source": [
    "opt_single_onehot = find_optimal_sequence(single_mut_light_onehot_fitness, single_mut_darkness_onehot_fitness)"
   ]
  },
  {
   "cell_type": "markdown",
   "metadata": {},
   "source": [
    "#### 3.2 single mutants ev+onhot"
   ]
  },
  {
   "cell_type": "code",
   "execution_count": 115,
   "metadata": {},
   "outputs": [
    {
     "name": "stdout",
     "output_type": "stream",
     "text": [
      "Optimal Sequence (Single Mutant):\n",
      "Mutated Position: 117\n",
      "Original AA: P\n",
      "Mutated AA: L\n",
      "Sequence: MLDMGQDRPIDGSGAPGADDTRVEVQPPAQWVLDLIEASPIASVVSDPRLADNPLIAINQAFTDLTGYSEEECVGRNCRFLAGSGTEPWLTDKIRQGVREHKPVLVEILNYKKDGTLFRNAVLVAPIYDDDDELLYFLGSQVEVDDDQPNMGMARRERAAEMLKTLSPRQLEVTTLVASGLRNKEVAARLGLSEKTVKMHRGLVMEKLNLKTSADLVRIAVEAGI\n",
      "Fitness under Light: 2.46620036552333 (Light model)\n",
      "Fitness under Darkness: 0.9513764314104964 (Darkness model)\n",
      "Combined Score: 1.5148239341128336\n"
     ]
    }
   ],
   "source": [
    "opt_single_evonehot = find_optimal_sequence(single_mut_light_evonehot_fitness, single_mut_darkness_evonehot_fitness)"
   ]
  },
  {
   "cell_type": "markdown",
   "metadata": {},
   "source": [
    "#### 3.3 double mutants onehot"
   ]
  },
  {
   "cell_type": "code",
   "execution_count": 116,
   "metadata": {},
   "outputs": [
    {
     "name": "stdout",
     "output_type": "stream",
     "text": [
      "Optimal Sequence (Double Mutant):\n",
      "1 Mutated Position: 92 2 Mutated Position 117\n",
      "Original AA1: D Original AA2: P\n",
      "Mutated AA1: Y Mutated AA2: L\n",
      "Sequence: MLDMGQDRPIDGSGAPGADDTRVEVQPPAQWVLDLIEASPIASVVSDPRLADNPLIAINQAFTDLTGYSEEECVGRNCRFLAGSGTEPWLTYKIRQGVREHKPVLVEILNYKKDGTLFRNAVLVAPIYDDDDELLYFLGSQVEVDDDQPNMGMARRERAAEMLKTLSPRQLEVTTLVASGLRNKEVAARLGLSEKTVKMHRGLVMEKLNLKTSADLVRIAVEAGI\n",
      "Fitness under Light: 4.982765833292151 (Light model)\n",
      "Fitness under Darkness: -0.0034725004838911 (Darkness model)\n",
      "Combined Score: 4.9862383337760425\n"
     ]
    }
   ],
   "source": [
    "opt1_double_onehot = find_optimal_sequence(double_mutants_light_onehot1, double_mutants_dark_onehot1)"
   ]
  },
  {
   "cell_type": "code",
   "execution_count": 117,
   "metadata": {},
   "outputs": [
    {
     "name": "stdout",
     "output_type": "stream",
     "text": [
      "Optimal Sequence (Double Mutant):\n",
      "1 Mutated Position: 61 2 Mutated Position 87\n",
      "Original AA1: A Original AA2: E\n",
      "Mutated AA1: C Mutated AA2: H\n",
      "Sequence: MLDMGQDRPIDGSGAPGADDTRVEVQPPAQWVLDLIEASPIASVVSDPRLADNPLIAINQCFTDLTGYSEEECVGRNCRFLAGSGTHPWLTDKIRQGVREHKPVLVEILNYKKDGTPFRNAVLVAPIYDDDDELLYFLGSQVEVDDDQPNMGMARRERAAEMLKTLSPRQLEVTTLVASGLRNKEVAARLGLSEKTVKMHRGLVMEKLNLKTSADLVRIAVEAGI\n",
      "Fitness under Light: 3.396597823957421 (Light model)\n",
      "Fitness under Darkness: 0.3663847104742079 (Darkness model)\n",
      "Combined Score: 3.030213113483213\n"
     ]
    }
   ],
   "source": [
    "opt2_double_onehot = find_optimal_sequence(double_mutants_light_onehot2, double_mutants_dark_onehot2)"
   ]
  },
  {
   "cell_type": "code",
   "execution_count": 118,
   "metadata": {},
   "outputs": [
    {
     "name": "stdout",
     "output_type": "stream",
     "text": [
      "Optimal Sequence (Double Mutant):\n",
      "1 Mutated Position: 92 2 Mutated Position 117\n",
      "Original AA1: D Original AA2: P\n",
      "Mutated AA1: Y Mutated AA2: L\n",
      "Sequence: MLDMGQDRPIDGSGAPGADDTRVEVQPPAQWVLDLIEASPIASVVSDPRLADNPLIAINQAFTDLTGYSEEECVGRNCRFLAGSGTEPWLTYKIRQGVREHKPVLVEILNYKKDGTLFRNAVLVAPIYDDDDELLYFLGSQVEVDDDQPNMGMARRERAAEMLKTLSPRQLEVTTLVASGLRNKEVAARLGLSEKTVKMHRGLVMEKLNLKTSADLVRIAVEAGI\n",
      "Fitness under Light: 4.982765833292151 (Light model)\n",
      "Fitness under Darkness: -0.0034725004838911 (Darkness model)\n",
      "Combined Score: 4.9862383337760425\n"
     ]
    }
   ],
   "source": [
    "opt3_double_onehot = find_optimal_sequence(double_mutants_light_onehot3, double_mutants_dark_onehot3)"
   ]
  },
  {
   "cell_type": "code",
   "execution_count": 119,
   "metadata": {},
   "outputs": [
    {
     "name": "stdout",
     "output_type": "stream",
     "text": [
      "Optimal Sequence (Double Mutant):\n",
      "1 Mutated Position: 117 2 Mutated Position 195\n",
      "Original AA1: P Original AA2: K\n",
      "Mutated AA1: L Mutated AA2: A\n",
      "Sequence: MLDMGQDRPIDGSGAPGADDTRVEVQPPAQWVLDLIEASPIASVVSDPRLADNPLIAINQAFTDLTGYSEEECVGRNCRFLAGSGTEPWLTDKIRQGVREHKPVLVEILNYKKDGTLFRNAVLVAPIYDDDDELLYFLGSQVEVDDDQPNMGMARRERAAEMLKTLSPRQLEVTTLVASGLRNKEVAARLGLSEATVKMHRGLVMEKLNLKTSADLVRIAVEAGI\n",
      "Fitness under Light: 3.200454151736691 (Light model)\n",
      "Fitness under Darkness: 1.3285828231514445 (Darkness model)\n",
      "Combined Score: 1.8718713285852464\n"
     ]
    }
   ],
   "source": [
    "opt4_double_onehot = find_optimal_sequence(double_mutants_light_onehot4, double_mutants_dark_onehot4)"
   ]
  },
  {
   "cell_type": "markdown",
   "metadata": {},
   "source": [
    "#### 3.4 double mutants ev+onehot"
   ]
  },
  {
   "cell_type": "code",
   "execution_count": 120,
   "metadata": {},
   "outputs": [
    {
     "name": "stdout",
     "output_type": "stream",
     "text": [
      "Optimal Sequence (Double Mutant):\n",
      "1 Mutated Position: 34 2 Mutated Position 92\n",
      "Original AA1: D Original AA2: D\n",
      "Mutated AA1: Y Mutated AA2: Y\n",
      "Sequence: MLDMGQDRPIDGSGAPGADDTRVEVQPPAQWVLYLIEASPIASVVSDPRLADNPLIAINQAFTDLTGYSEEECVGRNCRFLAGSGTEPWLTYKIRQGVREHKPVLVEILNYKKDGTPFRNAVLVAPIYDDDDELLYFLGSQVEVDDDQPNMGMARRERAAEMLKTLSPRQLEVTTLVASGLRNKEVAARLGLSEKTVKMHRGLVMEKLNLKTSADLVRIAVEAGI\n",
      "Fitness under Light: 5.687395831074995 (Light model)\n",
      "Fitness under Darkness: 2.988215971113823 (Darkness model)\n",
      "Combined Score: 2.699179859961172\n"
     ]
    }
   ],
   "source": [
    "opt1_double_evonehot = find_optimal_sequence(double_mutants_light_evonehot1, double_mutants_dark_evonehot1)"
   ]
  },
  {
   "cell_type": "code",
   "execution_count": 121,
   "metadata": {},
   "outputs": [
    {
     "name": "stdout",
     "output_type": "stream",
     "text": [
      "Optimal Sequence (Double Mutant):\n",
      "1 Mutated Position: 1 2 Mutated Position 125\n",
      "Original AA1: M Original AA2: A\n",
      "Mutated AA1: T Mutated AA2: W\n",
      "Sequence: TLDMGQDRPIDGSGAPGADDTRVEVQPPAQWVLDLIEASPIASVVSDPRLADNPLIAINQAFTDLTGYSEEECVGRNCRFLAGSGTEPWLTDKIRQGVREHKPVLVEILNYKKDGTPFRNAVLVWPIYDDDDELLYFLGSQVEVDDDQPNMGMARRERAAEMLKTLSPRQLEVTTLVASGLRNKEVAARLGLSEKTVKMHRGLVMEKLNLKTSADLVRIAVEAGI\n",
      "Fitness under Light: 10.887851562176614 (Light model)\n",
      "Fitness under Darkness: 0.2158515387032054 (Darkness model)\n",
      "Combined Score: 10.672000023473409\n"
     ]
    }
   ],
   "source": [
    "opt2_double_evonehot = find_optimal_sequence(double_mutants_light_evonehot1, double_mutants_dark_evonehot2)"
   ]
  },
  {
   "cell_type": "code",
   "execution_count": 250,
   "metadata": {},
   "outputs": [
    {
     "name": "stdout",
     "output_type": "stream",
     "text": [
      "Optimal Sequence (Double Mutant):\n",
      "1 Mutated Position: 1 2 Mutated Position 5\n",
      "Original AA1: M Original AA2: G\n",
      "Mutated AA1: C Mutated AA2: M\n",
      "Sequence: CLDMMQDRPIDGSGAPGADDTRVEVQPPAQWVLDLIEASPIASVVSDPRLADNPLIAINQAFTDLTGYSEEECVGRNCRFLAGSGTEPWLTDKIRQGVREHKPVLVEILNYKKDGTPFRNAVLVAPIYDDDDELLYFLGSQVEVDDDQPNMGMARRERAAEMLKTLSPRQLEVTTLVASGLRNKEVAARLGLSEKTVKMHRGLVMEKLNLKTSADLVRIAVEAGI\n",
      "Fitness under Light: 9.160593982593976 (Light model)\n",
      "Fitness under Darkness: -0.1954907051079235 (Darkness model)\n",
      "Combined Score: 9.3560846877019\n"
     ]
    }
   ],
   "source": [
    "opt3_double_evonehot = find_optimal_sequence(double_mutants_light_evonehot1, double_mutants_dark_evonehot3)"
   ]
  },
  {
   "cell_type": "code",
   "execution_count": 251,
   "metadata": {},
   "outputs": [
    {
     "name": "stdout",
     "output_type": "stream",
     "text": [
      "Optimal Sequence (Double Mutant):\n",
      "1 Mutated Position: 27 2 Mutated Position 125\n",
      "Original AA1: P Original AA2: A\n",
      "Mutated AA1: W Mutated AA2: W\n",
      "Sequence: MLDMGQDRPIDGSGAPGADDTRVEVQWPAQWVLDLIEASPIASVVSDPRLADNPLIAINQAFTDLTGYSEEECVGRNCRFLAGSGTEPWLTDKIRQGVREHKPVLVEILNYKKDGTPFRNAVLVWPIYDDDDELLYFLGSQVEVDDDQPNMGMARRERAAEMLKTLSPRQLEVTTLVASGLRNKEVAARLGLSEKTVKMHRGLVMEKLNLKTSADLVRIAVEAGI\n",
      "Fitness under Light: 9.479937258842812 (Light model)\n",
      "Fitness under Darkness: -0.7519464210892055 (Darkness model)\n",
      "Combined Score: 10.231883679932018\n"
     ]
    }
   ],
   "source": [
    "opt4_double_evonehot = find_optimal_sequence(double_mutants_light_evonehot1, double_mutants_dark_evonehot4)"
   ]
  },
  {
   "cell_type": "markdown",
   "metadata": {},
   "source": [
    "### 4. Create a Table with the best sequence for onehot and ev+onehot for each double and single mutants"
   ]
  },
  {
   "cell_type": "code",
   "execution_count": 210,
   "metadata": {},
   "outputs": [
    {
     "name": "stdout",
     "output_type": "stream",
     "text": [
      "          Predictor Mutations  Dynamic Range\n",
      "0  Ridge Regression  Asp92Tyr       2.446681\n"
     ]
    }
   ],
   "source": [
    "mutation_str_so = 'Asp92Tyr'\n",
    "# Create a DataFrame with the mutation information\n",
    "mutation_table_so = pd.DataFrame({\n",
    "    'Predictor':'Ridge Regression',\n",
    "    'Mutations': [mutation_str_so],\n",
    "    'Dynamic Range': opt_single_onehot['combined_score']\n",
    "})\n",
    "\n",
    "# Display the mutation table\n",
    "print(mutation_table_so)"
   ]
  },
  {
   "cell_type": "code",
   "execution_count": 211,
   "metadata": {},
   "outputs": [
    {
     "name": "stdout",
     "output_type": "stream",
     "text": [
      "         Predictor  Mutations  Dynamic Range\n",
      "0  Augmented model  Pro117Leu       1.514824\n"
     ]
    }
   ],
   "source": [
    "# Create mutation strings\n",
    "mutation_str_se = \"Pro117Leu\"\n",
    "\n",
    "# Create a DataFrame with the mutation information\n",
    "mutation_table_se = pd.DataFrame({\n",
    "    'Predictor':'Augmented model',\n",
    "    'Mutations': [mutation_str_se],\n",
    "    'Dynamic Range': opt_single_evonehot['combined_score']\n",
    "})\n",
    "\n",
    "# Display the mutation table\n",
    "print(mutation_table_se)"
   ]
  },
  {
   "cell_type": "code",
   "execution_count": 212,
   "metadata": {},
   "outputs": [
    {
     "name": "stdout",
     "output_type": "stream",
     "text": [
      "          Predictor             Mutations  Dynamic Range\n",
      "0  Ridge Regression  Asp92Tyr ; Pro117Leu       4.986238\n"
     ]
    }
   ],
   "source": [
    "# Create mutation strings\n",
    "mutation_str_do1 = \"Asp92Tyr\"\n",
    "mutation_str_do2 = \"Pro117Leu\"\n",
    "\n",
    "# Create a DataFrame with the mutation information\n",
    "mutation_table_do = pd.DataFrame({\n",
    "    'Predictor':'Ridge Regression',\n",
    "    'Mutations': [f'{mutation_str_do1} ; {mutation_str_do2}'],\n",
    "    'Dynamic Range': opt1_double_onehot['combined_score']\n",
    "})\n",
    "\n",
    "# Display the mutation table\n",
    "print(mutation_table_do)\n"
   ]
  },
  {
   "cell_type": "code",
   "execution_count": 213,
   "metadata": {},
   "outputs": [
    {
     "name": "stdout",
     "output_type": "stream",
     "text": [
      "         Predictor            Mutations  Dynamic Range\n",
      "0  Augmented model  Met1Thr ; Ala125Trp         10.672\n"
     ]
    }
   ],
   "source": [
    "#Create mutation strings\n",
    "mutation_str1 = \"Met1Thr\"\n",
    "mutation_str2 = \"Ala125Trp\"\n",
    "\n",
    "# Create a DataFrame with the mutation information\n",
    "mutation_table_de = pd.DataFrame({\n",
    "    'Predictor':'Augmented model',\n",
    "    'Mutations': [f'{mutation_str1} ; {mutation_str2}'],\n",
    "    'Dynamic Range': opt2_double_evonehot['combined_score']\n",
    "})\n",
    "\n",
    "# Display the mutation table\n",
    "print(mutation_table_de)\n"
   ]
  },
  {
   "cell_type": "code",
   "execution_count": 226,
   "metadata": {},
   "outputs": [],
   "source": [
    "table_df =  pd.concat([mutation_table_so, mutation_table_do, mutation_table_se, mutation_table_de], axis=0, ignore_index=True)"
   ]
  },
  {
   "cell_type": "code",
   "execution_count": 227,
   "metadata": {},
   "outputs": [
    {
     "data": {
      "text/html": [
       "<div>\n",
       "<style scoped>\n",
       "    .dataframe tbody tr th:only-of-type {\n",
       "        vertical-align: middle;\n",
       "    }\n",
       "\n",
       "    .dataframe tbody tr th {\n",
       "        vertical-align: top;\n",
       "    }\n",
       "\n",
       "    .dataframe thead th {\n",
       "        text-align: right;\n",
       "    }\n",
       "</style>\n",
       "<table border=\"1\" class=\"dataframe\">\n",
       "  <thead>\n",
       "    <tr style=\"text-align: right;\">\n",
       "      <th></th>\n",
       "      <th>Predictor</th>\n",
       "      <th>Mutations</th>\n",
       "      <th>Dynamic Range</th>\n",
       "    </tr>\n",
       "  </thead>\n",
       "  <tbody>\n",
       "    <tr>\n",
       "      <th>0</th>\n",
       "      <td>Ridge Regression</td>\n",
       "      <td>Asp92Tyr</td>\n",
       "      <td>2.446681</td>\n",
       "    </tr>\n",
       "    <tr>\n",
       "      <th>1</th>\n",
       "      <td>Ridge Regression</td>\n",
       "      <td>Asp92Tyr ; Pro117Leu</td>\n",
       "      <td>4.986238</td>\n",
       "    </tr>\n",
       "    <tr>\n",
       "      <th>2</th>\n",
       "      <td>Augmented model</td>\n",
       "      <td>Pro117Leu</td>\n",
       "      <td>1.514824</td>\n",
       "    </tr>\n",
       "    <tr>\n",
       "      <th>3</th>\n",
       "      <td>Augmented model</td>\n",
       "      <td>Met1Thr ; Ala125Trp</td>\n",
       "      <td>10.672000</td>\n",
       "    </tr>\n",
       "  </tbody>\n",
       "</table>\n",
       "</div>"
      ],
      "text/plain": [
       "          Predictor             Mutations  Dynamic Range\n",
       "0  Ridge Regression              Asp92Tyr       2.446681\n",
       "1  Ridge Regression  Asp92Tyr ; Pro117Leu       4.986238\n",
       "2   Augmented model             Pro117Leu       1.514824\n",
       "3   Augmented model   Met1Thr ; Ala125Trp      10.672000"
      ]
     },
     "execution_count": 227,
     "metadata": {},
     "output_type": "execute_result"
    }
   ],
   "source": [
    "table_df"
   ]
  },
  {
   "cell_type": "code",
   "execution_count": 237,
   "metadata": {},
   "outputs": [
    {
     "data": {
      "image/png": "[encoded data removed]",
      "text/plain": [
       "<Figure size 1000x400 with 1 Axes>"
      ]
     },
     "metadata": {},
     "output_type": "display_data"
    }
   ],
   "source": [
    "# Create a figure and axis\n",
    "fig, ax = plt.subplots(figsize=(10, 4))\n",
    "\n",
    "# Hide the axes\n",
    "ax.axis('off')\n",
    "\n",
    "# Plot the table\n",
    "table = ax.table(cellText=table_df.values, colLabels=table_df.columns, cellLoc='center', loc='center', fontsize=3, bbox=[0, 0, 1, 1])\n",
    "for i in range(3):\n",
    "    table[(0, i)].set_facecolor('#FFABAB')\n",
    "\n",
    "# Save the figure\n",
    "fig.savefig('table.pdf', bbox_inches='tight')"
   ]
  }
 ],
 "metadata": {
  "kernelspec": {
   "display_name": "base",
   "language": "python",
   "name": "python3"
  },
  "language_info": {
   "codemirror_mode": {
    "name": "ipython",
    "version": 3
   },
   "file_extension": ".py",
   "mimetype": "text/x-python",
   "name": "python",
   "nbconvert_exporter": "python",
   "pygments_lexer": "ipython3",
   "version": "3.8.18"
  }
 },
 "nbformat": 4,
 "nbformat_minor": 2
}
