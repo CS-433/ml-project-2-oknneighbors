{
 "cells": [
  {
   "cell_type": "markdown",
   "metadata": {},
   "source": [
    "> In this notebook, you will find the analysis of mutant sequences that underwent machine learning models. This analysis aims to identify the optimal protein sequence for a specific function: achieving high fitness under light conditions and low fitness when deactivated."
   ]
  },
  {
   "cell_type": "markdown",
   "metadata": {},
   "source": [
    "> The mutant sequences were generated in the `sequence_generator.ipynb` notebook."
   ]
  },
  {
   "cell_type": "code",
   "execution_count": 1,
   "metadata": {},
   "outputs": [],
   "source": [
    "import pandas as pd\n",
    "import numpy as np "
   ]
  },
  {
   "cell_type": "markdown",
   "metadata": {},
   "source": [
    "### 1. Loading the results"
   ]
  },
  {
   "cell_type": "markdown",
   "metadata": {},
   "source": [
    "> All possible sequences of single mutants were inputted into the `onehot` model through the `train_and_predict.py` script, separately for both the 'light' and 'darkness' models."
   ]
  },
  {
   "cell_type": "code",
   "execution_count": 31,
   "metadata": {},
   "outputs": [],
   "source": [
    "# Loading single mutants with predicted fitness under the light model\n",
    "single_mut_light_fitness = pd.read_csv('output_light_single_mutant.csv')\n",
    "\n",
    "# Loading single mutants with predicted fitness under the darkness model\n",
    "single_mut_darkness_fitness = pd.read_csv('output_darkness_single_mutant.csv')"
   ]
  },
  {
   "cell_type": "markdown",
   "metadata": {},
   "source": [
    "### 2. Fitness analysis"
   ]
  },
  {
   "cell_type": "markdown",
   "metadata": {},
   "source": [
    "> Let's look at a few statics on our predicted fitnesses."
   ]
  },
  {
   "cell_type": "code",
   "execution_count": 32,
   "metadata": {},
   "outputs": [
    {
     "data": {
      "text/plain": [
       "count    4275.000000\n",
       "mean        2.191816\n",
       "std         0.432109\n",
       "min        -4.069784\n",
       "25%         2.191816\n",
       "50%         2.191816\n",
       "75%         2.191816\n",
       "max         4.876305\n",
       "Name: pred, dtype: float64"
      ]
     },
     "execution_count": 32,
     "metadata": {},
     "output_type": "execute_result"
    }
   ],
   "source": [
    "single_mut_light_fitness['pred'].describe()"
   ]
  },
  {
   "cell_type": "code",
   "execution_count": 33,
   "metadata": {},
   "outputs": [
    {
     "data": {
      "text/plain": [
       "count    4275.000000\n",
       "mean        2.926169\n",
       "std         0.362640\n",
       "min        -0.915769\n",
       "25%         2.926169\n",
       "50%         2.926169\n",
       "75%         2.926169\n",
       "max         7.282917\n",
       "Name: pred, dtype: float64"
      ]
     },
     "execution_count": 33,
     "metadata": {},
     "output_type": "execute_result"
    }
   ],
   "source": [
    "single_mut_darkness_fitness['pred'].describe()"
   ]
  },
  {
   "cell_type": "markdown",
   "metadata": {},
   "source": [
    "### 3.  The Optimal Optoprotein Sequence"
   ]
  },
  {
   "cell_type": "code",
   "execution_count": 28,
   "metadata": {},
   "outputs": [],
   "source": [
    "# Loading single mutants with predicted fitness under the light model\n",
    "single_mut_light_fitness = pd.read_csv('data/Darkness/data.csv')\n",
    "\n",
    "# Loading single mutants with predicted fitness under the darkness model\n",
    "single_mut_darkness_fitness = pd.read_csv('data/Light/data.csv')"
   ]
  },
  {
   "cell_type": "code",
   "execution_count": 29,
   "metadata": {},
   "outputs": [],
   "source": [
    "single_mut_darkness_fitness['pred'] = single_mut_darkness_fitness['log_fitness']\n",
    "single_mut_light_fitness['pred'] = single_mut_light_fitness['log_fitness']"
   ]
  },
  {
   "cell_type": "code",
   "execution_count": 36,
   "metadata": {},
   "outputs": [
    {
     "name": "stdout",
     "output_type": "stream",
     "text": [
      "Optimal Sequence:\n",
      "Mutated Position: 117\n",
      "Original AA: P\n",
      "Mutated AA: L\n",
      "Sequence: MLDMGQDRPIDGSGAPGADDTRVEVQPPAQWVLDLIEASPIASVVSDPRLADNPLIAINQAFTDLTGYSEEECVGRNCRFLAGSGTEPWLTDKIRQGVREHKPVLVEILNYKKDGTLFRNAVLVAPIYDDDDELLYFLGSQVEVDDDQPNMGMARRERAAEMLKTLSPRQLEVTTLVASGLRNKEVAARLGLSEKTVKMHRGLVMEKLNLKTSADLVRIAVEAGI\n",
      "Fitness under Light: 3.722253897677456 (Lightness model)\n",
      "Fitness under Darkness: -0.9157694121481356 (Darkness model)\n",
      "Combined Score: 3.3330677580126764\n"
     ]
    }
   ],
   "source": [
    "# Sort the light DataFrame to maximize fitness under light\n",
    "sorted_light_df = single_mut_light_fitness.sort_values(by='pred', ascending=False)\n",
    "\n",
    "# Sort the darkness DataFrame to minimize fitness under darkness\n",
    "sorted_darkness_df = single_mut_darkness_fitness.sort_values(by='pred', ascending=True)\n",
    "\n",
    "# Calculate the combined score (light fitness - darkness fitness)\n",
    "sorted_light_df['combined_score'] = sorted_light_df['pred'] - sorted_darkness_df['pred']\n",
    "\n",
    "sorted_combined_df = sorted_light_df.sort_values(by='combined_score', ascending=False)\n",
    "optimal_sequence = sorted_combined_df.iloc[0]\n",
    "\n",
    "\n",
    "print(\"Optimal Sequence:\")\n",
    "print(f\"Mutated Position: {optimal_sequence['Mutated_Position']}\")\n",
    "print(f\"Original AA: {optimal_sequence['Original_AA']}\")\n",
    "print(f\"Mutated AA: {optimal_sequence['Mutated_AA']}\")\n",
    "print(f\"Sequence: {optimal_sequence['seq']}\")\n",
    "print(f\"Fitness under Light: {optimal_sequence['pred']} (Lightness model)\")\n",
    "print(f\"Fitness under Darkness: {sorted_darkness_df.iloc[0]['pred']} (Darkness model)\")\n",
    "print(f\"Combined Score: {optimal_sequence['combined_score']}\")\n"
   ]
  }
 ],
 "metadata": {
  "kernelspec": {
   "display_name": "ada",
   "language": "python",
   "name": "python3"
  },
  "language_info": {
   "codemirror_mode": {
    "name": "ipython",
    "version": 3
   },
   "file_extension": ".py",
   "mimetype": "text/x-python",
   "name": "python",
   "nbconvert_exporter": "python",
   "pygments_lexer": "ipython3",
   "version": "3.9.18"
  }
 },
 "nbformat": 4,
 "nbformat_minor": 2
}
