{
 "cells": [
  {
   "cell_type": "markdown",
   "metadata": {},
   "source": [
    "> This notebook can be used to generate mutant sequences"
   ]
  },
  {
   "cell_type": "code",
   "execution_count": 2,
   "metadata": {},
   "outputs": [],
   "source": [
    "import pandas as pd\n",
    "import numpy as np \n",
    "import os\n",
    "\n",
    "from helpers import*"
   ]
  },
  {
   "cell_type": "markdown",
   "metadata": {},
   "source": [
    "### 1. Single Mutant sequences"
   ]
  },
  {
   "cell_type": "code",
   "execution_count": null,
   "metadata": {},
   "outputs": [],
   "source": [
    "wt_seq = 'MLDMGQDRPIDGSGAPGADDTRVEVQPPAQWVLDLIEASPIASVVSDPRLADNPLIAINQAFTDLTGYSEEECVGRNCRFLAGSGTEPWLTDKIRQGVREHKPVLVEILNYKKDGTPFRNAVLVAPIYDDDDELLYFLGSQVEVDDDQPNMGMARRERAAEMLKTLSPRQLEVTTLVASGLRNKEVAARLGLSEKTVKMHRGLVMEKLNLKTSADLVRIAVEAGI'"
   ]
  },
  {
   "cell_type": "code",
   "execution_count": null,
   "metadata": {},
   "outputs": [],
   "source": [
    "mutations = generate_mutations(wt_seq) # Generate single mutants\n",
    " \n",
    "# Save the generated dataframe: \n",
    "    \n",
    "df = pd.DataFrame(mutations)\n",
    "df = df[['Position', 'Original_AA', 'Mutated_Position', 'Mutated_AA', 'seq']]\n",
    "\n",
    "df.to_csv('generated/single_mutants.csv', index=False)"
   ]
  },
  {
   "cell_type": "code",
   "execution_count": 3,
   "metadata": {},
   "outputs": [
    {
     "data": {
      "text/html": [
       "<div>\n",
       "<style scoped>\n",
       "    .dataframe tbody tr th:only-of-type {\n",
       "        vertical-align: middle;\n",
       "    }\n",
       "\n",
       "    .dataframe tbody tr th {\n",
       "        vertical-align: top;\n",
       "    }\n",
       "\n",
       "    .dataframe thead th {\n",
       "        text-align: right;\n",
       "    }\n",
       "</style>\n",
       "<table border=\"1\" class=\"dataframe\">\n",
       "  <thead>\n",
       "    <tr style=\"text-align: right;\">\n",
       "      <th></th>\n",
       "      <th>Position</th>\n",
       "      <th>Original_AA</th>\n",
       "      <th>Mutated_Position</th>\n",
       "      <th>Mutated_AA</th>\n",
       "      <th>seq</th>\n",
       "    </tr>\n",
       "  </thead>\n",
       "  <tbody>\n",
       "    <tr>\n",
       "      <th>0</th>\n",
       "      <td>1</td>\n",
       "      <td>M</td>\n",
       "      <td>1</td>\n",
       "      <td>A</td>\n",
       "      <td>ALDMGQDRPIDGSGAPGADDTRVEVQPPAQWVLDLIEASPIASVVS...</td>\n",
       "    </tr>\n",
       "    <tr>\n",
       "      <th>1</th>\n",
       "      <td>1</td>\n",
       "      <td>M</td>\n",
       "      <td>1</td>\n",
       "      <td>C</td>\n",
       "      <td>CLDMGQDRPIDGSGAPGADDTRVEVQPPAQWVLDLIEASPIASVVS...</td>\n",
       "    </tr>\n",
       "    <tr>\n",
       "      <th>2</th>\n",
       "      <td>1</td>\n",
       "      <td>M</td>\n",
       "      <td>1</td>\n",
       "      <td>D</td>\n",
       "      <td>DLDMGQDRPIDGSGAPGADDTRVEVQPPAQWVLDLIEASPIASVVS...</td>\n",
       "    </tr>\n",
       "    <tr>\n",
       "      <th>3</th>\n",
       "      <td>1</td>\n",
       "      <td>M</td>\n",
       "      <td>1</td>\n",
       "      <td>E</td>\n",
       "      <td>ELDMGQDRPIDGSGAPGADDTRVEVQPPAQWVLDLIEASPIASVVS...</td>\n",
       "    </tr>\n",
       "    <tr>\n",
       "      <th>4</th>\n",
       "      <td>1</td>\n",
       "      <td>M</td>\n",
       "      <td>1</td>\n",
       "      <td>F</td>\n",
       "      <td>FLDMGQDRPIDGSGAPGADDTRVEVQPPAQWVLDLIEASPIASVVS...</td>\n",
       "    </tr>\n",
       "  </tbody>\n",
       "</table>\n",
       "</div>"
      ],
      "text/plain": [
       "   Position Original_AA  Mutated_Position Mutated_AA  \\\n",
       "0         1           M                 1          A   \n",
       "1         1           M                 1          C   \n",
       "2         1           M                 1          D   \n",
       "3         1           M                 1          E   \n",
       "4         1           M                 1          F   \n",
       "\n",
       "                                                 seq  \n",
       "0  ALDMGQDRPIDGSGAPGADDTRVEVQPPAQWVLDLIEASPIASVVS...  \n",
       "1  CLDMGQDRPIDGSGAPGADDTRVEVQPPAQWVLDLIEASPIASVVS...  \n",
       "2  DLDMGQDRPIDGSGAPGADDTRVEVQPPAQWVLDLIEASPIASVVS...  \n",
       "3  ELDMGQDRPIDGSGAPGADDTRVEVQPPAQWVLDLIEASPIASVVS...  \n",
       "4  FLDMGQDRPIDGSGAPGADDTRVEVQPPAQWVLDLIEASPIASVVS...  "
      ]
     },
     "execution_count": 3,
     "metadata": {},
     "output_type": "execute_result"
    }
   ],
   "source": [
    "df.head()"
   ]
  },
  {
   "cell_type": "markdown",
   "metadata": {},
   "source": [
    "##### Remarks:"
   ]
  },
  {
   "cell_type": "code",
   "execution_count": 4,
   "metadata": {},
   "outputs": [
    {
     "name": "stdout",
     "output_type": "stream",
     "text": [
      "4275\n"
     ]
    }
   ],
   "source": [
    "print(19*len(wt_seq))"
   ]
  },
  {
   "cell_type": "markdown",
   "metadata": {},
   "source": [
    "> There are 4275 possible sequences for single mutant proteins."
   ]
  },
  {
   "cell_type": "code",
   "execution_count": 5,
   "metadata": {},
   "outputs": [
    {
     "data": {
      "text/html": [
       "<div>\n",
       "<style scoped>\n",
       "    .dataframe tbody tr th:only-of-type {\n",
       "        vertical-align: middle;\n",
       "    }\n",
       "\n",
       "    .dataframe tbody tr th {\n",
       "        vertical-align: top;\n",
       "    }\n",
       "\n",
       "    .dataframe thead th {\n",
       "        text-align: right;\n",
       "    }\n",
       "</style>\n",
       "<table border=\"1\" class=\"dataframe\">\n",
       "  <thead>\n",
       "    <tr style=\"text-align: right;\">\n",
       "      <th></th>\n",
       "      <th>Position1</th>\n",
       "      <th>Original_AA1</th>\n",
       "      <th>Mutated_Position1</th>\n",
       "      <th>Mutated_AA1</th>\n",
       "      <th>Position2</th>\n",
       "      <th>Original_AA2</th>\n",
       "      <th>Mutated_Position2</th>\n",
       "      <th>Mutated_AA2</th>\n",
       "      <th>seq</th>\n",
       "    </tr>\n",
       "  </thead>\n",
       "  <tbody>\n",
       "    <tr>\n",
       "      <th>0</th>\n",
       "      <td>1</td>\n",
       "      <td>M</td>\n",
       "      <td>1</td>\n",
       "      <td>A</td>\n",
       "      <td>2</td>\n",
       "      <td>L</td>\n",
       "      <td>2</td>\n",
       "      <td>A</td>\n",
       "      <td>AADMGQDRPIDGSGAPGADDTRVEVQPPAQWVLDLIEASPIASVVS...</td>\n",
       "    </tr>\n",
       "    <tr>\n",
       "      <th>1</th>\n",
       "      <td>1</td>\n",
       "      <td>M</td>\n",
       "      <td>1</td>\n",
       "      <td>A</td>\n",
       "      <td>2</td>\n",
       "      <td>L</td>\n",
       "      <td>2</td>\n",
       "      <td>C</td>\n",
       "      <td>ACDMGQDRPIDGSGAPGADDTRVEVQPPAQWVLDLIEASPIASVVS...</td>\n",
       "    </tr>\n",
       "    <tr>\n",
       "      <th>2</th>\n",
       "      <td>1</td>\n",
       "      <td>M</td>\n",
       "      <td>1</td>\n",
       "      <td>A</td>\n",
       "      <td>2</td>\n",
       "      <td>L</td>\n",
       "      <td>2</td>\n",
       "      <td>D</td>\n",
       "      <td>ADDMGQDRPIDGSGAPGADDTRVEVQPPAQWVLDLIEASPIASVVS...</td>\n",
       "    </tr>\n",
       "    <tr>\n",
       "      <th>3</th>\n",
       "      <td>1</td>\n",
       "      <td>M</td>\n",
       "      <td>1</td>\n",
       "      <td>A</td>\n",
       "      <td>2</td>\n",
       "      <td>L</td>\n",
       "      <td>2</td>\n",
       "      <td>E</td>\n",
       "      <td>AEDMGQDRPIDGSGAPGADDTRVEVQPPAQWVLDLIEASPIASVVS...</td>\n",
       "    </tr>\n",
       "    <tr>\n",
       "      <th>4</th>\n",
       "      <td>1</td>\n",
       "      <td>M</td>\n",
       "      <td>1</td>\n",
       "      <td>A</td>\n",
       "      <td>2</td>\n",
       "      <td>L</td>\n",
       "      <td>2</td>\n",
       "      <td>F</td>\n",
       "      <td>AFDMGQDRPIDGSGAPGADDTRVEVQPPAQWVLDLIEASPIASVVS...</td>\n",
       "    </tr>\n",
       "  </tbody>\n",
       "</table>\n",
       "</div>"
      ],
      "text/plain": [
       "   Position1 Original_AA1  Mutated_Position1 Mutated_AA1  Position2  \\\n",
       "0          1            M                  1           A          2   \n",
       "1          1            M                  1           A          2   \n",
       "2          1            M                  1           A          2   \n",
       "3          1            M                  1           A          2   \n",
       "4          1            M                  1           A          2   \n",
       "\n",
       "  Original_AA2  Mutated_Position2 Mutated_AA2  \\\n",
       "0            L                  2           A   \n",
       "1            L                  2           C   \n",
       "2            L                  2           D   \n",
       "3            L                  2           E   \n",
       "4            L                  2           F   \n",
       "\n",
       "                                                 seq  \n",
       "0  AADMGQDRPIDGSGAPGADDTRVEVQPPAQWVLDLIEASPIASVVS...  \n",
       "1  ACDMGQDRPIDGSGAPGADDTRVEVQPPAQWVLDLIEASPIASVVS...  \n",
       "2  ADDMGQDRPIDGSGAPGADDTRVEVQPPAQWVLDLIEASPIASVVS...  \n",
       "3  AEDMGQDRPIDGSGAPGADDTRVEVQPPAQWVLDLIEASPIASVVS...  \n",
       "4  AFDMGQDRPIDGSGAPGADDTRVEVQPPAQWVLDLIEASPIASVVS...  "
      ]
     },
     "execution_count": 5,
     "metadata": {},
     "output_type": "execute_result"
    }
   ],
   "source": [
    "double_mutants = generate_double_mutants(wt_seq) # Generate double mutants\n",
    "    \n",
    "# Save the generating file:\n",
    "    \n",
    "df2 = pd.DataFrame(double_mutants)\n",
    "df2 = df2[['Position1', 'Original_AA1', 'Mutated_Position1', 'Mutated_AA1', 'Position2', 'Original_AA2', 'Mutated_Position2', 'Mutated_AA2', 'seq']]\n",
    "df2.to_csv('generated/double_mutants.csv', index=False)\n",
    "\n",
    "df2.head()\n"
   ]
  },
  {
   "cell_type": "markdown",
   "metadata": {},
   "source": [
    "##### Remarks"
   ]
  },
  {
   "cell_type": "code",
   "execution_count": 6,
   "metadata": {},
   "outputs": [
    {
     "data": {
      "text/plain": [
       "(9097200, 9)"
      ]
     },
     "execution_count": 6,
     "metadata": {},
     "output_type": "execute_result"
    }
   ],
   "source": [
    "print(df2.shape[0])"
   ]
  },
  {
   "cell_type": "code",
   "execution_count": 7,
   "metadata": {},
   "outputs": [
    {
     "name": "stdout",
     "output_type": "stream",
     "text": [
      "Number of double mutants (excluding original amino acids): 9097200\n"
     ]
    }
   ],
   "source": [
    "# This is the theorical number of double mutants\n",
    "\n",
    "number_of_double_mutants = 19**2 * (len_wt_seq * (len_wt_seq - 1)) // 2\n",
    "print(\"Number of double mutants (excluding original amino acids):\", number_of_double_mutants)"
   ]
  },
  {
   "cell_type": "code",
   "execution_count": 3,
   "metadata": {},
   "outputs": [],
   "source": [
    "#split the double_mutants.csv in different file because it is too large to train otherwise.\n",
    "\n",
    "input_csv_path = 'generated/double_mutants.csv'\n",
    "output_folder = 'data'\n",
    "chunk_size = 1000000  # Adjust the chunk size as needed\n",
    "\n",
    "split_csv(input_csv_path, output_folder, chunk_size)\n"
   ]
  },
  {
   "cell_type": "markdown",
   "metadata": {},
   "source": [
    "> "
   ]
  }
 ],
 "metadata": {
  "kernelspec": {
   "display_name": "ada",
   "language": "python",
   "name": "python3"
  },
  "language_info": {
   "codemirror_mode": {
    "name": "ipython",
    "version": 3
   },
   "file_extension": ".py",
   "mimetype": "text/x-python",
   "name": "python",
   "nbconvert_exporter": "python",
   "pygments_lexer": "ipython3",
   "version": "3.8.18"
  }
 },
 "nbformat": 4,
 "nbformat_minor": 2
}
