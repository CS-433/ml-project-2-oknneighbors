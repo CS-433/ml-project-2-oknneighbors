{
 "cells": [
  {
   "cell_type": "markdown",
   "metadata": {},
   "source": [
    "> This notebook can be used to generate mutant sequences"
   ]
  },
  {
   "cell_type": "code",
   "execution_count": 2,
   "metadata": {},
   "outputs": [],
   "source": [
    "import pandas as pd\n",
    "import numpy as np "
   ]
  },
  {
   "cell_type": "markdown",
   "metadata": {},
   "source": [
    "### 1. Single Mutant sequences"
   ]
  },
  {
   "cell_type": "code",
   "execution_count": 12,
   "metadata": {},
   "outputs": [],
   "source": [
    "def generate_mutations(wt_seq):\n",
    "    mutations = []\n",
    "    for i in range(len(wt_seq)):\n",
    "        for amino_acid in 'ACDEFGHIKLMNPQRSTVWY':\n",
    "            if amino_acid != wt_seq[i]:\n",
    "                mutated_seq = list(wt_seq)\n",
    "                mutated_seq[i] = amino_acid\n",
    "                mutated_seq = ''.join(mutated_seq)\n",
    "\n",
    "                mutation = {\n",
    "                    'Position': i + 1,\n",
    "                    'Original_AA': wt_seq[i],\n",
    "                    'Mutated_Position': i + 1,\n",
    "                    'Mutated_AA': amino_acid,\n",
    "                    'seq': mutated_seq\n",
    "                }\n",
    "                mutations.append(mutation)\n",
    "    return mutations\n",
    "\n",
    "if __name__ == \"__main__\":\n",
    "    wt_seq = 'MLDMGQDRPIDGSGAPGADDTRVEVQPPAQWVLDLIEASPIASVVSDPRLADNPLIAINQAFTDLTGYSEEECVGRNCRFLAGSGTEPWLTDKIRQGVREHKPVLVEILNYKKDGTPFRNAVLVAPIYDDDDELLYFLGSQVEVDDDQPNMGMARRERAAEMLKTLSPRQLEVTTLVASGLRNKEVAARLGLSEKTVKMHRGLVMEKLNLKTSADLVRIAVEAGI'\n",
    "    mutations = generate_mutations(wt_seq)\n",
    "    \n",
    "    # Create a DataFrame from the mutations list\n",
    "    df = pd.DataFrame(mutations)\n",
    "\n",
    "    # Reorder the columns\n",
    "    df = df[['Position', 'Original_AA', 'Mutated_Position', 'Mutated_AA', 'seq']]\n",
    "\n",
    "    # Save the DataFrame to a CSV file\n",
    "    df.to_csv('single_mutants.csv', index=False)\n"
   ]
  },
  {
   "cell_type": "markdown",
   "metadata": {},
   "source": [
    "##### Remarks:"
   ]
  },
  {
   "cell_type": "code",
   "execution_count": 10,
   "metadata": {},
   "outputs": [
    {
     "name": "stdout",
     "output_type": "stream",
     "text": [
      "4275\n"
     ]
    }
   ],
   "source": [
    "print(19*len(wt_seq))"
   ]
  },
  {
   "cell_type": "markdown",
   "metadata": {},
   "source": [
    "> There are 4275 possible sequences for single mutant proteins."
   ]
  },
  {
   "cell_type": "markdown",
   "metadata": {},
   "source": [
    "> "
   ]
  }
 ],
 "metadata": {
  "kernelspec": {
   "display_name": "ada",
   "language": "python",
   "name": "python3"
  },
  "language_info": {
   "codemirror_mode": {
    "name": "ipython",
    "version": 3
   },
   "file_extension": ".py",
   "mimetype": "text/x-python",
   "name": "python",
   "nbconvert_exporter": "python",
   "pygments_lexer": "ipython3",
   "version": "3.9.18"
  }
 },
 "nbformat": 4,
 "nbformat_minor": 2
}
