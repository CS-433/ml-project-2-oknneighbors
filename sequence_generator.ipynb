{
 "cells": [
  {
   "cell_type": "markdown",
   "metadata": {},
   "source": [
    "> This notebook can be used to generate mutant sequences"
   ]
  },
  {
   "cell_type": "code",
   "execution_count": 2,
   "metadata": {},
   "outputs": [],
   "source": [
    "import pandas as pd\n",
    "import numpy as np \n",
    "import os"
   ]
  },
  {
   "cell_type": "markdown",
   "metadata": {},
   "source": [
    "### 1. Single Mutant sequences"
   ]
  },
  {
   "cell_type": "code",
   "execution_count": 2,
   "metadata": {},
   "outputs": [],
   "source": [
    "def generate_mutations(wt_seq):\n",
    "    mutations = []\n",
    "    for i in range(len(wt_seq)):\n",
    "        for amino_acid in 'ACDEFGHIKLMNPQRSTVWY':\n",
    "            if amino_acid != wt_seq[i]:\n",
    "                mutated_seq = list(wt_seq)\n",
    "                mutated_seq[i] = amino_acid\n",
    "                mutated_seq = ''.join(mutated_seq)\n",
    "\n",
    "                mutation = {\n",
    "                    'Position': i + 1,\n",
    "                    'Original_AA': wt_seq[i],\n",
    "                    'Mutated_Position': i + 1,\n",
    "                    'Mutated_AA': amino_acid,\n",
    "                    'seq': mutated_seq\n",
    "                }\n",
    "                mutations.append(mutation)\n",
    "    return mutations\n",
    "\n",
    "if __name__ == \"__main__\":\n",
    "    wt_seq = 'MLDMGQDRPIDGSGAPGADDTRVEVQPPAQWVLDLIEASPIASVVSDPRLADNPLIAINQAFTDLTGYSEEECVGRNCRFLAGSGTEPWLTDKIRQGVREHKPVLVEILNYKKDGTPFRNAVLVAPIYDDDDELLYFLGSQVEVDDDQPNMGMARRERAAEMLKTLSPRQLEVTTLVASGLRNKEVAARLGLSEKTVKMHRGLVMEKLNLKTSADLVRIAVEAGI'\n",
    "    mutations = generate_mutations(wt_seq)\n",
    "    \n",
    "    # Create a DataFrame from the mutations list\n",
    "    df = pd.DataFrame(mutations)\n",
    "\n",
    "    # Reorder the columns\n",
    "    df = df[['Position', 'Original_AA', 'Mutated_Position', 'Mutated_AA', 'seq']]\n",
    "\n",
    "    # Save the DataFrame to a CSV file\n",
    "    df.to_csv('single_mutants.csv', index=False)\n"
   ]
  },
  {
   "cell_type": "code",
   "execution_count": 3,
   "metadata": {},
   "outputs": [
    {
     "data": {
      "text/html": [
       "<div>\n",
       "<style scoped>\n",
       "    .dataframe tbody tr th:only-of-type {\n",
       "        vertical-align: middle;\n",
       "    }\n",
       "\n",
       "    .dataframe tbody tr th {\n",
       "        vertical-align: top;\n",
       "    }\n",
       "\n",
       "    .dataframe thead th {\n",
       "        text-align: right;\n",
       "    }\n",
       "</style>\n",
       "<table border=\"1\" class=\"dataframe\">\n",
       "  <thead>\n",
       "    <tr style=\"text-align: right;\">\n",
       "      <th></th>\n",
       "      <th>Position</th>\n",
       "      <th>Original_AA</th>\n",
       "      <th>Mutated_Position</th>\n",
       "      <th>Mutated_AA</th>\n",
       "      <th>seq</th>\n",
       "    </tr>\n",
       "  </thead>\n",
       "  <tbody>\n",
       "    <tr>\n",
       "      <th>0</th>\n",
       "      <td>1</td>\n",
       "      <td>M</td>\n",
       "      <td>1</td>\n",
       "      <td>A</td>\n",
       "      <td>ALDMGQDRPIDGSGAPGADDTRVEVQPPAQWVLDLIEASPIASVVS...</td>\n",
       "    </tr>\n",
       "    <tr>\n",
       "      <th>1</th>\n",
       "      <td>1</td>\n",
       "      <td>M</td>\n",
       "      <td>1</td>\n",
       "      <td>C</td>\n",
       "      <td>CLDMGQDRPIDGSGAPGADDTRVEVQPPAQWVLDLIEASPIASVVS...</td>\n",
       "    </tr>\n",
       "    <tr>\n",
       "      <th>2</th>\n",
       "      <td>1</td>\n",
       "      <td>M</td>\n",
       "      <td>1</td>\n",
       "      <td>D</td>\n",
       "      <td>DLDMGQDRPIDGSGAPGADDTRVEVQPPAQWVLDLIEASPIASVVS...</td>\n",
       "    </tr>\n",
       "    <tr>\n",
       "      <th>3</th>\n",
       "      <td>1</td>\n",
       "      <td>M</td>\n",
       "      <td>1</td>\n",
       "      <td>E</td>\n",
       "      <td>ELDMGQDRPIDGSGAPGADDTRVEVQPPAQWVLDLIEASPIASVVS...</td>\n",
       "    </tr>\n",
       "    <tr>\n",
       "      <th>4</th>\n",
       "      <td>1</td>\n",
       "      <td>M</td>\n",
       "      <td>1</td>\n",
       "      <td>F</td>\n",
       "      <td>FLDMGQDRPIDGSGAPGADDTRVEVQPPAQWVLDLIEASPIASVVS...</td>\n",
       "    </tr>\n",
       "  </tbody>\n",
       "</table>\n",
       "</div>"
      ],
      "text/plain": [
       "   Position Original_AA  Mutated_Position Mutated_AA  \\\n",
       "0         1           M                 1          A   \n",
       "1         1           M                 1          C   \n",
       "2         1           M                 1          D   \n",
       "3         1           M                 1          E   \n",
       "4         1           M                 1          F   \n",
       "\n",
       "                                                 seq  \n",
       "0  ALDMGQDRPIDGSGAPGADDTRVEVQPPAQWVLDLIEASPIASVVS...  \n",
       "1  CLDMGQDRPIDGSGAPGADDTRVEVQPPAQWVLDLIEASPIASVVS...  \n",
       "2  DLDMGQDRPIDGSGAPGADDTRVEVQPPAQWVLDLIEASPIASVVS...  \n",
       "3  ELDMGQDRPIDGSGAPGADDTRVEVQPPAQWVLDLIEASPIASVVS...  \n",
       "4  FLDMGQDRPIDGSGAPGADDTRVEVQPPAQWVLDLIEASPIASVVS...  "
      ]
     },
     "execution_count": 3,
     "metadata": {},
     "output_type": "execute_result"
    }
   ],
   "source": [
    "df.head()"
   ]
  },
  {
   "cell_type": "markdown",
   "metadata": {},
   "source": [
    "##### Remarks:"
   ]
  },
  {
   "cell_type": "code",
   "execution_count": 4,
   "metadata": {},
   "outputs": [
    {
     "name": "stdout",
     "output_type": "stream",
     "text": [
      "4275\n"
     ]
    }
   ],
   "source": [
    "print(19*len(wt_seq))"
   ]
  },
  {
   "cell_type": "markdown",
   "metadata": {},
   "source": [
    "> There are 4275 possible sequences for single mutant proteins."
   ]
  },
  {
   "cell_type": "code",
   "execution_count": 5,
   "metadata": {},
   "outputs": [
    {
     "data": {
      "text/html": [
       "<div>\n",
       "<style scoped>\n",
       "    .dataframe tbody tr th:only-of-type {\n",
       "        vertical-align: middle;\n",
       "    }\n",
       "\n",
       "    .dataframe tbody tr th {\n",
       "        vertical-align: top;\n",
       "    }\n",
       "\n",
       "    .dataframe thead th {\n",
       "        text-align: right;\n",
       "    }\n",
       "</style>\n",
       "<table border=\"1\" class=\"dataframe\">\n",
       "  <thead>\n",
       "    <tr style=\"text-align: right;\">\n",
       "      <th></th>\n",
       "      <th>Position1</th>\n",
       "      <th>Original_AA1</th>\n",
       "      <th>Mutated_Position1</th>\n",
       "      <th>Mutated_AA1</th>\n",
       "      <th>Position2</th>\n",
       "      <th>Original_AA2</th>\n",
       "      <th>Mutated_Position2</th>\n",
       "      <th>Mutated_AA2</th>\n",
       "      <th>seq</th>\n",
       "    </tr>\n",
       "  </thead>\n",
       "  <tbody>\n",
       "    <tr>\n",
       "      <th>0</th>\n",
       "      <td>1</td>\n",
       "      <td>M</td>\n",
       "      <td>1</td>\n",
       "      <td>A</td>\n",
       "      <td>2</td>\n",
       "      <td>L</td>\n",
       "      <td>2</td>\n",
       "      <td>A</td>\n",
       "      <td>AADMGQDRPIDGSGAPGADDTRVEVQPPAQWVLDLIEASPIASVVS...</td>\n",
       "    </tr>\n",
       "    <tr>\n",
       "      <th>1</th>\n",
       "      <td>1</td>\n",
       "      <td>M</td>\n",
       "      <td>1</td>\n",
       "      <td>A</td>\n",
       "      <td>2</td>\n",
       "      <td>L</td>\n",
       "      <td>2</td>\n",
       "      <td>C</td>\n",
       "      <td>ACDMGQDRPIDGSGAPGADDTRVEVQPPAQWVLDLIEASPIASVVS...</td>\n",
       "    </tr>\n",
       "    <tr>\n",
       "      <th>2</th>\n",
       "      <td>1</td>\n",
       "      <td>M</td>\n",
       "      <td>1</td>\n",
       "      <td>A</td>\n",
       "      <td>2</td>\n",
       "      <td>L</td>\n",
       "      <td>2</td>\n",
       "      <td>D</td>\n",
       "      <td>ADDMGQDRPIDGSGAPGADDTRVEVQPPAQWVLDLIEASPIASVVS...</td>\n",
       "    </tr>\n",
       "    <tr>\n",
       "      <th>3</th>\n",
       "      <td>1</td>\n",
       "      <td>M</td>\n",
       "      <td>1</td>\n",
       "      <td>A</td>\n",
       "      <td>2</td>\n",
       "      <td>L</td>\n",
       "      <td>2</td>\n",
       "      <td>E</td>\n",
       "      <td>AEDMGQDRPIDGSGAPGADDTRVEVQPPAQWVLDLIEASPIASVVS...</td>\n",
       "    </tr>\n",
       "    <tr>\n",
       "      <th>4</th>\n",
       "      <td>1</td>\n",
       "      <td>M</td>\n",
       "      <td>1</td>\n",
       "      <td>A</td>\n",
       "      <td>2</td>\n",
       "      <td>L</td>\n",
       "      <td>2</td>\n",
       "      <td>F</td>\n",
       "      <td>AFDMGQDRPIDGSGAPGADDTRVEVQPPAQWVLDLIEASPIASVVS...</td>\n",
       "    </tr>\n",
       "  </tbody>\n",
       "</table>\n",
       "</div>"
      ],
      "text/plain": [
       "   Position1 Original_AA1  Mutated_Position1 Mutated_AA1  Position2  \\\n",
       "0          1            M                  1           A          2   \n",
       "1          1            M                  1           A          2   \n",
       "2          1            M                  1           A          2   \n",
       "3          1            M                  1           A          2   \n",
       "4          1            M                  1           A          2   \n",
       "\n",
       "  Original_AA2  Mutated_Position2 Mutated_AA2  \\\n",
       "0            L                  2           A   \n",
       "1            L                  2           C   \n",
       "2            L                  2           D   \n",
       "3            L                  2           E   \n",
       "4            L                  2           F   \n",
       "\n",
       "                                                 seq  \n",
       "0  AADMGQDRPIDGSGAPGADDTRVEVQPPAQWVLDLIEASPIASVVS...  \n",
       "1  ACDMGQDRPIDGSGAPGADDTRVEVQPPAQWVLDLIEASPIASVVS...  \n",
       "2  ADDMGQDRPIDGSGAPGADDTRVEVQPPAQWVLDLIEASPIASVVS...  \n",
       "3  AEDMGQDRPIDGSGAPGADDTRVEVQPPAQWVLDLIEASPIASVVS...  \n",
       "4  AFDMGQDRPIDGSGAPGADDTRVEVQPPAQWVLDLIEASPIASVVS...  "
      ]
     },
     "execution_count": 5,
     "metadata": {},
     "output_type": "execute_result"
    }
   ],
   "source": [
    "import pandas as pd\n",
    "\n",
    "def generate_double_mutants(wt_seq):\n",
    "    double_mutants = []\n",
    "    seq_length = len(wt_seq)\n",
    "\n",
    "    for i in range(seq_length):\n",
    "        for j in range(i + 1, seq_length):  # Ensure j > i to avoid duplicate pairs\n",
    "            for amino_acid_i in 'ACDEFGHIKLMNPQRSTVWY':\n",
    "                for amino_acid_j in 'ACDEFGHIKLMNPQRSTVWY':\n",
    "                    if amino_acid_i != wt_seq[i] and amino_acid_j != wt_seq[j]:\n",
    "                        mutated_seq = list(wt_seq)\n",
    "                        mutated_seq[i] = amino_acid_i\n",
    "                        mutated_seq[j] = amino_acid_j\n",
    "                        mutated_seq = ''.join(mutated_seq)\n",
    "\n",
    "                        double_mutant = {\n",
    "                            'Position1': i + 1,\n",
    "                            'Original_AA1': wt_seq[i],\n",
    "                            'Mutated_Position1': i + 1,\n",
    "                            'Mutated_AA1': amino_acid_i,\n",
    "                            'Position2': j + 1,\n",
    "                            'Original_AA2': wt_seq[j],\n",
    "                            'Mutated_Position2': j + 1,\n",
    "                            'Mutated_AA2': amino_acid_j,\n",
    "                            'seq': mutated_seq\n",
    "                        }\n",
    "                        double_mutants.append(double_mutant)\n",
    "\n",
    "    return double_mutants\n",
    "\n",
    "if __name__ == \"__main__\":\n",
    "    wt_seq = 'MLDMGQDRPIDGSGAPGADDTRVEVQPPAQWVLDLIEASPIASVVSDPRLADNPLIAINQAFTDLTGYSEEECVGRNCRFLAGSGTEPWLTDKIRQGVREHKPVLVEILNYKKDGTPFRNAVLVAPIYDDDDELLYFLGSQVEVDDDQPNMGMARRERAAEMLKTLSPRQLEVTTLVASGLRNKEVAARLGLSEKTVKMHRGLVMEKLNLKTSADLVRIAVEAGI'\n",
    "    double_mutants = generate_double_mutants(wt_seq)\n",
    "    \n",
    "    # Create a DataFrame from the mutations list\n",
    "    df2 = pd.DataFrame(double_mutants)\n",
    "\n",
    "    # Reorder the columns\n",
    "    df2 = df2[['Position1', 'Original_AA1', 'Mutated_Position1', 'Mutated_AA1', 'Position2', 'Original_AA2', 'Mutated_Position2', 'Mutated_AA2', 'seq']]\n",
    "\n",
    "    # Save the DataFrame to a CSV file\n",
    "    df2.to_csv('double_mutants.csv', index=False)\n",
    "\n",
    "df2.head()\n"
   ]
  },
  {
   "cell_type": "markdown",
   "metadata": {},
   "source": [
    "##### Remarks"
   ]
  },
  {
   "cell_type": "code",
   "execution_count": 6,
   "metadata": {},
   "outputs": [
    {
     "data": {
      "text/plain": [
       "(9097200, 9)"
      ]
     },
     "execution_count": 6,
     "metadata": {},
     "output_type": "execute_result"
    }
   ],
   "source": [
    "df2.shape"
   ]
  },
  {
   "cell_type": "code",
   "execution_count": 7,
   "metadata": {},
   "outputs": [
    {
     "name": "stdout",
     "output_type": "stream",
     "text": [
      "Number of double mutants (excluding original amino acids): 9097200\n"
     ]
    }
   ],
   "source": [
    "wt_seq = 'MLDMGQDRPIDGSGAPGADDTRVEVQPPAQWVLDLIEASPIASVVSDPRLADNPLIAINQAFTDLTGYSEEECVGRNCRFLAGSGTEPWLTDKIRQGVREHKPVLVEILNYKKDGTPFRNAVLVAPIYDDDDELLYFLGSQVEVDDDQPNMGMARRERAAEMLKTLSPRQLEVTTLVASGLRNKEVAARLGLSEKTVKMHRGLVMEKLNLKTSADLVRIAVEAGI'\n",
    "len_wt_seq = len(wt_seq)\n",
    "number_of_double_mutants = 19**2 * (len_wt_seq * (len_wt_seq - 1)) // 2\n",
    "print(\"Number of double mutants (excluding original amino acids):\", number_of_double_mutants)"
   ]
  },
  {
   "cell_type": "code",
   "execution_count": 3,
   "metadata": {},
   "outputs": [],
   "source": [
    "#Function to split the double_mutants.csv in different file because it is too big to be trained otherwise\n",
    "def split_csv(input_csv_path, output_folder, chunk_size):\n",
    "    \"\"\"\n",
    "    Split a CSV file into smaller chunks.\n",
    "\n",
    "    Parameters:\n",
    "    - input_csv_path: str, the path to the input CSV file.\n",
    "    - output_folder: str, the folder where the smaller CSV files will be saved.\n",
    "    - chunk_size: int, the number of rows in each smaller CSV file.\n",
    "    \"\"\"\n",
    "    # Create the output folder if it doesn't exist\n",
    "    os.makedirs(output_folder, exist_ok=True)\n",
    "\n",
    "    # Read the input CSV file\n",
    "    df = pd.read_csv(input_csv_path)\n",
    "\n",
    "    # Calculate the number of chunks\n",
    "    num_chunks = len(df) // chunk_size\n",
    "\n",
    "    # Split the DataFrame into chunks and save each chunk as a separate CSV file\n",
    "    for i in range(num_chunks):\n",
    "        start_idx = i * chunk_size\n",
    "        end_idx = (i + 1) * chunk_size\n",
    "        chunk_df = df.iloc[start_idx:end_idx, :]\n",
    "        \n",
    "        # Create a file name based on the index\n",
    "        output_csv_path = os.path.join(output_folder, f\"chunk_{i + 1}.csv\")\n",
    "        \n",
    "        # Save the chunk as a CSV file\n",
    "        chunk_df.to_csv(output_csv_path, index=False)\n",
    "\n",
    "    # If there's a remainder, save the last chunk\n",
    "    if len(df) % chunk_size != 0:\n",
    "        last_chunk_df = df.iloc[num_chunks * chunk_size:, :]\n",
    "        output_csv_path = os.path.join(output_folder, f\"chunk_{num_chunks + 1}.csv\")\n",
    "        last_chunk_df.to_csv(output_csv_path, index=False)\n",
    "\n",
    "# Example usage:\n",
    "input_csv_path = 'double_mutants.csv'\n",
    "output_folder = 'data'\n",
    "chunk_size = 500000  # Adjust the chunk size as needed\n",
    "\n",
    "split_csv(input_csv_path, output_folder, chunk_size)\n"
   ]
  },
  {
   "cell_type": "markdown",
   "metadata": {},
   "source": [
    "> "
   ]
  }
 ],
 "metadata": {
  "kernelspec": {
   "display_name": "ada",
   "language": "python",
   "name": "python3"
  },
  "language_info": {
   "codemirror_mode": {
    "name": "ipython",
    "version": 3
   },
   "file_extension": ".py",
   "mimetype": "text/x-python",
   "name": "python",
   "nbconvert_exporter": "python",
   "pygments_lexer": "ipython3",
   "version": "3.8.18"
  }
 },
 "nbformat": 4,
 "nbformat_minor": 2
}
